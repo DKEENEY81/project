{
 "cells": [
  {
   "cell_type": "code",
   "execution_count": 1,
   "metadata": {},
   "outputs": [],
   "source": [
    "import pandas as pd\n",
    "import numpy as np\n",
    "from sklearn.ensemble import GradientBoostingClassifier\n",
    "from sklearn.model_selection import cross_val_score\n",
    "from sklearn import metrics\n",
    "import matplotlib.pylab as plt\n",
    "import PyPDF2\n",
    "import string\n",
    "import re\n",
    "import os\n",
    "import pickle\n",
    "from imblearn.over_sampling import SMOTE\n",
    "from sklearn.feature_extraction.text import TfidfVectorizer\n",
    "from sklearn.model_selection import train_test_split\n",
    "from sklearn.pipeline import Pipeline\n",
    "from sklearn.naive_bayes import MultinomialNB, BernoulliNB\n",
    "from sklearn.linear_model import SGDClassifier\n",
    "from sklearn import metrics\n",
    "from sklearn.metrics import confusion_matrix\n",
    "from nltk.corpus import stopwords\n",
    "from nltk import word_tokenize\n",
    "pd.set_option('display.max_columns', 100)"
   ]
  },
  {
   "cell_type": "code",
   "execution_count": 2,
   "metadata": {},
   "outputs": [],
   "source": [
    "with open('dictionary.pickle', 'rb') as handle:\n",
    "    b = pickle.load(handle)\n",
    "Cases = pd.read_csv('data/Cases2018.csv', encoding='iso-8859-1')"
   ]
  },
  {
   "cell_type": "code",
   "execution_count": 3,
   "metadata": {},
   "outputs": [],
   "source": [
    "#key_to_value_lengths = {k:len(v) for k, v in b.items()}\n",
    "newdict = {k: v for k, v in b.items() if len(v) > 60000}"
   ]
  },
  {
   "cell_type": "code",
   "execution_count": 4,
   "metadata": {},
   "outputs": [],
   "source": [
    "Labels = Cases[['docket','issueArea']]\n",
    "Text = pd.DataFrame.from_dict(newdict, orient=\"index\")"
   ]
  },
  {
   "cell_type": "code",
   "execution_count": 5,
   "metadata": {},
   "outputs": [],
   "source": [
    "Text = Text.rename(index=str, columns={0: \"Document\"})"
   ]
  },
  {
   "cell_type": "code",
   "execution_count": 6,
   "metadata": {
    "scrolled": true
   },
   "outputs": [
    {
     "data": {
      "text/html": [
       "<div>\n",
       "<style scoped>\n",
       "    .dataframe tbody tr th:only-of-type {\n",
       "        vertical-align: middle;\n",
       "    }\n",
       "\n",
       "    .dataframe tbody tr th {\n",
       "        vertical-align: top;\n",
       "    }\n",
       "\n",
       "    .dataframe thead th {\n",
       "        text-align: right;\n",
       "    }\n",
       "</style>\n",
       "<table border=\"1\" class=\"dataframe\">\n",
       "  <thead>\n",
       "    <tr style=\"text-align: right;\">\n",
       "      <th></th>\n",
       "      <th>Document</th>\n",
       "      <th>docket</th>\n",
       "    </tr>\n",
       "  </thead>\n",
       "  <tbody>\n",
       "    <tr>\n",
       "      <th>0</th>\n",
       "      <td>1             IN THE SU...</td>\n",
       "      <td>00-1011</td>\n",
       "    </tr>\n",
       "    <tr>\n",
       "      <th>1</th>\n",
       "      <td>12\\n3\\n4\\n5\\n6\\n7\\n8\\n910\\n11\\n12\\n13\\n14\\n15\\...</td>\n",
       "      <td>00-1021</td>\n",
       "    </tr>\n",
       "    <tr>\n",
       "      <th>2</th>\n",
       "      <td>1                         2    \\n ...</td>\n",
       "      <td>00-1045</td>\n",
       "    </tr>\n",
       "    <tr>\n",
       "      <th>3</th>\n",
       "      <td>12345678910\\n111213141516171819202122232425 IN...</td>\n",
       "      <td>00-10666</td>\n",
       "    </tr>\n",
       "    <tr>\n",
       "      <th>4</th>\n",
       "      <td>12\\n3\\n4\\n5\\n6\\n7\\n8\\n910\\n11\\n12\\n13\\n14\\n15\\...</td>\n",
       "      <td>00-1073</td>\n",
       "    </tr>\n",
       "    <tr>\n",
       "      <th>5</th>\n",
       "      <td>1234\\n5\\n678\\n910\\n11\\n12\\n131415\\n161718\\n19\\...</td>\n",
       "      <td>00-1089</td>\n",
       "    </tr>\n",
       "    <tr>\n",
       "      <th>6</th>\n",
       "      <td>12\\n3\\n4\\n5\\n6\\n7\\n8\\n910\\n11\\n12\\n13\\n14\\n15\\...</td>\n",
       "      <td>00-1167</td>\n",
       "    </tr>\n",
       "    <tr>\n",
       "      <th>7</th>\n",
       "      <td>12\\n3\\n4\\n5\\n6\\n7\\n8\\n910\\n11\\n12\\n13\\n14\\n15\\...</td>\n",
       "      <td>00-1187</td>\n",
       "    </tr>\n",
       "    <tr>\n",
       "      <th>8</th>\n",
       "      <td>1             IN THE SU...</td>\n",
       "      <td>00-121</td>\n",
       "    </tr>\n",
       "    <tr>\n",
       "      <th>9</th>\n",
       "      <td>12\\n3\\n4\\n5\\n6\\n7\\n8\\n910\\n11\\n12\\n13\\n14\\n15\\...</td>\n",
       "      <td>00-1214</td>\n",
       "    </tr>\n",
       "    <tr>\n",
       "      <th>10</th>\n",
       "      <td>12\\n3\\n4\\n5\\n6\\n7\\n8\\n910\\n11\\n12\\n13\\n14\\n15\\...</td>\n",
       "      <td>00-1249</td>\n",
       "    </tr>\n",
       "    <tr>\n",
       "      <th>11</th>\n",
       "      <td>12\\n3\\n4\\n5\\n6\\n7\\n8\\n910\\n11\\n12\\n13\\n14\\n15\\...</td>\n",
       "      <td>00-1250</td>\n",
       "    </tr>\n",
       "    <tr>\n",
       "      <th>12</th>\n",
       "      <td>1234\\n5\\n678\\n910\\n11\\n12\\n131415\\n161718\\n19\\...</td>\n",
       "      <td>00-1260</td>\n",
       "    </tr>\n",
       "    <tr>\n",
       "      <th>13</th>\n",
       "      <td>12\\n3\\n4\\n5\\n6\\n7\\n8\\n910\\n11\\n12\\n13\\n14\\n15\\...</td>\n",
       "      <td>00-1293</td>\n",
       "    </tr>\n",
       "    <tr>\n",
       "      <th>14</th>\n",
       "      <td>1                         2    \\n ...</td>\n",
       "      <td>00-1307</td>\n",
       "    </tr>\n",
       "    <tr>\n",
       "      <th>15</th>\n",
       "      <td>12\\n3\\n4\\n5\\n6\\n7\\n8\\n910\\n11\\n12\\n13\\n14\\n15\\...</td>\n",
       "      <td>00-1406</td>\n",
       "    </tr>\n",
       "    <tr>\n",
       "      <th>16</th>\n",
       "      <td>1234\\n5\\n678\\n910\\n11\\n12\\n131415\\n161718\\n19\\...</td>\n",
       "      <td>00-1471</td>\n",
       "    </tr>\n",
       "    <tr>\n",
       "      <th>17</th>\n",
       "      <td>1             IN THE SU...</td>\n",
       "      <td>00-151</td>\n",
       "    </tr>\n",
       "    <tr>\n",
       "      <th>18</th>\n",
       "      <td>12\\n3\\n4\\n5\\n6\\n7\\n8\\n910\\n11\\n12\\n13\\n14\\n15\\...</td>\n",
       "      <td>00-1514</td>\n",
       "    </tr>\n",
       "    <tr>\n",
       "      <th>19</th>\n",
       "      <td>12\\n3\\n4\\n5\\n6\\n7\\n8\\n910\\n11\\n12\\n13\\n14\\n15\\...</td>\n",
       "      <td>00-1519</td>\n",
       "    </tr>\n",
       "    <tr>\n",
       "      <th>20</th>\n",
       "      <td>1             IN THE SU...</td>\n",
       "      <td>00-152</td>\n",
       "    </tr>\n",
       "    <tr>\n",
       "      <th>21</th>\n",
       "      <td>12\\n3\\n4\\n5\\n6\\n7\\n8\\n910\\n11\\n12\\n13\\n14\\n15\\...</td>\n",
       "      <td>00-1543</td>\n",
       "    </tr>\n",
       "    <tr>\n",
       "      <th>22</th>\n",
       "      <td>12\\n3\\n4\\n5\\n6\\n7\\n8\\n910\\n11\\n12\\n13\\n14\\n15\\...</td>\n",
       "      <td>00-1567</td>\n",
       "    </tr>\n",
       "    <tr>\n",
       "      <th>23</th>\n",
       "      <td>1             IN THE SU...</td>\n",
       "      <td>00-157</td>\n",
       "    </tr>\n",
       "    <tr>\n",
       "      <th>24</th>\n",
       "      <td>12\\n3\\n4\\n5\\n6\\n7\\n8\\n910\\n11\\n12\\n13\\n14\\n15\\...</td>\n",
       "      <td>00-1595</td>\n",
       "    </tr>\n",
       "    <tr>\n",
       "      <th>25</th>\n",
       "      <td>12\\n3\\n4\\n5\\n6\\n7\\n8\\n910\\n11\\n12\\n13\\n14\\n15\\...</td>\n",
       "      <td>00-1614</td>\n",
       "    </tr>\n",
       "    <tr>\n",
       "      <th>26</th>\n",
       "      <td>12\\n3\\n4\\n5\\n6\\n7\\n8\\n910\\n11\\n12\\n13\\n14\\n15\\...</td>\n",
       "      <td>00-1737</td>\n",
       "    </tr>\n",
       "    <tr>\n",
       "      <th>27</th>\n",
       "      <td>1                         2       ...</td>\n",
       "      <td>00-1751</td>\n",
       "    </tr>\n",
       "    <tr>\n",
       "      <th>28</th>\n",
       "      <td>12\\n3\\n4\\n5\\n6\\n7\\n8\\n910\\n11\\n12\\n13\\n14\\n15\\...</td>\n",
       "      <td>00-1770</td>\n",
       "    </tr>\n",
       "    <tr>\n",
       "      <th>29</th>\n",
       "      <td>12\\n3\\n4\\n5\\n6\\n7\\n8\\n910\\n11\\n12\\n13\\n14\\n15\\...</td>\n",
       "      <td>00-1831</td>\n",
       "    </tr>\n",
       "    <tr>\n",
       "      <th>...</th>\n",
       "      <td>...</td>\n",
       "      <td>...</td>\n",
       "    </tr>\n",
       "    <tr>\n",
       "      <th>958</th>\n",
       "      <td>1                         2    \\n ...</td>\n",
       "      <td>99-1786</td>\n",
       "    </tr>\n",
       "    <tr>\n",
       "      <th>959</th>\n",
       "      <td>1             IN THE SUPREME COURT OF THE UNI...</td>\n",
       "      <td>99-1792</td>\n",
       "    </tr>\n",
       "    <tr>\n",
       "      <th>960</th>\n",
       "      <td>1             IN THE SU...</td>\n",
       "      <td>99-1815</td>\n",
       "    </tr>\n",
       "    <tr>\n",
       "      <th>961</th>\n",
       "      <td>1              2    \\n 3    \\n 4     \\n 5    ...</td>\n",
       "      <td>99-1823</td>\n",
       "    </tr>\n",
       "    <tr>\n",
       "      <th>962</th>\n",
       "      <td>1             IN THE SU...</td>\n",
       "      <td>99-1848</td>\n",
       "    </tr>\n",
       "    <tr>\n",
       "      <th>963</th>\n",
       "      <td>1             IN THE SUPREME COURT OF THE UNI...</td>\n",
       "      <td>99-1864</td>\n",
       "    </tr>\n",
       "    <tr>\n",
       "      <th>964</th>\n",
       "      <td>1             IN THE SU...</td>\n",
       "      <td>99-1884</td>\n",
       "    </tr>\n",
       "    <tr>\n",
       "      <th>965</th>\n",
       "      <td>1             IN THE SUPREME COURT OF THE UNI...</td>\n",
       "      <td>99-1908</td>\n",
       "    </tr>\n",
       "    <tr>\n",
       "      <th>966</th>\n",
       "      <td>1             IN THE SUPREME COURT OF THE UNI...</td>\n",
       "      <td>99-1953</td>\n",
       "    </tr>\n",
       "    <tr>\n",
       "      <th>967</th>\n",
       "      <td>1             IN THE SU...</td>\n",
       "      <td>99-1964</td>\n",
       "    </tr>\n",
       "    <tr>\n",
       "      <th>968</th>\n",
       "      <td>1             IN THE SU...</td>\n",
       "      <td>99-1977</td>\n",
       "    </tr>\n",
       "    <tr>\n",
       "      <th>969</th>\n",
       "      <td>1             IN THE SU...</td>\n",
       "      <td>99-1978</td>\n",
       "    </tr>\n",
       "    <tr>\n",
       "      <th>970</th>\n",
       "      <td>1             IN THE SU...</td>\n",
       "      <td>99-1994</td>\n",
       "    </tr>\n",
       "    <tr>\n",
       "      <th>971</th>\n",
       "      <td>1                         2    \\n ...</td>\n",
       "      <td>99-1996</td>\n",
       "    </tr>\n",
       "    <tr>\n",
       "      <th>972</th>\n",
       "      <td>1             IN THE SU...</td>\n",
       "      <td>99-2035</td>\n",
       "    </tr>\n",
       "    <tr>\n",
       "      <th>973</th>\n",
       "      <td>1     IN THE SUPREME CO...</td>\n",
       "      <td>99-2036</td>\n",
       "    </tr>\n",
       "    <tr>\n",
       "      <th>974</th>\n",
       "      <td>1             IN THE SU...</td>\n",
       "      <td>99-2047</td>\n",
       "    </tr>\n",
       "    <tr>\n",
       "      <th>975</th>\n",
       "      <td>1             IN THE SUPREME COURT OF THE UNI...</td>\n",
       "      <td>99-2071</td>\n",
       "    </tr>\n",
       "    <tr>\n",
       "      <th>976</th>\n",
       "      <td>1             IN THE SUPREME COURT OF THE U...</td>\n",
       "      <td>99-603</td>\n",
       "    </tr>\n",
       "    <tr>\n",
       "      <th>977</th>\n",
       "      <td>1             IN THE SUPREME COURT OF THE UNI...</td>\n",
       "      <td>99-6218</td>\n",
       "    </tr>\n",
       "    <tr>\n",
       "      <th>978</th>\n",
       "      <td>1             IN THE SUPREME COURT OF THE UNI...</td>\n",
       "      <td>99-7504</td>\n",
       "    </tr>\n",
       "    <tr>\n",
       "      <th>979</th>\n",
       "      <td>1             IN THE SU...</td>\n",
       "      <td>99-7791</td>\n",
       "    </tr>\n",
       "    <tr>\n",
       "      <th>980</th>\n",
       "      <td>1             IN THE SUPREME COURT OF THE UNI...</td>\n",
       "      <td>99-804</td>\n",
       "    </tr>\n",
       "    <tr>\n",
       "      <th>981</th>\n",
       "      <td>1             IN THE SU...</td>\n",
       "      <td>99-8508</td>\n",
       "    </tr>\n",
       "    <tr>\n",
       "      <th>982</th>\n",
       "      <td>1             IN THE SUPREME COURT OF THE UNI...</td>\n",
       "      <td>99-859</td>\n",
       "    </tr>\n",
       "    <tr>\n",
       "      <th>983</th>\n",
       "      <td>1             IN THE SUPREME COURT OF THE UNI...</td>\n",
       "      <td>99-901</td>\n",
       "    </tr>\n",
       "    <tr>\n",
       "      <th>984</th>\n",
       "      <td>1             IN THE SUPREME COURT OF THE UNI...</td>\n",
       "      <td>99-9073</td>\n",
       "    </tr>\n",
       "    <tr>\n",
       "      <th>985</th>\n",
       "      <td>1             IN THE SUPREME COURT OF THE UNI...</td>\n",
       "      <td>99-9136</td>\n",
       "    </tr>\n",
       "    <tr>\n",
       "      <th>986</th>\n",
       "      <td>1             IN THE SU...</td>\n",
       "      <td>99-929</td>\n",
       "    </tr>\n",
       "    <tr>\n",
       "      <th>987</th>\n",
       "      <td>1             IN THE SUPREME COURT OF THE UNI...</td>\n",
       "      <td>99-936</td>\n",
       "    </tr>\n",
       "  </tbody>\n",
       "</table>\n",
       "<p>988 rows × 2 columns</p>\n",
       "</div>"
      ],
      "text/plain": [
       "                                              Document    docket\n",
       "0                           1             IN THE SU...   00-1011\n",
       "1    12\\n3\\n4\\n5\\n6\\n7\\n8\\n910\\n11\\n12\\n13\\n14\\n15\\...   00-1021\n",
       "2                1                         2    \\n ...   00-1045\n",
       "3    12345678910\\n111213141516171819202122232425 IN...  00-10666\n",
       "4    12\\n3\\n4\\n5\\n6\\n7\\n8\\n910\\n11\\n12\\n13\\n14\\n15\\...   00-1073\n",
       "5    1234\\n5\\n678\\n910\\n11\\n12\\n131415\\n161718\\n19\\...   00-1089\n",
       "6    12\\n3\\n4\\n5\\n6\\n7\\n8\\n910\\n11\\n12\\n13\\n14\\n15\\...   00-1167\n",
       "7    12\\n3\\n4\\n5\\n6\\n7\\n8\\n910\\n11\\n12\\n13\\n14\\n15\\...   00-1187\n",
       "8                           1             IN THE SU...    00-121\n",
       "9    12\\n3\\n4\\n5\\n6\\n7\\n8\\n910\\n11\\n12\\n13\\n14\\n15\\...   00-1214\n",
       "10   12\\n3\\n4\\n5\\n6\\n7\\n8\\n910\\n11\\n12\\n13\\n14\\n15\\...   00-1249\n",
       "11   12\\n3\\n4\\n5\\n6\\n7\\n8\\n910\\n11\\n12\\n13\\n14\\n15\\...   00-1250\n",
       "12   1234\\n5\\n678\\n910\\n11\\n12\\n131415\\n161718\\n19\\...   00-1260\n",
       "13   12\\n3\\n4\\n5\\n6\\n7\\n8\\n910\\n11\\n12\\n13\\n14\\n15\\...   00-1293\n",
       "14               1                         2    \\n ...   00-1307\n",
       "15   12\\n3\\n4\\n5\\n6\\n7\\n8\\n910\\n11\\n12\\n13\\n14\\n15\\...   00-1406\n",
       "16   1234\\n5\\n678\\n910\\n11\\n12\\n131415\\n161718\\n19\\...   00-1471\n",
       "17                          1             IN THE SU...    00-151\n",
       "18   12\\n3\\n4\\n5\\n6\\n7\\n8\\n910\\n11\\n12\\n13\\n14\\n15\\...   00-1514\n",
       "19   12\\n3\\n4\\n5\\n6\\n7\\n8\\n910\\n11\\n12\\n13\\n14\\n15\\...   00-1519\n",
       "20                          1             IN THE SU...    00-152\n",
       "21   12\\n3\\n4\\n5\\n6\\n7\\n8\\n910\\n11\\n12\\n13\\n14\\n15\\...   00-1543\n",
       "22   12\\n3\\n4\\n5\\n6\\n7\\n8\\n910\\n11\\n12\\n13\\n14\\n15\\...   00-1567\n",
       "23                          1             IN THE SU...    00-157\n",
       "24   12\\n3\\n4\\n5\\n6\\n7\\n8\\n910\\n11\\n12\\n13\\n14\\n15\\...   00-1595\n",
       "25   12\\n3\\n4\\n5\\n6\\n7\\n8\\n910\\n11\\n12\\n13\\n14\\n15\\...   00-1614\n",
       "26   12\\n3\\n4\\n5\\n6\\n7\\n8\\n910\\n11\\n12\\n13\\n14\\n15\\...   00-1737\n",
       "27               1                         2       ...   00-1751\n",
       "28   12\\n3\\n4\\n5\\n6\\n7\\n8\\n910\\n11\\n12\\n13\\n14\\n15\\...   00-1770\n",
       "29   12\\n3\\n4\\n5\\n6\\n7\\n8\\n910\\n11\\n12\\n13\\n14\\n15\\...   00-1831\n",
       "..                                                 ...       ...\n",
       "958              1                         2    \\n ...   99-1786\n",
       "959   1             IN THE SUPREME COURT OF THE UNI...   99-1792\n",
       "960                         1             IN THE SU...   99-1815\n",
       "961   1              2    \\n 3    \\n 4     \\n 5    ...   99-1823\n",
       "962                         1             IN THE SU...   99-1848\n",
       "963   1             IN THE SUPREME COURT OF THE UNI...   99-1864\n",
       "964                         1             IN THE SU...   99-1884\n",
       "965   1             IN THE SUPREME COURT OF THE UNI...   99-1908\n",
       "966   1             IN THE SUPREME COURT OF THE UNI...   99-1953\n",
       "967                         1             IN THE SU...   99-1964\n",
       "968                         1             IN THE SU...   99-1977\n",
       "969                         1             IN THE SU...   99-1978\n",
       "970                         1             IN THE SU...   99-1994\n",
       "971              1                         2    \\n ...   99-1996\n",
       "972                         1             IN THE SU...   99-2035\n",
       "973                         1     IN THE SUPREME CO...   99-2036\n",
       "974                         1             IN THE SU...   99-2047\n",
       "975   1             IN THE SUPREME COURT OF THE UNI...   99-2071\n",
       "976     1             IN THE SUPREME COURT OF THE U...    99-603\n",
       "977   1             IN THE SUPREME COURT OF THE UNI...   99-6218\n",
       "978   1             IN THE SUPREME COURT OF THE UNI...   99-7504\n",
       "979                         1             IN THE SU...   99-7791\n",
       "980   1             IN THE SUPREME COURT OF THE UNI...    99-804\n",
       "981                         1             IN THE SU...   99-8508\n",
       "982   1             IN THE SUPREME COURT OF THE UNI...    99-859\n",
       "983   1             IN THE SUPREME COURT OF THE UNI...    99-901\n",
       "984   1             IN THE SUPREME COURT OF THE UNI...   99-9073\n",
       "985   1             IN THE SUPREME COURT OF THE UNI...   99-9136\n",
       "986                         1             IN THE SU...    99-929\n",
       "987   1             IN THE SUPREME COURT OF THE UNI...    99-936\n",
       "\n",
       "[988 rows x 2 columns]"
      ]
     },
     "execution_count": 6,
     "metadata": {},
     "output_type": "execute_result"
    }
   ],
   "source": [
    "Text['docket'] = Text.index\n",
    "Text.reset_index(drop=True)"
   ]
  },
  {
   "cell_type": "code",
   "execution_count": 7,
   "metadata": {},
   "outputs": [],
   "source": [
    "Text = pd.merge(Text, Labels, on='docket', how='inner')\n",
    "Text.dropna(inplace=True)\n",
    "#Text.drop(Text[Text.issueArea>=13.0].index, inplace = True)"
   ]
  },
  {
   "cell_type": "code",
   "execution_count": 8,
   "metadata": {
    "scrolled": true
   },
   "outputs": [],
   "source": [
    "Labels = Text[['issueArea']]\n",
    "Text.drop('issueArea', axis=1, inplace= True)"
   ]
  },
  {
   "cell_type": "code",
   "execution_count": 9,
   "metadata": {},
   "outputs": [],
   "source": [
    "user_defined_stop_words = ['-x','--','x•','n','w','e','washington', 'monday','tuesday','x','v','alderson','petitioner','respondent','reporting','company','supreme','court','united','states','states•','•v','•petitioner'] \n",
    "\n",
    "i = stopwords.words('english')\n",
    "j = list(string.punctuation) + user_defined_stop_words\n",
    "\n",
    "stoplist = set(i).union(j)"
   ]
  },
  {
   "cell_type": "code",
   "execution_count": 10,
   "metadata": {
    "scrolled": true
   },
   "outputs": [],
   "source": [
    "Text['Document'] = Text['Document'].apply(lambda x: \" \".join(x.lower() for x in x.split()))\n",
    "Text['Document'] = Text['Document'].str.replace('[^\\w\\s]',' ')\n",
    "Text['Document'] = Text['Document'].apply(lambda x: \" \".join(x for x in x.split() if x not in stoplist and not x[0].isdigit()))\n"
   ]
  },
  {
   "cell_type": "code",
   "execution_count": 11,
   "metadata": {},
   "outputs": [
    {
     "data": {
      "text/plain": [
       "0    deboris calcano martinez et al petitioner immi...\n",
       "1    rush prudential hmo inc deborah c moran c wedn...\n",
       "2    trw inc adelaide andrew c october entitled mat...\n",
       "3    william joseph harris c march entitled matter ...\n",
       "4    owasso independent school district aka owasso ...\n",
       "Name: Document, dtype: object"
      ]
     },
     "execution_count": 11,
     "metadata": {},
     "output_type": "execute_result"
    }
   ],
   "source": [
    "from textblob import Word\n",
    "Text['Document'] = Text['Document'].apply(lambda x: \" \".join([Word(word).lemmatize() for word in x.split()]))\n",
    "Text['Document'].head()"
   ]
  },
  {
   "cell_type": "code",
   "execution_count": 12,
   "metadata": {},
   "outputs": [],
   "source": [
    "X_train, X_test, y_train, y_test = train_test_split(Text.Document, Labels, test_size=0.25, random_state=23)\n",
    "y_test = np.ravel(y_test)\n",
    "y_train = np.ravel(y_train)"
   ]
  },
  {
   "cell_type": "code",
   "execution_count": 24,
   "metadata": {},
   "outputs": [],
   "source": [
    "vectorizer = TfidfVectorizer(ngram_range=(2, 4), min_df = 2, max_df = .35)\n",
    "X_train_tfidf = vectorizer.fit_transform(X_train)"
   ]
  },
  {
   "cell_type": "code",
   "execution_count": null,
   "metadata": {},
   "outputs": [],
   "source": [
    "#sm = SMOTE(ratio=1,random_state=12)\n",
    "#X_resampled, y_resampled = SMOTE().fit_resample(X_train_tfidf, y_train)"
   ]
  },
  {
   "cell_type": "code",
   "execution_count": null,
   "metadata": {},
   "outputs": [],
   "source": []
  },
  {
   "cell_type": "code",
   "execution_count": null,
   "metadata": {},
   "outputs": [],
   "source": []
  },
  {
   "cell_type": "code",
   "execution_count": 25,
   "metadata": {},
   "outputs": [],
   "source": [
    "from sklearn.naive_bayes import MultinomialNB\n",
    "clf = MultinomialNB(alpha=.001).fit(X_train_tfidf, y_train)"
   ]
  },
  {
   "cell_type": "code",
   "execution_count": 26,
   "metadata": {},
   "outputs": [],
   "source": [
    "X_new_tfidf = vectorizer.transform(X_test)\n",
    "\n",
    "predicted = clf.predict(X_new_tfidf)"
   ]
  },
  {
   "cell_type": "code",
   "execution_count": 27,
   "metadata": {},
   "outputs": [
    {
     "name": "stdout",
     "output_type": "stream",
     "text": [
      "0.6408163265306123\n"
     ]
    }
   ],
   "source": [
    "score2 = metrics.accuracy_score(y_test, predicted)\n",
    "print(score2)"
   ]
  },
  {
   "cell_type": "code",
   "execution_count": null,
   "metadata": {},
   "outputs": [],
   "source": [
    "clf = SGDClassifier(loss='log', penalty='l2',alpha=.001, random_state=23, n_jobs=-1, n_iter = 8200)"
   ]
  },
  {
   "cell_type": "code",
   "execution_count": null,
   "metadata": {},
   "outputs": [],
   "source": [
    "mod2 =  clf.fit(X_resampled, y_resampled)\n",
    "predicted_svm = mod2.predict(X_new_tfidf)\n",
    "score2 = metrics.accuracy_score(y_test, predicted_svm)\n",
    "print(\"accuracy:   %0.3f\" % score2)"
   ]
  },
  {
   "cell_type": "code",
   "execution_count": 18,
   "metadata": {},
   "outputs": [
    {
     "data": {
      "text/plain": [
       "1.0     259\n",
       "8.0     192\n",
       "2.0     161\n",
       "9.0     129\n",
       "10.0     59\n",
       "3.0      58\n",
       "4.0      30\n",
       "5.0      21\n",
       "7.0      19\n",
       "12.0     18\n",
       "6.0      17\n",
       "11.0      9\n",
       "13.0      4\n",
       "14.0      1\n",
       "Name: issueArea, dtype: int64"
      ]
     },
     "execution_count": 18,
     "metadata": {},
     "output_type": "execute_result"
    }
   ],
   "source": [
    "Labels['issueArea'].value_counts()"
   ]
  },
  {
   "cell_type": "code",
   "execution_count": null,
   "metadata": {},
   "outputs": [],
   "source": [
    "y_train"
   ]
  },
  {
   "cell_type": "code",
   "execution_count": 19,
   "metadata": {
    "scrolled": true
   },
   "outputs": [
    {
     "data": {
      "text/plain": [
       "array([ 8.,  2.,  1.,  1.,  4.,  8.,  8.,  1.,  1.,  9.,  8.,  8.,  3.,\n",
       "        1.,  9.,  9., 10.,  8.,  8., 12.,  3.,  4.,  8.,  2.,  3.,  2.,\n",
       "        1.,  4.,  6.,  8.,  2.,  7.,  1.,  8.,  1.,  8.,  2.,  3.,  8.,\n",
       "        8.,  1.,  8., 10.,  8.,  2.,  8.,  4.,  9.,  4.,  1.,  8.,  1.,\n",
       "        2.,  5.,  8., 10.,  1.,  8.,  2., 10.,  9.,  1.,  2.,  4.,  2.,\n",
       "        9.,  1., 10.,  1.,  5.,  3.,  3., 10.,  9.,  8., 12.,  2.,  1.,\n",
       "        2., 10.,  8.,  4.,  3.,  2.,  2.,  9.,  9.,  9., 10.,  9.,  1.,\n",
       "        5.,  9.,  1.,  2.,  1.,  2.,  4.,  1.,  2.,  1.,  8.,  1.,  9.,\n",
       "       10.,  8., 12.,  8.,  9.,  1.,  2.,  1.,  1., 10.,  9.,  9.,  4.,\n",
       "        2.,  5.,  8.,  2.,  6.,  8.,  2., 10.,  2.,  6.,  1.,  1.,  1.,\n",
       "        8.,  8.,  5.,  5.,  1.,  1.,  8.,  1.,  2., 11.,  3.,  9.,  8.,\n",
       "        8.,  2.,  9.,  9.,  8.,  1.,  1.,  2.,  8.,  7.,  1.,  2.,  1.,\n",
       "       11.,  5.,  8.,  3.,  9.,  8.,  2.,  6.,  9.,  8.,  2.,  9.,  8.,\n",
       "        5.,  2.,  9.,  8.,  1.,  1., 13.,  2.,  8.,  3.,  1.,  1.,  3.,\n",
       "        1.,  3.,  1.,  8.,  7.,  1.,  9.,  1., 13.,  9.,  8.,  1.,  3.,\n",
       "        8.,  2.,  8.,  3.,  1.,  2.,  8.,  6.,  9.,  9.,  1.,  9.,  2.,\n",
       "        9.,  8.,  1.,  9.,  2.,  8.,  9.,  8.,  1.,  3.,  2.,  8.,  1.,\n",
       "        1.,  1.,  5.,  1., 10.,  2.,  8.,  8.,  5.,  2.,  8.,  2.,  9.,\n",
       "        2.,  1.,  1.,  7.,  1.,  1.,  8.,  2.,  2.,  1., 12.])"
      ]
     },
     "execution_count": 19,
     "metadata": {},
     "output_type": "execute_result"
    }
   ],
   "source": [
    "y_test"
   ]
  },
  {
   "cell_type": "code",
   "execution_count": 17,
   "metadata": {},
   "outputs": [
    {
     "data": {
      "text/plain": [
       "array([ 8.,  1.,  1.,  1.,  8.,  8.,  8.,  1.,  1.,  8.,  8.,  8.,  3.,\n",
       "        1.,  8.,  8., 10.,  9.,  8.,  8.,  3.,  1.,  9.,  2.,  3.,  2.,\n",
       "        1.,  1.,  8.,  8.,  2.,  8.,  1.,  8.,  1.,  2.,  2.,  3.,  8.,\n",
       "        8.,  1.,  8.,  8.,  8.,  2.,  6.,  1.,  8.,  8.,  1.,  8.,  1.,\n",
       "        1.,  2.,  8.,  8.,  8.,  8.,  1., 10.,  8.,  1.,  2.,  9.,  2.,\n",
       "        1.,  1.,  8.,  1.,  6.,  2.,  3.,  8.,  9.,  8.,  8.,  2.,  1.,\n",
       "        2., 10.,  8.,  8.,  3.,  1.,  2.,  1.,  1.,  2., 10.,  8.,  1.,\n",
       "        1.,  9.,  1.,  9.,  1.,  2.,  4.,  1.,  2.,  1.,  8.,  1.,  2.,\n",
       "        1., 12., 12.,  8.,  3.,  1.,  9.,  1.,  1., 10.,  1.,  9.,  4.,\n",
       "        9.,  8.,  8.,  2.,  8.,  8.,  2.,  8.,  2.,  6.,  1.,  1.,  1.,\n",
       "        8., 10., 10.,  6.,  1.,  1.,  8.,  1.,  9., 11.,  3.,  9.,  9.,\n",
       "        8.,  2.,  1.,  9.,  8.,  1.,  1.,  1.,  8.,  7.,  1.,  2.,  1.,\n",
       "       11.,  8.,  8.,  2.,  2.,  1.,  2.,  8.,  8.,  8.,  2.,  9.,  8.,\n",
       "        5.,  2.,  8.,  9.,  1.,  1.,  8.,  2.,  8.,  3.,  1.,  1.,  3.,\n",
       "        1.,  3.,  8.,  8.,  5.,  1., 10.,  1.,  8.,  1.,  8.,  1.,  3.,\n",
       "        8.,  2.,  8.,  3.,  1.,  2.,  8.,  9.,  8.,  9.,  1.,  8.,  2.,\n",
       "        8.,  8.,  1.,  9.,  9.,  8.,  9.,  9.,  1.,  9.,  1.,  8.,  1.,\n",
       "        9.,  1.,  3.,  1., 10.,  8.,  8.,  8.,  3.,  2.,  8.,  2.,  8.,\n",
       "        1.,  8.,  1.,  2.,  1.,  1.,  8.,  8.,  2.,  1.,  8.])"
      ]
     },
     "execution_count": 17,
     "metadata": {},
     "output_type": "execute_result"
    }
   ],
   "source": [
    "predicted"
   ]
  },
  {
   "cell_type": "code",
   "execution_count": null,
   "metadata": {
    "scrolled": true
   },
   "outputs": [],
   "source": []
  },
  {
   "cell_type": "code",
   "execution_count": null,
   "metadata": {},
   "outputs": [],
   "source": []
  },
  {
   "cell_type": "code",
   "execution_count": null,
   "metadata": {},
   "outputs": [],
   "source": []
  },
  {
   "cell_type": "code",
   "execution_count": null,
   "metadata": {},
   "outputs": [],
   "source": []
  }
 ],
 "metadata": {
  "kernelspec": {
   "display_name": "Python 3",
   "language": "python",
   "name": "python3"
  },
  "language_info": {
   "codemirror_mode": {
    "name": "ipython",
    "version": 3
   },
   "file_extension": ".py",
   "mimetype": "text/x-python",
   "name": "python",
   "nbconvert_exporter": "python",
   "pygments_lexer": "ipython3",
   "version": "3.7.1"
  }
 },
 "nbformat": 4,
 "nbformat_minor": 2
}
