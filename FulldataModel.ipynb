{
 "cells": [
  {
   "cell_type": "code",
   "execution_count": 1,
   "metadata": {},
   "outputs": [],
   "source": [
    "import pandas as pd\n",
    "import numpy as np\n",
    "from sklearn.ensemble import GradientBoostingClassifier\n",
    "from sklearn.model_selection import cross_val_score\n",
    "from sklearn import metrics\n",
    "import matplotlib.pylab as plt\n",
    "\n",
    "from sklearn.model_selection import train_test_split\n",
    "pd.set_option('display.max_columns', 100)"
   ]
  },
  {
   "cell_type": "code",
   "execution_count": 2,
   "metadata": {},
   "outputs": [],
   "source": [
    "Cases = pd.read_csv('data/Cases2018.csv', encoding='iso-8859-1')\n",
    "OldCases = pd.read_csv('data/OldCases.csv', encoding='iso-8859-1')"
   ]
  },
  {
   "cell_type": "code",
   "execution_count": 3,
   "metadata": {},
   "outputs": [],
   "source": [
    "FullCases = Cases.append(OldCases)"
   ]
  },
  {
   "cell_type": "code",
   "execution_count": 4,
   "metadata": {},
   "outputs": [
    {
     "data": {
      "text/html": [
       "<div>\n",
       "<style scoped>\n",
       "    .dataframe tbody tr th:only-of-type {\n",
       "        vertical-align: middle;\n",
       "    }\n",
       "\n",
       "    .dataframe tbody tr th {\n",
       "        vertical-align: top;\n",
       "    }\n",
       "\n",
       "    .dataframe thead th {\n",
       "        text-align: right;\n",
       "    }\n",
       "</style>\n",
       "<table border=\"1\" class=\"dataframe\">\n",
       "  <thead>\n",
       "    <tr style=\"text-align: right;\">\n",
       "      <th></th>\n",
       "      <th>caseId</th>\n",
       "      <th>docketId</th>\n",
       "      <th>caseIssuesId</th>\n",
       "      <th>voteId</th>\n",
       "      <th>dateDecision</th>\n",
       "      <th>decisionType</th>\n",
       "      <th>usCite</th>\n",
       "      <th>sctCite</th>\n",
       "      <th>ledCite</th>\n",
       "      <th>lexisCite</th>\n",
       "      <th>term</th>\n",
       "      <th>naturalCourt</th>\n",
       "      <th>chief</th>\n",
       "      <th>docket</th>\n",
       "      <th>caseName</th>\n",
       "      <th>dateArgument</th>\n",
       "      <th>dateRearg</th>\n",
       "      <th>petitioner</th>\n",
       "      <th>petitionerState</th>\n",
       "      <th>respondent</th>\n",
       "      <th>respondentState</th>\n",
       "      <th>jurisdiction</th>\n",
       "      <th>adminAction</th>\n",
       "      <th>adminActionState</th>\n",
       "      <th>threeJudgeFdc</th>\n",
       "      <th>caseOrigin</th>\n",
       "      <th>caseOriginState</th>\n",
       "      <th>caseSource</th>\n",
       "      <th>caseSourceState</th>\n",
       "      <th>lcDisagreement</th>\n",
       "      <th>certReason</th>\n",
       "      <th>lcDisposition</th>\n",
       "      <th>lcDispositionDirection</th>\n",
       "      <th>declarationUncon</th>\n",
       "      <th>caseDisposition</th>\n",
       "      <th>caseDispositionUnusual</th>\n",
       "      <th>partyWinning</th>\n",
       "      <th>precedentAlteration</th>\n",
       "      <th>voteUnclear</th>\n",
       "      <th>issue</th>\n",
       "      <th>issueArea</th>\n",
       "      <th>decisionDirection</th>\n",
       "      <th>decisionDirectionDissent</th>\n",
       "      <th>authorityDecision1</th>\n",
       "      <th>authorityDecision2</th>\n",
       "      <th>lawType</th>\n",
       "      <th>lawSupp</th>\n",
       "      <th>lawMinor</th>\n",
       "      <th>majOpinWriter</th>\n",
       "      <th>majOpinAssigner</th>\n",
       "      <th>splitVote</th>\n",
       "      <th>majVotes</th>\n",
       "      <th>minVotes</th>\n",
       "    </tr>\n",
       "  </thead>\n",
       "  <tbody>\n",
       "    <tr>\n",
       "      <th>0</th>\n",
       "      <td>1946-001</td>\n",
       "      <td>1946-001-01</td>\n",
       "      <td>1946-001-01-01</td>\n",
       "      <td>1946-001-01-01-01</td>\n",
       "      <td>11/18/1946</td>\n",
       "      <td>1.0</td>\n",
       "      <td>329 U.S. 1</td>\n",
       "      <td>67 S. Ct. 6</td>\n",
       "      <td>91 L. Ed. 3</td>\n",
       "      <td>1946 U.S. LEXIS 1724</td>\n",
       "      <td>1946</td>\n",
       "      <td>1301</td>\n",
       "      <td>Vinson</td>\n",
       "      <td>24</td>\n",
       "      <td>HALLIBURTON OIL WELL CEMENTING CO. v. WALKER e...</td>\n",
       "      <td>1/9/1946</td>\n",
       "      <td>10/23/1946</td>\n",
       "      <td>198.0</td>\n",
       "      <td>NaN</td>\n",
       "      <td>172.0</td>\n",
       "      <td>NaN</td>\n",
       "      <td>6.0</td>\n",
       "      <td>NaN</td>\n",
       "      <td>NaN</td>\n",
       "      <td>0.0</td>\n",
       "      <td>51.0</td>\n",
       "      <td>6.0</td>\n",
       "      <td>29.0</td>\n",
       "      <td>NaN</td>\n",
       "      <td>0.0</td>\n",
       "      <td>11.0</td>\n",
       "      <td>2.0</td>\n",
       "      <td>1.0</td>\n",
       "      <td>1.0</td>\n",
       "      <td>3.0</td>\n",
       "      <td>0.0</td>\n",
       "      <td>1.0</td>\n",
       "      <td>1.0</td>\n",
       "      <td>0.0</td>\n",
       "      <td>80180.0</td>\n",
       "      <td>8.0</td>\n",
       "      <td>2.0</td>\n",
       "      <td>0.0</td>\n",
       "      <td>4.0</td>\n",
       "      <td>NaN</td>\n",
       "      <td>6.0</td>\n",
       "      <td>600.0</td>\n",
       "      <td>35 U.S.C. § 33</td>\n",
       "      <td>78.0</td>\n",
       "      <td>78.0</td>\n",
       "      <td>1</td>\n",
       "      <td>8</td>\n",
       "      <td>1</td>\n",
       "    </tr>\n",
       "    <tr>\n",
       "      <th>1</th>\n",
       "      <td>1946-002</td>\n",
       "      <td>1946-002-01</td>\n",
       "      <td>1946-002-01-01</td>\n",
       "      <td>1946-002-01-01-01</td>\n",
       "      <td>11/18/1946</td>\n",
       "      <td>1.0</td>\n",
       "      <td>329 U.S. 14</td>\n",
       "      <td>67 S. Ct. 13</td>\n",
       "      <td>91 L. Ed. 12</td>\n",
       "      <td>1946 U.S. LEXIS 1725</td>\n",
       "      <td>1946</td>\n",
       "      <td>1301</td>\n",
       "      <td>Vinson</td>\n",
       "      <td>12</td>\n",
       "      <td>CLEVELAND v. UNITED STATES</td>\n",
       "      <td>10/10/1945</td>\n",
       "      <td>10/17/1946</td>\n",
       "      <td>100.0</td>\n",
       "      <td>NaN</td>\n",
       "      <td>27.0</td>\n",
       "      <td>NaN</td>\n",
       "      <td>1.0</td>\n",
       "      <td>NaN</td>\n",
       "      <td>NaN</td>\n",
       "      <td>0.0</td>\n",
       "      <td>123.0</td>\n",
       "      <td>52.0</td>\n",
       "      <td>30.0</td>\n",
       "      <td>NaN</td>\n",
       "      <td>0.0</td>\n",
       "      <td>4.0</td>\n",
       "      <td>2.0</td>\n",
       "      <td>1.0</td>\n",
       "      <td>1.0</td>\n",
       "      <td>2.0</td>\n",
       "      <td>0.0</td>\n",
       "      <td>0.0</td>\n",
       "      <td>0.0</td>\n",
       "      <td>0.0</td>\n",
       "      <td>10500.0</td>\n",
       "      <td>1.0</td>\n",
       "      <td>1.0</td>\n",
       "      <td>0.0</td>\n",
       "      <td>4.0</td>\n",
       "      <td>NaN</td>\n",
       "      <td>6.0</td>\n",
       "      <td>600.0</td>\n",
       "      <td>18 U.S.C. § 398</td>\n",
       "      <td>81.0</td>\n",
       "      <td>87.0</td>\n",
       "      <td>1</td>\n",
       "      <td>6</td>\n",
       "      <td>3</td>\n",
       "    </tr>\n",
       "    <tr>\n",
       "      <th>2</th>\n",
       "      <td>1946-003</td>\n",
       "      <td>1946-003-01</td>\n",
       "      <td>1946-003-01-01</td>\n",
       "      <td>1946-003-01-01-01</td>\n",
       "      <td>11/18/1946</td>\n",
       "      <td>1.0</td>\n",
       "      <td>329 U.S. 29</td>\n",
       "      <td>67 S. Ct. 1</td>\n",
       "      <td>91 L. Ed. 22</td>\n",
       "      <td>1946 U.S. LEXIS 3037</td>\n",
       "      <td>1946</td>\n",
       "      <td>1301</td>\n",
       "      <td>Vinson</td>\n",
       "      <td>21</td>\n",
       "      <td>CHAMPLIN REFINING CO. v. UNITED STATES ET AL.</td>\n",
       "      <td>11/8/1945</td>\n",
       "      <td>10/18/1946</td>\n",
       "      <td>209.0</td>\n",
       "      <td>NaN</td>\n",
       "      <td>27.0</td>\n",
       "      <td>NaN</td>\n",
       "      <td>2.0</td>\n",
       "      <td>66.0</td>\n",
       "      <td>NaN</td>\n",
       "      <td>1.0</td>\n",
       "      <td>107.0</td>\n",
       "      <td>42.0</td>\n",
       "      <td>107.0</td>\n",
       "      <td>42.0</td>\n",
       "      <td>0.0</td>\n",
       "      <td>1.0</td>\n",
       "      <td>NaN</td>\n",
       "      <td>2.0</td>\n",
       "      <td>1.0</td>\n",
       "      <td>2.0</td>\n",
       "      <td>0.0</td>\n",
       "      <td>0.0</td>\n",
       "      <td>0.0</td>\n",
       "      <td>0.0</td>\n",
       "      <td>80250.0</td>\n",
       "      <td>8.0</td>\n",
       "      <td>2.0</td>\n",
       "      <td>0.0</td>\n",
       "      <td>1.0</td>\n",
       "      <td>NaN</td>\n",
       "      <td>2.0</td>\n",
       "      <td>207.0</td>\n",
       "      <td>NaN</td>\n",
       "      <td>84.0</td>\n",
       "      <td>78.0</td>\n",
       "      <td>1</td>\n",
       "      <td>5</td>\n",
       "      <td>4</td>\n",
       "    </tr>\n",
       "    <tr>\n",
       "      <th>3</th>\n",
       "      <td>1946-004</td>\n",
       "      <td>1946-004-01</td>\n",
       "      <td>1946-004-01-01</td>\n",
       "      <td>1946-004-01-01-01</td>\n",
       "      <td>11/25/1946</td>\n",
       "      <td>7.0</td>\n",
       "      <td>329 U.S. 40</td>\n",
       "      <td>67 S. Ct. 167</td>\n",
       "      <td>91 L. Ed. 29</td>\n",
       "      <td>1946 U.S. LEXIS 1696</td>\n",
       "      <td>1946</td>\n",
       "      <td>1301</td>\n",
       "      <td>Vinson</td>\n",
       "      <td>26</td>\n",
       "      <td>UNITED STATES v. ALCEA BAND OF TILLAMOOKS ET AL.</td>\n",
       "      <td>1/31/1946</td>\n",
       "      <td>10/25/1946</td>\n",
       "      <td>27.0</td>\n",
       "      <td>NaN</td>\n",
       "      <td>170.0</td>\n",
       "      <td>NaN</td>\n",
       "      <td>1.0</td>\n",
       "      <td>67.0</td>\n",
       "      <td>NaN</td>\n",
       "      <td>0.0</td>\n",
       "      <td>3.0</td>\n",
       "      <td>NaN</td>\n",
       "      <td>3.0</td>\n",
       "      <td>NaN</td>\n",
       "      <td>0.0</td>\n",
       "      <td>10.0</td>\n",
       "      <td>NaN</td>\n",
       "      <td>2.0</td>\n",
       "      <td>1.0</td>\n",
       "      <td>2.0</td>\n",
       "      <td>0.0</td>\n",
       "      <td>0.0</td>\n",
       "      <td>0.0</td>\n",
       "      <td>0.0</td>\n",
       "      <td>20150.0</td>\n",
       "      <td>2.0</td>\n",
       "      <td>2.0</td>\n",
       "      <td>0.0</td>\n",
       "      <td>4.0</td>\n",
       "      <td>NaN</td>\n",
       "      <td>6.0</td>\n",
       "      <td>600.0</td>\n",
       "      <td>49 Stat. 801</td>\n",
       "      <td>87.0</td>\n",
       "      <td>87.0</td>\n",
       "      <td>1</td>\n",
       "      <td>5</td>\n",
       "      <td>3</td>\n",
       "    </tr>\n",
       "    <tr>\n",
       "      <th>4</th>\n",
       "      <td>1946-005</td>\n",
       "      <td>1946-005-01</td>\n",
       "      <td>1946-005-01-01</td>\n",
       "      <td>1946-005-01-01-01</td>\n",
       "      <td>11/25/1946</td>\n",
       "      <td>1.0</td>\n",
       "      <td>329 U.S. 64</td>\n",
       "      <td>67 S. Ct. 154</td>\n",
       "      <td>91 L. Ed. 44</td>\n",
       "      <td>1946 U.S. LEXIS 2997</td>\n",
       "      <td>1946</td>\n",
       "      <td>1301</td>\n",
       "      <td>Vinson</td>\n",
       "      <td>50</td>\n",
       "      <td>UNITED STATES v. HOWARD P. FOLEY CO., INC.</td>\n",
       "      <td>10/25/1946</td>\n",
       "      <td>NaN</td>\n",
       "      <td>27.0</td>\n",
       "      <td>NaN</td>\n",
       "      <td>176.0</td>\n",
       "      <td>NaN</td>\n",
       "      <td>1.0</td>\n",
       "      <td>NaN</td>\n",
       "      <td>NaN</td>\n",
       "      <td>0.0</td>\n",
       "      <td>3.0</td>\n",
       "      <td>NaN</td>\n",
       "      <td>3.0</td>\n",
       "      <td>NaN</td>\n",
       "      <td>0.0</td>\n",
       "      <td>2.0</td>\n",
       "      <td>NaN</td>\n",
       "      <td>2.0</td>\n",
       "      <td>1.0</td>\n",
       "      <td>3.0</td>\n",
       "      <td>0.0</td>\n",
       "      <td>1.0</td>\n",
       "      <td>0.0</td>\n",
       "      <td>0.0</td>\n",
       "      <td>80060.0</td>\n",
       "      <td>8.0</td>\n",
       "      <td>2.0</td>\n",
       "      <td>0.0</td>\n",
       "      <td>7.0</td>\n",
       "      <td>NaN</td>\n",
       "      <td>NaN</td>\n",
       "      <td>NaN</td>\n",
       "      <td>NaN</td>\n",
       "      <td>78.0</td>\n",
       "      <td>87.0</td>\n",
       "      <td>1</td>\n",
       "      <td>6</td>\n",
       "      <td>3</td>\n",
       "    </tr>\n",
       "  </tbody>\n",
       "</table>\n",
       "</div>"
      ],
      "text/plain": [
       "     caseId     docketId    caseIssuesId             voteId dateDecision  \\\n",
       "0  1946-001  1946-001-01  1946-001-01-01  1946-001-01-01-01   11/18/1946   \n",
       "1  1946-002  1946-002-01  1946-002-01-01  1946-002-01-01-01   11/18/1946   \n",
       "2  1946-003  1946-003-01  1946-003-01-01  1946-003-01-01-01   11/18/1946   \n",
       "3  1946-004  1946-004-01  1946-004-01-01  1946-004-01-01-01   11/25/1946   \n",
       "4  1946-005  1946-005-01  1946-005-01-01  1946-005-01-01-01   11/25/1946   \n",
       "\n",
       "   decisionType       usCite        sctCite       ledCite  \\\n",
       "0           1.0   329 U.S. 1    67 S. Ct. 6   91 L. Ed. 3   \n",
       "1           1.0  329 U.S. 14   67 S. Ct. 13  91 L. Ed. 12   \n",
       "2           1.0  329 U.S. 29    67 S. Ct. 1  91 L. Ed. 22   \n",
       "3           7.0  329 U.S. 40  67 S. Ct. 167  91 L. Ed. 29   \n",
       "4           1.0  329 U.S. 64  67 S. Ct. 154  91 L. Ed. 44   \n",
       "\n",
       "              lexisCite  term  naturalCourt   chief docket  \\\n",
       "0  1946 U.S. LEXIS 1724  1946          1301  Vinson     24   \n",
       "1  1946 U.S. LEXIS 1725  1946          1301  Vinson     12   \n",
       "2  1946 U.S. LEXIS 3037  1946          1301  Vinson     21   \n",
       "3  1946 U.S. LEXIS 1696  1946          1301  Vinson     26   \n",
       "4  1946 U.S. LEXIS 2997  1946          1301  Vinson     50   \n",
       "\n",
       "                                            caseName dateArgument   dateRearg  \\\n",
       "0  HALLIBURTON OIL WELL CEMENTING CO. v. WALKER e...     1/9/1946  10/23/1946   \n",
       "1                         CLEVELAND v. UNITED STATES   10/10/1945  10/17/1946   \n",
       "2      CHAMPLIN REFINING CO. v. UNITED STATES ET AL.    11/8/1945  10/18/1946   \n",
       "3   UNITED STATES v. ALCEA BAND OF TILLAMOOKS ET AL.    1/31/1946  10/25/1946   \n",
       "4         UNITED STATES v. HOWARD P. FOLEY CO., INC.   10/25/1946         NaN   \n",
       "\n",
       "   petitioner  petitionerState  respondent  respondentState  jurisdiction  \\\n",
       "0       198.0              NaN       172.0              NaN           6.0   \n",
       "1       100.0              NaN        27.0              NaN           1.0   \n",
       "2       209.0              NaN        27.0              NaN           2.0   \n",
       "3        27.0              NaN       170.0              NaN           1.0   \n",
       "4        27.0              NaN       176.0              NaN           1.0   \n",
       "\n",
       "   adminAction  adminActionState  threeJudgeFdc  caseOrigin  caseOriginState  \\\n",
       "0          NaN               NaN            0.0        51.0              6.0   \n",
       "1          NaN               NaN            0.0       123.0             52.0   \n",
       "2         66.0               NaN            1.0       107.0             42.0   \n",
       "3         67.0               NaN            0.0         3.0              NaN   \n",
       "4          NaN               NaN            0.0         3.0              NaN   \n",
       "\n",
       "   caseSource  caseSourceState  lcDisagreement  certReason  lcDisposition  \\\n",
       "0        29.0              NaN             0.0        11.0            2.0   \n",
       "1        30.0              NaN             0.0         4.0            2.0   \n",
       "2       107.0             42.0             0.0         1.0            NaN   \n",
       "3         3.0              NaN             0.0        10.0            NaN   \n",
       "4         3.0              NaN             0.0         2.0            NaN   \n",
       "\n",
       "   lcDispositionDirection  declarationUncon  caseDisposition  \\\n",
       "0                     1.0               1.0              3.0   \n",
       "1                     1.0               1.0              2.0   \n",
       "2                     2.0               1.0              2.0   \n",
       "3                     2.0               1.0              2.0   \n",
       "4                     2.0               1.0              3.0   \n",
       "\n",
       "   caseDispositionUnusual  partyWinning  precedentAlteration  voteUnclear  \\\n",
       "0                     0.0           1.0                  1.0          0.0   \n",
       "1                     0.0           0.0                  0.0          0.0   \n",
       "2                     0.0           0.0                  0.0          0.0   \n",
       "3                     0.0           0.0                  0.0          0.0   \n",
       "4                     0.0           1.0                  0.0          0.0   \n",
       "\n",
       "     issue  issueArea  decisionDirection  decisionDirectionDissent  \\\n",
       "0  80180.0        8.0                2.0                       0.0   \n",
       "1  10500.0        1.0                1.0                       0.0   \n",
       "2  80250.0        8.0                2.0                       0.0   \n",
       "3  20150.0        2.0                2.0                       0.0   \n",
       "4  80060.0        8.0                2.0                       0.0   \n",
       "\n",
       "   authorityDecision1  authorityDecision2  lawType  lawSupp         lawMinor  \\\n",
       "0                 4.0                 NaN      6.0    600.0   35 U.S.C. § 33   \n",
       "1                 4.0                 NaN      6.0    600.0  18 U.S.C. § 398   \n",
       "2                 1.0                 NaN      2.0    207.0              NaN   \n",
       "3                 4.0                 NaN      6.0    600.0     49 Stat. 801   \n",
       "4                 7.0                 NaN      NaN      NaN              NaN   \n",
       "\n",
       "   majOpinWriter  majOpinAssigner  splitVote  majVotes  minVotes  \n",
       "0           78.0             78.0          1         8         1  \n",
       "1           81.0             87.0          1         6         3  \n",
       "2           84.0             78.0          1         5         4  \n",
       "3           87.0             87.0          1         5         3  \n",
       "4           78.0             87.0          1         6         3  "
      ]
     },
     "execution_count": 4,
     "metadata": {},
     "output_type": "execute_result"
    }
   ],
   "source": [
    "FullCases.head()"
   ]
  },
  {
   "cell_type": "code",
   "execution_count": 5,
   "metadata": {},
   "outputs": [],
   "source": [
    "unneeded =FullCases[['caseId','adminActionState','caseOriginState','caseSourceState','docketId','lexisCite','term','naturalCourt','docket','chief','caseName','caseIssuesId','voteId','dateDecision', 'decisionType','usCite','sctCite','ledCite', 'issue','issueArea','decisionDirection','decisionDirectionDissent','authorityDecision1','authorityDecision2','lawType','lawSupp','lawMinor','majOpinWriter','majOpinAssigner']]\n",
    "labels =FullCases[['declarationUncon', 'caseDisposition', 'caseDispositionUnusual','partyWinning', 'precedentAlteration','voteUnclear','splitVote','majVotes','minVotes']]"
   ]
  },
  {
   "cell_type": "code",
   "execution_count": 6,
   "metadata": {},
   "outputs": [],
   "source": [
    "FullCases.drop(unneeded, axis=1, inplace=True)\n",
    "FullCases.drop(labels, axis=1, inplace=True)"
   ]
  },
  {
   "cell_type": "code",
   "execution_count": 7,
   "metadata": {},
   "outputs": [],
   "source": [
    "FullCases[['dateArgument','dateRearg']]=FullCases[['dateArgument', 'dateRearg']].notnull().astype(int)\n",
    "FullCases['jurisdiction'] = np.where((FullCases['jurisdiction'] == 2.0) | (FullCases['jurisdiction']==13.0), 1, 0)"
   ]
  },
  {
   "cell_type": "code",
   "execution_count": 10,
   "metadata": {},
   "outputs": [
    {
     "data": {
      "text/html": [
       "<div>\n",
       "<style scoped>\n",
       "    .dataframe tbody tr th:only-of-type {\n",
       "        vertical-align: middle;\n",
       "    }\n",
       "\n",
       "    .dataframe tbody tr th {\n",
       "        vertical-align: top;\n",
       "    }\n",
       "\n",
       "    .dataframe thead th {\n",
       "        text-align: right;\n",
       "    }\n",
       "</style>\n",
       "<table border=\"1\" class=\"dataframe\">\n",
       "  <thead>\n",
       "    <tr style=\"text-align: right;\">\n",
       "      <th></th>\n",
       "      <th>dateArgument</th>\n",
       "      <th>dateRearg</th>\n",
       "      <th>petitioner</th>\n",
       "      <th>petitionerState</th>\n",
       "      <th>respondent</th>\n",
       "      <th>respondentState</th>\n",
       "      <th>jurisdiction</th>\n",
       "      <th>adminAction</th>\n",
       "      <th>threeJudgeFdc</th>\n",
       "      <th>caseOrigin</th>\n",
       "      <th>caseSource</th>\n",
       "      <th>lcDisagreement</th>\n",
       "      <th>certReason</th>\n",
       "      <th>lcDisposition</th>\n",
       "      <th>lcDispositionDirection</th>\n",
       "    </tr>\n",
       "  </thead>\n",
       "  <tbody>\n",
       "    <tr>\n",
       "      <th>0</th>\n",
       "      <td>1</td>\n",
       "      <td>1</td>\n",
       "      <td>198.0</td>\n",
       "      <td>0.0</td>\n",
       "      <td>172.0</td>\n",
       "      <td>0.0</td>\n",
       "      <td>0</td>\n",
       "      <td>118.0</td>\n",
       "      <td>0.0</td>\n",
       "      <td>51.0</td>\n",
       "      <td>29.0</td>\n",
       "      <td>0.0</td>\n",
       "      <td>11.0</td>\n",
       "      <td>2.0</td>\n",
       "      <td>1.0</td>\n",
       "    </tr>\n",
       "    <tr>\n",
       "      <th>1</th>\n",
       "      <td>1</td>\n",
       "      <td>1</td>\n",
       "      <td>100.0</td>\n",
       "      <td>0.0</td>\n",
       "      <td>27.0</td>\n",
       "      <td>0.0</td>\n",
       "      <td>0</td>\n",
       "      <td>118.0</td>\n",
       "      <td>0.0</td>\n",
       "      <td>123.0</td>\n",
       "      <td>30.0</td>\n",
       "      <td>0.0</td>\n",
       "      <td>4.0</td>\n",
       "      <td>2.0</td>\n",
       "      <td>1.0</td>\n",
       "    </tr>\n",
       "    <tr>\n",
       "      <th>2</th>\n",
       "      <td>1</td>\n",
       "      <td>1</td>\n",
       "      <td>209.0</td>\n",
       "      <td>0.0</td>\n",
       "      <td>27.0</td>\n",
       "      <td>0.0</td>\n",
       "      <td>1</td>\n",
       "      <td>66.0</td>\n",
       "      <td>1.0</td>\n",
       "      <td>107.0</td>\n",
       "      <td>107.0</td>\n",
       "      <td>0.0</td>\n",
       "      <td>1.0</td>\n",
       "      <td>0.0</td>\n",
       "      <td>2.0</td>\n",
       "    </tr>\n",
       "    <tr>\n",
       "      <th>3</th>\n",
       "      <td>1</td>\n",
       "      <td>1</td>\n",
       "      <td>27.0</td>\n",
       "      <td>0.0</td>\n",
       "      <td>170.0</td>\n",
       "      <td>0.0</td>\n",
       "      <td>0</td>\n",
       "      <td>67.0</td>\n",
       "      <td>0.0</td>\n",
       "      <td>3.0</td>\n",
       "      <td>3.0</td>\n",
       "      <td>0.0</td>\n",
       "      <td>10.0</td>\n",
       "      <td>0.0</td>\n",
       "      <td>2.0</td>\n",
       "    </tr>\n",
       "    <tr>\n",
       "      <th>4</th>\n",
       "      <td>1</td>\n",
       "      <td>0</td>\n",
       "      <td>27.0</td>\n",
       "      <td>0.0</td>\n",
       "      <td>176.0</td>\n",
       "      <td>0.0</td>\n",
       "      <td>0</td>\n",
       "      <td>118.0</td>\n",
       "      <td>0.0</td>\n",
       "      <td>3.0</td>\n",
       "      <td>3.0</td>\n",
       "      <td>0.0</td>\n",
       "      <td>2.0</td>\n",
       "      <td>0.0</td>\n",
       "      <td>2.0</td>\n",
       "    </tr>\n",
       "  </tbody>\n",
       "</table>\n",
       "</div>"
      ],
      "text/plain": [
       "   dateArgument  dateRearg  petitioner  petitionerState  respondent  \\\n",
       "0             1          1       198.0              0.0       172.0   \n",
       "1             1          1       100.0              0.0        27.0   \n",
       "2             1          1       209.0              0.0        27.0   \n",
       "3             1          1        27.0              0.0       170.0   \n",
       "4             1          0        27.0              0.0       176.0   \n",
       "\n",
       "   respondentState  jurisdiction  adminAction  threeJudgeFdc  caseOrigin  \\\n",
       "0              0.0             0        118.0            0.0        51.0   \n",
       "1              0.0             0        118.0            0.0       123.0   \n",
       "2              0.0             1         66.0            1.0       107.0   \n",
       "3              0.0             0         67.0            0.0         3.0   \n",
       "4              0.0             0        118.0            0.0         3.0   \n",
       "\n",
       "   caseSource  lcDisagreement  certReason  lcDisposition  \\\n",
       "0        29.0             0.0        11.0            2.0   \n",
       "1        30.0             0.0         4.0            2.0   \n",
       "2       107.0             0.0         1.0            0.0   \n",
       "3         3.0             0.0        10.0            0.0   \n",
       "4         3.0             0.0         2.0            0.0   \n",
       "\n",
       "   lcDispositionDirection  \n",
       "0                     1.0  \n",
       "1                     1.0  \n",
       "2                     2.0  \n",
       "3                     2.0  \n",
       "4                     2.0  "
      ]
     },
     "execution_count": 10,
     "metadata": {},
     "output_type": "execute_result"
    }
   ],
   "source": [
    "FullCases.head()"
   ]
  },
  {
   "cell_type": "code",
   "execution_count": 9,
   "metadata": {},
   "outputs": [],
   "source": [
    "FullCases[['petitionerState','threeJudgeFdc','respondentState',]] = FullCases[['petitionerState','threeJudgeFdc','respondentState',]].fillna(value=0.0)\n",
    "FullCases['respondent'] = FullCases[['respondent']].fillna(value=501)# There was already a code for unidentfiable which i reused for NaN here\n",
    "FullCases['adminAction'] = FullCases[['adminAction']].fillna(value=118.0)# There was already a code for unidentfiable which i reused for NaN here\n",
    "FullCases['caseOrigin'] = FullCases[['caseOrigin']].fillna(value=0.0)#meaning originated in supreme court\n",
    "FullCases['caseSource'] = FullCases[['caseSource']].fillna(value=0.0)##meaning originated in supreme court\n",
    "#FullCases['caseOriginState'] = FullCases[['caseOriginState']].fillna(value=0.0)\n",
    "#FullCases['caseSourceState'] = FullCases[['caseSourceState']].fillna(value=0.0)\n",
    "FullCases['lcDisagreement'] = FullCases[['lcDisagreement']].fillna(value=0.0)\n",
    "FullCases['certReason'] = FullCases[['certReason']].fillna(value=12)\n",
    "FullCases['lcDisposition'] = FullCases[['lcDisposition']].fillna(value=0.0)\n",
    "FullCases['lcDispositionDirection'] = FullCases[['lcDispositionDirection']].fillna(value=3.0)"
   ]
  },
  {
   "cell_type": "code",
   "execution_count": 11,
   "metadata": {},
   "outputs": [],
   "source": [
    "finalLabels = labels['partyWinning']\n",
    "FullCases['result'] = labels['partyWinning']"
   ]
  },
  {
   "cell_type": "code",
   "execution_count": 12,
   "metadata": {},
   "outputs": [],
   "source": [
    "FullCases['result'] = FullCases[['result']].fillna(value=2.0)"
   ]
  },
  {
   "cell_type": "code",
   "execution_count": 13,
   "metadata": {},
   "outputs": [],
   "source": [
    "FullCases.drop(FullCases[FullCases.result==2.0].index, inplace = True)"
   ]
  },
  {
   "cell_type": "code",
   "execution_count": 14,
   "metadata": {},
   "outputs": [],
   "source": [
    "labels2 = FullCases[['result']]"
   ]
  },
  {
   "cell_type": "code",
   "execution_count": 15,
   "metadata": {},
   "outputs": [],
   "source": [
    "FullCases.drop('result', axis=1, inplace=True)"
   ]
  },
  {
   "cell_type": "code",
   "execution_count": 16,
   "metadata": {},
   "outputs": [],
   "source": [
    "def cats(DF):\n",
    "    for i in DF.columns:\n",
    "        DF[i] = pd.Categorical(DF[i])\n",
    "    return DF"
   ]
  },
  {
   "cell_type": "code",
   "execution_count": 17,
   "metadata": {},
   "outputs": [],
   "source": [
    "cats(FullCases)\n",
    "FullCases2 = FullCases"
   ]
  },
  {
   "cell_type": "code",
   "execution_count": 18,
   "metadata": {},
   "outputs": [],
   "source": [
    "binCols = ['dateArgument','jurisdiction', 'dateRearg','threeJudgeFdc','lcDisagreement']\n",
    "# Takes all 14 other columns\n",
    "dummy_cols = list(set(FullCases2.columns) - set(binCols))"
   ]
  },
  {
   "cell_type": "code",
   "execution_count": 19,
   "metadata": {},
   "outputs": [],
   "source": [
    "FullCases2 = pd.get_dummies(FullCases2, columns=dummy_cols, drop_first=True)"
   ]
  },
  {
   "cell_type": "code",
   "execution_count": 20,
   "metadata": {},
   "outputs": [],
   "source": [
    "X_train, X_test, y_train, y_test = train_test_split(FullCases2, labels2, test_size=0.2, random_state=23)"
   ]
  },
  {
   "cell_type": "code",
   "execution_count": 21,
   "metadata": {},
   "outputs": [],
   "source": [
    "y_test = np.ravel(y_test)\n",
    "y_train = np.ravel(y_train)"
   ]
  },
  {
   "cell_type": "code",
   "execution_count": 30,
   "metadata": {},
   "outputs": [],
   "source": [
    "params = {'n_estimators': 2000, 'learning_rate': 0.001, 'random_state':23, 'max_depth' :5}\n",
    "GBC = GradientBoostingClassifier(**params)"
   ]
  },
  {
   "cell_type": "code",
   "execution_count": 36,
   "metadata": {},
   "outputs": [
    {
     "data": {
      "text/plain": [
       "GradientBoostingClassifier(criterion='friedman_mse', init=None,\n",
       "              learning_rate=0.001, loss='deviance', max_depth=5,\n",
       "              max_features=None, max_leaf_nodes=None,\n",
       "              min_impurity_decrease=0.0, min_impurity_split=None,\n",
       "              min_samples_leaf=1, min_samples_split=2,\n",
       "              min_weight_fraction_leaf=0.0, n_estimators=600,\n",
       "              n_iter_no_change=None, presort='auto', random_state=23,\n",
       "              subsample=1.0, tol=0.0001, validation_fraction=0.1,\n",
       "              verbose=0, warm_start=False)"
      ]
     },
     "execution_count": 36,
     "metadata": {},
     "output_type": "execute_result"
    }
   ],
   "source": [
    "GBC2.fit(X_train, y_train)"
   ]
  },
  {
   "cell_type": "code",
   "execution_count": 37,
   "metadata": {},
   "outputs": [
    {
     "data": {
      "text/plain": [
       "(0.6288659793814433, 0.6751220835594139)"
      ]
     },
     "execution_count": 37,
     "metadata": {},
     "output_type": "execute_result"
    }
   ],
   "source": [
    "GBC2.score(X_test, y_test), GBC.score(X_train, y_train)"
   ]
  },
  {
   "cell_type": "code",
   "execution_count": 33,
   "metadata": {},
   "outputs": [
    {
     "data": {
      "text/plain": [
       "Text(0, 0.5, 'Deviance')"
      ]
     },
     "execution_count": 33,
     "metadata": {},
     "output_type": "execute_result"
    },
    {
     "data": {
      "image/png": "[encoded data removed]",
      "text/plain": [
       "<Figure size 864x432 with 1 Axes>"
      ]
     },
     "metadata": {
      "needs_background": "light"
     },
     "output_type": "display_data"
    }
   ],
   "source": [
    "test_score = np.zeros((params['n_estimators'],), dtype=np.float64)\n",
    "\n",
    "for i, y_pred in enumerate(GBC.staged_predict(X_test)):\n",
    "    test_score[i] = GBC.loss_(y_test, y_pred)\n",
    "\n",
    "plt.figure(figsize=(12, 6))\n",
    "plt.subplot(1, 2, 1)\n",
    "plt.title('Deviance')\n",
    "plt.plot(np.arange(params['n_estimators']) + 1, GBC.train_score_, 'b-',\n",
    "         label='Training Set Deviance')\n",
    "plt.plot(np.arange(params['n_estimators']) + 1, test_score, 'r-',\n",
    "         label='Test Set Deviance')\n",
    "plt.legend(loc='upper left')\n",
    "plt.xlabel('Boosting Iterations')\n",
    "plt.ylabel('Deviance')"
   ]
  },
  {
   "cell_type": "code",
   "execution_count": 34,
   "metadata": {},
   "outputs": [],
   "source": [
    "params = {'n_estimators': 600, 'learning_rate': 0.001, 'random_state':23, 'max_depth' :5}\n",
    "GBC2 = GradientBoostingClassifier(**params)"
   ]
  },
  {
   "cell_type": "code",
   "execution_count": 35,
   "metadata": {},
   "outputs": [],
   "source": [
    "feature_importance = GBC2.feature_importances_\n",
    "feature_importance = 100.0 * (feature_importance / feature_importance.max())"
   ]
  },
  {
   "cell_type": "code",
   "execution_count": 28,
   "metadata": {},
   "outputs": [
    {
     "data": {
      "text/plain": [
       "<matplotlib.axes._subplots.AxesSubplot at 0x2a04ffcd588>"
      ]
     },
     "execution_count": 28,
     "metadata": {},
     "output_type": "execute_result"
    },
    {
     "data": {
      "image/png": "[encoded data removed]",
      "text/plain": [
       "<Figure size 432x288 with 1 Axes>"
      ]
     },
     "metadata": {
      "needs_background": "light"
     },
     "output_type": "display_data"
    }
   ],
   "source": [
    "feats = {} # a dict to hold feature_name: feature_importance\n",
    "for feature, importance in zip(FullCases2.columns, feature_importance):\n",
    "    feats[feature] = importance #add the name/value pair \n",
    "\n",
    "importances = pd.DataFrame.from_dict(feats, orient='index').rename(columns={0: 'Gini-importance'})\n",
    "imprten = importances.sort_values(by='Gini-importance').tail(6)\n",
    "imprten.plot(kind='bar', rot=45)"
   ]
  },
  {
   "cell_type": "code",
   "execution_count": null,
   "metadata": {},
   "outputs": [],
   "source": [
    "importances2.head(10)"
   ]
  },
  {
   "cell_type": "code",
   "execution_count": 29,
   "metadata": {},
   "outputs": [
    {
     "data": {
      "text/plain": [
       "(2451, 662, 1230, 1186)"
      ]
     },
     "execution_count": 29,
     "metadata": {},
     "output_type": "execute_result"
    }
   ],
   "source": [
    "from sklearn.metrics import confusion_matrix\n",
    "tn, fp, fn, tp = confusion_matrix(y_test, GBC.predict(X_test)).ravel()\n",
    "(tn, fp, fn, tp)"
   ]
  },
  {
   "cell_type": "code",
   "execution_count": null,
   "metadata": {},
   "outputs": [],
   "source": [
    "def permutation_importances(rf, X_train, y_train, metric):\n",
    "    baseline = metric(rf, X_train, y_train)\n",
    "    imp = []\n",
    "    for col in X_train.columns:\n",
    "        save = X_train[col].copy()\n",
    "        X_train[col] = np.random.permutation(X_train[col])\n",
    "        m = metric(rf, X_train, y_train)\n",
    "        X_train[col] = save\n",
    "        imp.append(baseline - m)\n",
    "    return np.array(imp)"
   ]
  },
  {
   "cell_type": "code",
   "execution_count": null,
   "metadata": {},
   "outputs": [],
   "source": [
    "FullCases2.head()"
   ]
  },
  {
   "cell_type": "code",
   "execution_count": null,
   "metadata": {},
   "outputs": [],
   "source": [
    "FullCases.columns"
   ]
  },
  {
   "cell_type": "code",
   "execution_count": null,
   "metadata": {},
   "outputs": [],
   "source": [
    "X_train[(X_train['jurisdiction_2.0']==1) & (X_train['jurisdiction_2.0'])].count()"
   ]
  },
  {
   "cell_type": "code",
   "execution_count": 38,
   "metadata": {},
   "outputs": [],
   "source": [
    "feature_importance = GBC2.feature_importances_\n",
    "feature_importance = 100.0 * (feature_importance / feature_importance.max())"
   ]
  },
  {
   "cell_type": "code",
   "execution_count": 41,
   "metadata": {},
   "outputs": [
    {
     "data": {
      "text/plain": [
       "Text(0, 0.5, 'Deviance')"
      ]
     },
     "execution_count": 41,
     "metadata": {},
     "output_type": "execute_result"
    },
    {
     "data": {
      "image/png": "[encoded data removed]",
      "text/plain": [
       "<Figure size 864x432 with 1 Axes>"
      ]
     },
     "metadata": {
      "needs_background": "light"
     },
     "output_type": "display_data"
    }
   ],
   "source": [
    "test_score = np.zeros((params['n_estimators'],), dtype=np.float64)\n",
    "\n",
    "for i, y_pred in enumerate(GBC2.staged_predict(X_test)):\n",
    "    test_score[i] = GBC2.loss_(y_test, y_pred)\n",
    "\n",
    "plt.figure(figsize=(12, 6))\n",
    "plt.subplot(1, 2, 1)\n",
    "plt.title('Deviance')\n",
    "plt.plot(np.arange(params['n_estimators']) + 1, GBC2.train_score_, 'b-',\n",
    "         label='Training Set Deviance')\n",
    "plt.plot(np.arange(params['n_estimators']) + 1, test_score, 'r-',\n",
    "         label='Test Set Deviance')\n",
    "plt.legend(loc='lower left')\n",
    "plt.xlabel('Boosting Iterations')\n",
    "plt.ylabel('Deviance')"
   ]
  },
  {
   "cell_type": "code",
   "execution_count": null,
   "metadata": {},
   "outputs": [],
   "source": []
  }
 ],
 "metadata": {
  "kernelspec": {
   "display_name": "Python 3",
   "language": "python",
   "name": "python3"
  },
  "language_info": {
   "codemirror_mode": {
    "name": "ipython",
    "version": 3
   },
   "file_extension": ".py",
   "mimetype": "text/x-python",
   "name": "python",
   "nbconvert_exporter": "python",
   "pygments_lexer": "ipython3",
   "version": "3.7.1"
  }
 },
 "nbformat": 4,
 "nbformat_minor": 2
}
