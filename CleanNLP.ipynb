{
 "cells": [
  {
   "cell_type": "code",
   "execution_count": 2,
   "metadata": {},
   "outputs": [],
   "source": [
    "import pandas as pd\n",
    "import numpy as np\n",
    "import PyPDF2\n",
    "import string\n",
    "import re\n",
    "import os\n",
    "import pickle\n",
    "from sklearn.feature_extraction.text import CountVectorizer\n",
    "from sklearn.feature_extraction.text import TfidfTransformer\n",
    "from sklearn.feature_extraction.text import TfidfVectorizer\n",
    "from sklearn.model_selection import train_test_split\n",
    "from sklearn.pipeline import Pipeline\n",
    "from sklearn.naive_bayes import MultinomialNB, BernoulliNB\n",
    "from sklearn.linear_model import SGDClassifier\n",
    "from sklearn import metrics\n",
    "from sklearn.metrics import confusion_matrix\n",
    "from nltk.corpus import stopwords\n",
    "from nltk import word_tokenize\n",
    "pd.set_option('display.max_columns', 100)"
   ]
  },
  {
   "cell_type": "code",
   "execution_count": 3,
   "metadata": {},
   "outputs": [],
   "source": [
    "with open('dictionary.pickle', 'rb') as handle:\n",
    "    b = pickle.load(handle)\n",
    "Cases = pd.read_csv('data/Cases2018.csv', encoding='iso-8859-1')"
   ]
  },
  {
   "cell_type": "code",
   "execution_count": 4,
   "metadata": {},
   "outputs": [],
   "source": [
    "#key_to_value_lengths = {k:len(v) for k, v in b.items()}\n",
    "newdict = {k: v for k, v in b.items() if len(v) > 60000}"
   ]
  },
  {
   "cell_type": "code",
   "execution_count": 5,
   "metadata": {},
   "outputs": [],
   "source": [
    "Labels = Cases[['docket','partyWinning']]\n",
    "Text = pd.DataFrame.from_dict(newdict, orient=\"index\")"
   ]
  },
  {
   "cell_type": "code",
   "execution_count": 6,
   "metadata": {},
   "outputs": [],
   "source": [
    "Text = Text.rename(index=str, columns={0: \"Document\"})"
   ]
  },
  {
   "cell_type": "code",
   "execution_count": 7,
   "metadata": {
    "scrolled": true
   },
   "outputs": [
    {
     "data": {
      "text/html": [
       "<div>\n",
       "<style scoped>\n",
       "    .dataframe tbody tr th:only-of-type {\n",
       "        vertical-align: middle;\n",
       "    }\n",
       "\n",
       "    .dataframe tbody tr th {\n",
       "        vertical-align: top;\n",
       "    }\n",
       "\n",
       "    .dataframe thead th {\n",
       "        text-align: right;\n",
       "    }\n",
       "</style>\n",
       "<table border=\"1\" class=\"dataframe\">\n",
       "  <thead>\n",
       "    <tr style=\"text-align: right;\">\n",
       "      <th></th>\n",
       "      <th>Document</th>\n",
       "      <th>docket</th>\n",
       "    </tr>\n",
       "  </thead>\n",
       "  <tbody>\n",
       "    <tr>\n",
       "      <th>0</th>\n",
       "      <td>1             IN THE SU...</td>\n",
       "      <td>00-1011</td>\n",
       "    </tr>\n",
       "    <tr>\n",
       "      <th>1</th>\n",
       "      <td>12\\n3\\n4\\n5\\n6\\n7\\n8\\n910\\n11\\n12\\n13\\n14\\n15\\...</td>\n",
       "      <td>00-1021</td>\n",
       "    </tr>\n",
       "    <tr>\n",
       "      <th>2</th>\n",
       "      <td>1                         2    \\n ...</td>\n",
       "      <td>00-1045</td>\n",
       "    </tr>\n",
       "    <tr>\n",
       "      <th>3</th>\n",
       "      <td>12345678910\\n111213141516171819202122232425 IN...</td>\n",
       "      <td>00-10666</td>\n",
       "    </tr>\n",
       "    <tr>\n",
       "      <th>4</th>\n",
       "      <td>12\\n3\\n4\\n5\\n6\\n7\\n8\\n910\\n11\\n12\\n13\\n14\\n15\\...</td>\n",
       "      <td>00-1073</td>\n",
       "    </tr>\n",
       "    <tr>\n",
       "      <th>5</th>\n",
       "      <td>1234\\n5\\n678\\n910\\n11\\n12\\n131415\\n161718\\n19\\...</td>\n",
       "      <td>00-1089</td>\n",
       "    </tr>\n",
       "    <tr>\n",
       "      <th>6</th>\n",
       "      <td>12\\n3\\n4\\n5\\n6\\n7\\n8\\n910\\n11\\n12\\n13\\n14\\n15\\...</td>\n",
       "      <td>00-1167</td>\n",
       "    </tr>\n",
       "    <tr>\n",
       "      <th>7</th>\n",
       "      <td>12\\n3\\n4\\n5\\n6\\n7\\n8\\n910\\n11\\n12\\n13\\n14\\n15\\...</td>\n",
       "      <td>00-1187</td>\n",
       "    </tr>\n",
       "    <tr>\n",
       "      <th>8</th>\n",
       "      <td>1             IN THE SU...</td>\n",
       "      <td>00-121</td>\n",
       "    </tr>\n",
       "    <tr>\n",
       "      <th>9</th>\n",
       "      <td>12\\n3\\n4\\n5\\n6\\n7\\n8\\n910\\n11\\n12\\n13\\n14\\n15\\...</td>\n",
       "      <td>00-1214</td>\n",
       "    </tr>\n",
       "    <tr>\n",
       "      <th>10</th>\n",
       "      <td>12\\n3\\n4\\n5\\n6\\n7\\n8\\n910\\n11\\n12\\n13\\n14\\n15\\...</td>\n",
       "      <td>00-1249</td>\n",
       "    </tr>\n",
       "    <tr>\n",
       "      <th>11</th>\n",
       "      <td>12\\n3\\n4\\n5\\n6\\n7\\n8\\n910\\n11\\n12\\n13\\n14\\n15\\...</td>\n",
       "      <td>00-1250</td>\n",
       "    </tr>\n",
       "    <tr>\n",
       "      <th>12</th>\n",
       "      <td>1234\\n5\\n678\\n910\\n11\\n12\\n131415\\n161718\\n19\\...</td>\n",
       "      <td>00-1260</td>\n",
       "    </tr>\n",
       "    <tr>\n",
       "      <th>13</th>\n",
       "      <td>12\\n3\\n4\\n5\\n6\\n7\\n8\\n910\\n11\\n12\\n13\\n14\\n15\\...</td>\n",
       "      <td>00-1293</td>\n",
       "    </tr>\n",
       "    <tr>\n",
       "      <th>14</th>\n",
       "      <td>1                         2    \\n ...</td>\n",
       "      <td>00-1307</td>\n",
       "    </tr>\n",
       "    <tr>\n",
       "      <th>15</th>\n",
       "      <td>12\\n3\\n4\\n5\\n6\\n7\\n8\\n910\\n11\\n12\\n13\\n14\\n15\\...</td>\n",
       "      <td>00-1406</td>\n",
       "    </tr>\n",
       "    <tr>\n",
       "      <th>16</th>\n",
       "      <td>1234\\n5\\n678\\n910\\n11\\n12\\n131415\\n161718\\n19\\...</td>\n",
       "      <td>00-1471</td>\n",
       "    </tr>\n",
       "    <tr>\n",
       "      <th>17</th>\n",
       "      <td>1             IN THE SU...</td>\n",
       "      <td>00-151</td>\n",
       "    </tr>\n",
       "    <tr>\n",
       "      <th>18</th>\n",
       "      <td>12\\n3\\n4\\n5\\n6\\n7\\n8\\n910\\n11\\n12\\n13\\n14\\n15\\...</td>\n",
       "      <td>00-1514</td>\n",
       "    </tr>\n",
       "    <tr>\n",
       "      <th>19</th>\n",
       "      <td>12\\n3\\n4\\n5\\n6\\n7\\n8\\n910\\n11\\n12\\n13\\n14\\n15\\...</td>\n",
       "      <td>00-1519</td>\n",
       "    </tr>\n",
       "    <tr>\n",
       "      <th>20</th>\n",
       "      <td>1             IN THE SU...</td>\n",
       "      <td>00-152</td>\n",
       "    </tr>\n",
       "    <tr>\n",
       "      <th>21</th>\n",
       "      <td>12\\n3\\n4\\n5\\n6\\n7\\n8\\n910\\n11\\n12\\n13\\n14\\n15\\...</td>\n",
       "      <td>00-1543</td>\n",
       "    </tr>\n",
       "    <tr>\n",
       "      <th>22</th>\n",
       "      <td>12\\n3\\n4\\n5\\n6\\n7\\n8\\n910\\n11\\n12\\n13\\n14\\n15\\...</td>\n",
       "      <td>00-1567</td>\n",
       "    </tr>\n",
       "    <tr>\n",
       "      <th>23</th>\n",
       "      <td>1             IN THE SU...</td>\n",
       "      <td>00-157</td>\n",
       "    </tr>\n",
       "    <tr>\n",
       "      <th>24</th>\n",
       "      <td>12\\n3\\n4\\n5\\n6\\n7\\n8\\n910\\n11\\n12\\n13\\n14\\n15\\...</td>\n",
       "      <td>00-1595</td>\n",
       "    </tr>\n",
       "    <tr>\n",
       "      <th>25</th>\n",
       "      <td>12\\n3\\n4\\n5\\n6\\n7\\n8\\n910\\n11\\n12\\n13\\n14\\n15\\...</td>\n",
       "      <td>00-1614</td>\n",
       "    </tr>\n",
       "    <tr>\n",
       "      <th>26</th>\n",
       "      <td>12\\n3\\n4\\n5\\n6\\n7\\n8\\n910\\n11\\n12\\n13\\n14\\n15\\...</td>\n",
       "      <td>00-1737</td>\n",
       "    </tr>\n",
       "    <tr>\n",
       "      <th>27</th>\n",
       "      <td>1                         2       ...</td>\n",
       "      <td>00-1751</td>\n",
       "    </tr>\n",
       "    <tr>\n",
       "      <th>28</th>\n",
       "      <td>12\\n3\\n4\\n5\\n6\\n7\\n8\\n910\\n11\\n12\\n13\\n14\\n15\\...</td>\n",
       "      <td>00-1770</td>\n",
       "    </tr>\n",
       "    <tr>\n",
       "      <th>29</th>\n",
       "      <td>12\\n3\\n4\\n5\\n6\\n7\\n8\\n910\\n11\\n12\\n13\\n14\\n15\\...</td>\n",
       "      <td>00-1831</td>\n",
       "    </tr>\n",
       "    <tr>\n",
       "      <th>...</th>\n",
       "      <td>...</td>\n",
       "      <td>...</td>\n",
       "    </tr>\n",
       "    <tr>\n",
       "      <th>958</th>\n",
       "      <td>1                         2    \\n ...</td>\n",
       "      <td>99-1786</td>\n",
       "    </tr>\n",
       "    <tr>\n",
       "      <th>959</th>\n",
       "      <td>1             IN THE SUPREME COURT OF THE UNI...</td>\n",
       "      <td>99-1792</td>\n",
       "    </tr>\n",
       "    <tr>\n",
       "      <th>960</th>\n",
       "      <td>1             IN THE SU...</td>\n",
       "      <td>99-1815</td>\n",
       "    </tr>\n",
       "    <tr>\n",
       "      <th>961</th>\n",
       "      <td>1              2    \\n 3    \\n 4     \\n 5    ...</td>\n",
       "      <td>99-1823</td>\n",
       "    </tr>\n",
       "    <tr>\n",
       "      <th>962</th>\n",
       "      <td>1             IN THE SU...</td>\n",
       "      <td>99-1848</td>\n",
       "    </tr>\n",
       "    <tr>\n",
       "      <th>963</th>\n",
       "      <td>1             IN THE SUPREME COURT OF THE UNI...</td>\n",
       "      <td>99-1864</td>\n",
       "    </tr>\n",
       "    <tr>\n",
       "      <th>964</th>\n",
       "      <td>1             IN THE SU...</td>\n",
       "      <td>99-1884</td>\n",
       "    </tr>\n",
       "    <tr>\n",
       "      <th>965</th>\n",
       "      <td>1             IN THE SUPREME COURT OF THE UNI...</td>\n",
       "      <td>99-1908</td>\n",
       "    </tr>\n",
       "    <tr>\n",
       "      <th>966</th>\n",
       "      <td>1             IN THE SUPREME COURT OF THE UNI...</td>\n",
       "      <td>99-1953</td>\n",
       "    </tr>\n",
       "    <tr>\n",
       "      <th>967</th>\n",
       "      <td>1             IN THE SU...</td>\n",
       "      <td>99-1964</td>\n",
       "    </tr>\n",
       "    <tr>\n",
       "      <th>968</th>\n",
       "      <td>1             IN THE SU...</td>\n",
       "      <td>99-1977</td>\n",
       "    </tr>\n",
       "    <tr>\n",
       "      <th>969</th>\n",
       "      <td>1             IN THE SU...</td>\n",
       "      <td>99-1978</td>\n",
       "    </tr>\n",
       "    <tr>\n",
       "      <th>970</th>\n",
       "      <td>1             IN THE SU...</td>\n",
       "      <td>99-1994</td>\n",
       "    </tr>\n",
       "    <tr>\n",
       "      <th>971</th>\n",
       "      <td>1                         2    \\n ...</td>\n",
       "      <td>99-1996</td>\n",
       "    </tr>\n",
       "    <tr>\n",
       "      <th>972</th>\n",
       "      <td>1             IN THE SU...</td>\n",
       "      <td>99-2035</td>\n",
       "    </tr>\n",
       "    <tr>\n",
       "      <th>973</th>\n",
       "      <td>1     IN THE SUPREME CO...</td>\n",
       "      <td>99-2036</td>\n",
       "    </tr>\n",
       "    <tr>\n",
       "      <th>974</th>\n",
       "      <td>1             IN THE SU...</td>\n",
       "      <td>99-2047</td>\n",
       "    </tr>\n",
       "    <tr>\n",
       "      <th>975</th>\n",
       "      <td>1             IN THE SUPREME COURT OF THE UNI...</td>\n",
       "      <td>99-2071</td>\n",
       "    </tr>\n",
       "    <tr>\n",
       "      <th>976</th>\n",
       "      <td>1             IN THE SUPREME COURT OF THE U...</td>\n",
       "      <td>99-603</td>\n",
       "    </tr>\n",
       "    <tr>\n",
       "      <th>977</th>\n",
       "      <td>1             IN THE SUPREME COURT OF THE UNI...</td>\n",
       "      <td>99-6218</td>\n",
       "    </tr>\n",
       "    <tr>\n",
       "      <th>978</th>\n",
       "      <td>1             IN THE SUPREME COURT OF THE UNI...</td>\n",
       "      <td>99-7504</td>\n",
       "    </tr>\n",
       "    <tr>\n",
       "      <th>979</th>\n",
       "      <td>1             IN THE SU...</td>\n",
       "      <td>99-7791</td>\n",
       "    </tr>\n",
       "    <tr>\n",
       "      <th>980</th>\n",
       "      <td>1             IN THE SUPREME COURT OF THE UNI...</td>\n",
       "      <td>99-804</td>\n",
       "    </tr>\n",
       "    <tr>\n",
       "      <th>981</th>\n",
       "      <td>1             IN THE SU...</td>\n",
       "      <td>99-8508</td>\n",
       "    </tr>\n",
       "    <tr>\n",
       "      <th>982</th>\n",
       "      <td>1             IN THE SUPREME COURT OF THE UNI...</td>\n",
       "      <td>99-859</td>\n",
       "    </tr>\n",
       "    <tr>\n",
       "      <th>983</th>\n",
       "      <td>1             IN THE SUPREME COURT OF THE UNI...</td>\n",
       "      <td>99-901</td>\n",
       "    </tr>\n",
       "    <tr>\n",
       "      <th>984</th>\n",
       "      <td>1             IN THE SUPREME COURT OF THE UNI...</td>\n",
       "      <td>99-9073</td>\n",
       "    </tr>\n",
       "    <tr>\n",
       "      <th>985</th>\n",
       "      <td>1             IN THE SUPREME COURT OF THE UNI...</td>\n",
       "      <td>99-9136</td>\n",
       "    </tr>\n",
       "    <tr>\n",
       "      <th>986</th>\n",
       "      <td>1             IN THE SU...</td>\n",
       "      <td>99-929</td>\n",
       "    </tr>\n",
       "    <tr>\n",
       "      <th>987</th>\n",
       "      <td>1             IN THE SUPREME COURT OF THE UNI...</td>\n",
       "      <td>99-936</td>\n",
       "    </tr>\n",
       "  </tbody>\n",
       "</table>\n",
       "<p>988 rows × 2 columns</p>\n",
       "</div>"
      ],
      "text/plain": [
       "                                              Document    docket\n",
       "0                           1             IN THE SU...   00-1011\n",
       "1    12\\n3\\n4\\n5\\n6\\n7\\n8\\n910\\n11\\n12\\n13\\n14\\n15\\...   00-1021\n",
       "2                1                         2    \\n ...   00-1045\n",
       "3    12345678910\\n111213141516171819202122232425 IN...  00-10666\n",
       "4    12\\n3\\n4\\n5\\n6\\n7\\n8\\n910\\n11\\n12\\n13\\n14\\n15\\...   00-1073\n",
       "5    1234\\n5\\n678\\n910\\n11\\n12\\n131415\\n161718\\n19\\...   00-1089\n",
       "6    12\\n3\\n4\\n5\\n6\\n7\\n8\\n910\\n11\\n12\\n13\\n14\\n15\\...   00-1167\n",
       "7    12\\n3\\n4\\n5\\n6\\n7\\n8\\n910\\n11\\n12\\n13\\n14\\n15\\...   00-1187\n",
       "8                           1             IN THE SU...    00-121\n",
       "9    12\\n3\\n4\\n5\\n6\\n7\\n8\\n910\\n11\\n12\\n13\\n14\\n15\\...   00-1214\n",
       "10   12\\n3\\n4\\n5\\n6\\n7\\n8\\n910\\n11\\n12\\n13\\n14\\n15\\...   00-1249\n",
       "11   12\\n3\\n4\\n5\\n6\\n7\\n8\\n910\\n11\\n12\\n13\\n14\\n15\\...   00-1250\n",
       "12   1234\\n5\\n678\\n910\\n11\\n12\\n131415\\n161718\\n19\\...   00-1260\n",
       "13   12\\n3\\n4\\n5\\n6\\n7\\n8\\n910\\n11\\n12\\n13\\n14\\n15\\...   00-1293\n",
       "14               1                         2    \\n ...   00-1307\n",
       "15   12\\n3\\n4\\n5\\n6\\n7\\n8\\n910\\n11\\n12\\n13\\n14\\n15\\...   00-1406\n",
       "16   1234\\n5\\n678\\n910\\n11\\n12\\n131415\\n161718\\n19\\...   00-1471\n",
       "17                          1             IN THE SU...    00-151\n",
       "18   12\\n3\\n4\\n5\\n6\\n7\\n8\\n910\\n11\\n12\\n13\\n14\\n15\\...   00-1514\n",
       "19   12\\n3\\n4\\n5\\n6\\n7\\n8\\n910\\n11\\n12\\n13\\n14\\n15\\...   00-1519\n",
       "20                          1             IN THE SU...    00-152\n",
       "21   12\\n3\\n4\\n5\\n6\\n7\\n8\\n910\\n11\\n12\\n13\\n14\\n15\\...   00-1543\n",
       "22   12\\n3\\n4\\n5\\n6\\n7\\n8\\n910\\n11\\n12\\n13\\n14\\n15\\...   00-1567\n",
       "23                          1             IN THE SU...    00-157\n",
       "24   12\\n3\\n4\\n5\\n6\\n7\\n8\\n910\\n11\\n12\\n13\\n14\\n15\\...   00-1595\n",
       "25   12\\n3\\n4\\n5\\n6\\n7\\n8\\n910\\n11\\n12\\n13\\n14\\n15\\...   00-1614\n",
       "26   12\\n3\\n4\\n5\\n6\\n7\\n8\\n910\\n11\\n12\\n13\\n14\\n15\\...   00-1737\n",
       "27               1                         2       ...   00-1751\n",
       "28   12\\n3\\n4\\n5\\n6\\n7\\n8\\n910\\n11\\n12\\n13\\n14\\n15\\...   00-1770\n",
       "29   12\\n3\\n4\\n5\\n6\\n7\\n8\\n910\\n11\\n12\\n13\\n14\\n15\\...   00-1831\n",
       "..                                                 ...       ...\n",
       "958              1                         2    \\n ...   99-1786\n",
       "959   1             IN THE SUPREME COURT OF THE UNI...   99-1792\n",
       "960                         1             IN THE SU...   99-1815\n",
       "961   1              2    \\n 3    \\n 4     \\n 5    ...   99-1823\n",
       "962                         1             IN THE SU...   99-1848\n",
       "963   1             IN THE SUPREME COURT OF THE UNI...   99-1864\n",
       "964                         1             IN THE SU...   99-1884\n",
       "965   1             IN THE SUPREME COURT OF THE UNI...   99-1908\n",
       "966   1             IN THE SUPREME COURT OF THE UNI...   99-1953\n",
       "967                         1             IN THE SU...   99-1964\n",
       "968                         1             IN THE SU...   99-1977\n",
       "969                         1             IN THE SU...   99-1978\n",
       "970                         1             IN THE SU...   99-1994\n",
       "971              1                         2    \\n ...   99-1996\n",
       "972                         1             IN THE SU...   99-2035\n",
       "973                         1     IN THE SUPREME CO...   99-2036\n",
       "974                         1             IN THE SU...   99-2047\n",
       "975   1             IN THE SUPREME COURT OF THE UNI...   99-2071\n",
       "976     1             IN THE SUPREME COURT OF THE U...    99-603\n",
       "977   1             IN THE SUPREME COURT OF THE UNI...   99-6218\n",
       "978   1             IN THE SUPREME COURT OF THE UNI...   99-7504\n",
       "979                         1             IN THE SU...   99-7791\n",
       "980   1             IN THE SUPREME COURT OF THE UNI...    99-804\n",
       "981                         1             IN THE SU...   99-8508\n",
       "982   1             IN THE SUPREME COURT OF THE UNI...    99-859\n",
       "983   1             IN THE SUPREME COURT OF THE UNI...    99-901\n",
       "984   1             IN THE SUPREME COURT OF THE UNI...   99-9073\n",
       "985   1             IN THE SUPREME COURT OF THE UNI...   99-9136\n",
       "986                         1             IN THE SU...    99-929\n",
       "987   1             IN THE SUPREME COURT OF THE UNI...    99-936\n",
       "\n",
       "[988 rows x 2 columns]"
      ]
     },
     "execution_count": 7,
     "metadata": {},
     "output_type": "execute_result"
    }
   ],
   "source": [
    "Text['docket'] = Text.index\n",
    "Text.reset_index(drop=True)"
   ]
  },
  {
   "cell_type": "code",
   "execution_count": 8,
   "metadata": {},
   "outputs": [],
   "source": [
    "Text = pd.merge(Text, Labels, on='docket', how='inner')\n",
    "Text.drop(Text[Text.partyWinning==2.0].index, inplace = True)\n",
    "Labels = Text[['partyWinning']]\n",
    "Text.drop('partyWinning', axis=1, inplace= True)"
   ]
  },
  {
   "cell_type": "code",
   "execution_count": 9,
   "metadata": {},
   "outputs": [
    {
     "data": {
      "text/plain": [
       "0    1 in the supreme court of the united states 2 ...\n",
       "1    12 3 4 5 6 7 8 910 11 12 13 14 15 16 17 18 19 ...\n",
       "2    1 2 3 4 5 6 7 8 9 10 11 12 13 14 15 16 17 18 1...\n",
       "3    12345678910 111213141516171819202122232425 in ...\n",
       "4    12 3 4 5 6 7 8 910 11 12 13 14 15 16 17 18 19 ...\n",
       "Name: Document, dtype: object"
      ]
     },
     "execution_count": 9,
     "metadata": {},
     "output_type": "execute_result"
    }
   ],
   "source": [
    "Text['Document'] = Text['Document'].apply(lambda x: \" \".join(x.lower() for x in x.split()))\n",
    "Text['Document'].head()"
   ]
  },
  {
   "cell_type": "code",
   "execution_count": 10,
   "metadata": {},
   "outputs": [
    {
     "data": {
      "text/plain": [
       "'1 in the supreme court of the united states 2                                x 3 deboris calcano martinez    4 et al     5 petitioners   6 v    no 00 1011 7 immigration and naturalization   8 service    9                                x 10 washington  d c  11 tuesday  april 24  2001 12 the above entitled matter came on for oral 13 argument before the supreme court of the united states at 14 10 17 a m  15 appearances  16 lucas guttentag  esq   new york  new york  on behalf of 17 the petitioners  18 edwin s  kneedler  esq   deputy solicitor general  19 department of justice  washington  d c   on behalf of 20 the respondent  21 22 23 24 25 1 alderson reporting company  inc  1111 fourteenth street  n w  suite 400 washington  d c  20005  202 289 2260  800  for depo 1 c o n t e n t s 2 oral argument of page 3 lucas guttentag  esq  4 on behalf of the petitioner 3 5 oral argument of 6 edwin s  kneedler  esq  7 on behalf of the respondent 25 8 rebuttal argument of 9 lucas guttentag  esq  10 on behalf of the petitioner 51 11 12 13 14 15 16 17 18 19 20 21 22 23 24 25 2 alderson reporting company  inc  1111 fourteenth street  n w  suite 400 washington  d c  20005  202 289 2260  800  for depo 1 p r o c e e d i n g s 2  10 17 a m   3 chief justice rehnquist  we ll hear argument 4 now in number 00 1011  deboris calcano martinez v  the 5 immigration and naturalization service  6 mr  guttentag  7 oral argument of lucas guttentag 8 on behalf of the petitioner 9 mr  guttentag  mr  chief justice  and may it 10 please the court  11 the jurisdictional issue presented in this case 12 is whether a legal ruling by the attorney general on a 13 pure question of law compelling the deportation of long  14 time legal permanent residents is reviewable in any court  15 never in our country s history has an alien been subject 16 to deportation without the judicial branch determining the 17 legal validity of the administrative deportation order  18 we submit that the constitution does not permit 19 denying judicial scrutiny of the attorney general s 20 ruling  and that the statute did not deprive this court 21 and the district court and the courts of appeals of 22 considering the pure question of law presented in this 23 case  24 question  you say the legal validity of his 25 deportation is at issue  in what respect to you claim he 3 alderson reporting company  inc  1111 fourteenth street  n w  suite 400 washington  d c  20005  202 289 2260  800  for depo 1 is not properly deportable  2 mr  guttentag  your honor    3 question  as i understood it  it is conceded 4 that he met the qualifications for deportation  5 mr  guttentag  he is    our clients are subject 6 to the deportability grounds  but they are not subject to 7 deportation without an adjudication of the application for 8 discretionary relief  the final order of deportation    9 question  what you re complaining about is that 10 the attorney general did not accord them discretionary 11 relief  but all of your grounds for asserting that you re 12 not deportable you had an opportunity to challenge in 13 court  didn t you  14 mr  guttentag  well  your honor  the question 15 is whether the final order of deportation was properly 16 entered and  under this court s case law    17 question  it was properly entered if all of the 18 qualifications for deportation existed  your complaint is 19 that the attorney general did not exercise his discretion 20 to let your client stay in the country nonetheless  21 mr  guttentag  no  your honor  we disagree with 22 that  respectfully  the final order of deportation cannot 23 be entered until there is an adjudication on the 24 application for discretionary relief if the person is 25 eligible to apply  in this case  the attorney general    4 alderson reporting company  inc  1111 fourteenth street  n w  suite 400 washington  d c  20005  202 289 2260  800  for depo 1 question  what is your authority for that 2 proposition  mr  guttentag  your case authority  3 mr  guttentag  the chadha case  your honor  the 4 foti case  all said that the final order of deportation is 5 contingent on    6 question  but that was not talking about the 7 attorney general s discretion  was it  8 mr  guttentag  yes  in all those cases  your 9 honor  the question was whether a final order of 10 deportation  and whether the discretionary element 11 that s    on which the final order is contingent was 12 reviewable in court  and the way the immigration act is    13 question  well  that was before the iirira  or 14 however you pronounce it  15 mr  guttentag  yes  but the iirira has not 16 changed that element  your honor  under the immigration 17 act  both before and after  there is a two part process 18 for issuing a final order of deportation  there s the 19 question of deportability  and that s the question of 20 whether a person falls within the grounds enumerated in 21 the statute  22 question  and you concede those have been met 23 here  24 mr  guttentag  we do concede that  your honor  25 there s no question that our clients conceded that they 5 alderson reporting company  inc  1111 fourteenth street  n w  suite 400 washington  d c  20005  202 289 2260  800  for depo 1 fit within the grounds of deportation  then the second 2 question    3 question  and also that all of those grounds 4 can be challenged in court  that iirira does not prevent 5 judicial review of all of those grounds of deportation  6 right  7 mr  guttentag  well  that s a construction of 8 the statute  your honor  that the government s offered  9 we don t dispute that  although we come to that conclusion 10 for different reasons  but the question is whether the 11 final order of deportation itself is reviewable  and the 12 final order cannot be entered    and i believe the 13 government will concede this  your honor    14 question  could i just interrupt you with one 15 quick    do you concede that a conviction prior to the 16 date of the enactment of the statute is proper ground for 17 deportation without having an opportunity for 18 discretionary review  19 mr  guttentag  well  the conviction itself is a 20 basis for triggering the grounds of deportability  21 question  well  i understand  but are you 22 conceding convictions prior to the enactment of the 23 statute have the same legal effect as convictions after 24 the enactment of the statute  25 mr  guttentag  not for purposes of 6 alderson reporting company  inc  1111 fourteenth street  n w  suite 400 washington  d c  20005  202 289 2260  800  for depo 1 discretionary relief  your honor  that s our claim on the 2 merits in the st  cyr case  3 question  but your claim is that you are 4 entitled to an adjudication at the administrative level  5 ultimately by the attorney general  under a statute that 6 contains this discretion  that s    isn t that your basic 7 claim  8 mr  guttentag  yes  our basic claim  your 9 honor  is    10 question  now    okay  let me ask you part 2 11 of my question  do you also claim that if you are  or if 12 your client in this case is entitled to an exercise of 13 discretion  that the exercise of discretion itself is 14 reviewable for abuse of discretion  15 mr  guttentag  no  we do not  your honor  16 question  okay  17 mr  guttentag  our claim is that the question 18 of legal eligibility to apply for the discretionary relief 19 is reviewable  the attorney general    20 question  mr  guttentag  may i just add a post 21 script on that question to    suppose the attorney general 22 were to say  in light of aedpa  and however you pronounce 23 the other statute  i have decided that henceforth i will 24 exercise my discretion never to be gracious  and i will 25 simply deny these applications  it is as an exercise of 7 alderson reporting company  inc  1111 fourteenth street  n w  suite 400 washington  d c  20005  202 289 2260  800  for depo 1 discretion  and it s in tune with what i think is the 2 current climate in the legislature  3 you just answered justice souter that you would 4 not challenge an exercise of discretion  5 mr  guttentag  your honor  we believe that the 6 question of a categorical denial raises a different issue  7 and whether that s permissible or not  raises a distinct 8 question  9 but just to be clear  the attorney general has 10 not done that in this case  what the attorney general has 11 said is that he lacks the legal authority to exercise 12 discretion  on a pure question of interpreting the statute 13 that congress has divested him of the legal authority to 14 consider applications for discretionary relief  15 we do not believe that the attorney general  if 16 he interpreted this statute correctly  would adopt a 17 categorical rule  there s no reason to believe that  he 18 has determined that he lacks any discretionary authority  19 how he exercises that authority would be a separate and 20 distinct question  21 question  suppose there s a case in which it s 22 conceded that the attorney general has discretionary 23 authority  before he exercises    and the immigration 24 judge has found that the person is deportable  before the 25 attorney general exercises that discretion  is there a 8 alderson reporting company  inc  1111 fourteenth street  n w  suite 400 washington  d c  20005  202 289 2260  800  for depo 1 final order of deportation  2 mr  guttentag  no  there s not  your honor  3 question  why do you concede there s a final 4 order of deportation here  or do you  5 mr  guttentag  well  we do not    6 question  because it seems to me that may be 7 important under the interpretation of the statute  it 8 seems to me you can argue that where  as in your case  9 the alien requests the attorney general to exercise the 10 attorney general s discretion  there is no final order of 11 deportability until he does so  12 mr  guttentag  well  we certainly agree that 13 there s not a legally valid final order of deportation  14 there was an order issued by the board of immigration 15 appeals  so in that sense there s a piece of paper that 16 constitutes a final order  but we agree that there s not a 17 legally valid final order  18 question  well  do you think there s a final 19 order under the statute  1252  20 mr  guttentag  the  a  2     well  we believe 21 there s a final order for purposes of seeking judicial 22 review of the bia s decision  we do believe that that 23 constitutes a final order  we believe that it is not a 24 legally valid final order because of the attorney 25 general s ruling  9 alderson reporting company  inc  1111 fourteenth street  n w  suite 400 washington  d c  20005  202 289 2260  800  for depo 1 question  do you think this is a final order of 2 removal against an alien who is removable  3 mr  guttentag  well  your honor  we believe 4 that the statute  the  a  2  c  does not apply to bar 5 review of this claim  what the    we believe that the 6 provision barring review does not apply  whether it s 7 because it doesn t constitute a final order within the 8 meaning of the statute as intended  because there s a 9 legal error underlying the adjudication  or whether there 10 is a final order but it s reviewable nonetheless for that 11 legal    because it lacks legal validity  either way 12 there s review of that determination  13 question  well  i m just    in just looking at 14 this statute  it seems to me that the attorney general 15 does not give much force to the phrase  who is removable  16 mr  guttentag  right  and that is an    17 question  it makes for an awkward statute  18 frankly  if you take it out  but it s    i thought that 19 your argument might be that this    your client is not an 20 alien who is removable under a final order  21 mr  guttentag  we would certainly accept that 22 interpretation  your honor  if removable is not the term 23 that normally appears in the immigration act  because the 24 technical term would be deportable  25 question  but you re saying that because 10 alderson reporting company  inc  1111 fourteenth street  n w  suite 400 washington  d c  20005  202 289 2260  800  for depo 1 removable means a person who is potentially deportable  2 that your client is removable  3 mr  guttentag  no  we would    i    your 4 honor  we believe that it s very difficult to interpret 5 this statute  that    6  laughter   7 mr  guttentag  that the one thing it doesn t do 8 is preclude review of the legal claim presented here  9 whether that s because the term is removable    10 question  well  i m asking if you could make 11 the argument that your client is not removable because the 12 statute does not prevent discretion being exercised as to 13 him  you ve asked for discretion  it hasn t been 14 exercised  so there is no final order against an alien who 15 is removable  16 mr  guttentag  we would certainly accept that 17 interpretation  18 question  but you didn t    you don t    19 question  i m sure you would  but 20 unfortunately    21 question  but did you argue    you don t argue 22 that  23 mr  guttentag  we ve argued principally that 24 the term review does not preclude the scope of inquiry 25 that s traditionally be encompassed by habeas corpus 11 alderson reporting company  inc  1111 fourteenth street  n w  suite 400 washington  d c  20005  202 289 2260  800  for depo 1 because of the constitutional problems that would be 2 raised by barring all review  we believe that    3 question  well  under my submission  and 4 frankly i don t think this works  because the statute is 5 pretty awkward and because of what you ve already said 6 about removal  but under    if there was some merit to 7 this interpretation and it could be adopted to avoid the 8 constitutional problem  then the review wouldn t even be 9 by habeas  it would be just under the review mechanisms of 10 the statute  11 mr  guttentag  and we    12 question  you don t seem to be too happy with 13 that  14 mr  guttentag  no  we absolutely will accept 15 that  your honor    16 question  well    17 mr  guttentag     because we believe that there 18 can be review in the court of appeals  and that if the 19 term removable means only a properly entered final order 20 of removable    removal  then our clients are not 21 removable  22 question  mr  guttentag  may i    23 mr  guttentag  they are subject to    24 question     suggest that the reason you didn t 25 make that argument is that it s not a very good one  12 alderson reporting company  inc  1111 fourteenth street  n w  suite 400 washington  d c  20005  202 289 2260  800  for depo 1 because there is more than one section which excludes the 2 judicial review that you re seeking  not all of them 3 contain that phrase  who is removable  subsection  g   4 entitled  exclusive jurisdiction  does not use the term  5 it says  except as provided in this section  and 6 notwithstanding any other provision of law  no court shall 7 have jurisdiction to hear any cause or claim by or on 8 behalf of any alien arising from the decision or action by 9 the attorney general to commence proceedings  adjudicate 10 cases  or execute removal orders against any alien under 11 this act  it does not contain the language that you now 12 want to rely upon  13 mr  guttentag  but your honor  we don t    that 14 language does not preclude review of our claim  because 15 what 242 g  does is place all review in the court of 16 appeals  and we agree that review can be in the court of 17 appeals  we have no    our construction of the statute 18 permits that  because we agree that the final order of 19 removal is reviewable in the court of appeals  the only 20 question that bars review of that order in the court of 21 appeals is  a  2  c   22 question  well  do you say there s also then 23 habeas review in the district court  24 mr  guttentag  no  your honor  we    our 25 contention is only that there would be review in the 13 alderson reporting company  inc  1111 fourteenth street  n w  suite 400 washington  d c  20005  202 289 2260  800  for depo 1 district court as a fail safe mechanism if review in the 2 court of appeals is not possible  3 question  well    4 mr  guttentag  we recognize that the    5 question  under what    but not under habeas  6 you just said  as i understood  do you or do you not 7 think habeas review in the district court is available  8 mr  guttentag  we believe that district court 9 review in the    excuse me  we believe that habeas corpus 10 review in the district courts is not barred by the 11 language of this statute  but that the scope of review 12 that would be heard in the district courts can certainly 13 be placed in the court of appeals  as this court has 14 always said that the    15 question  well then  you don t agree with the 16 second circuit s decision here  17 mr  guttentag  we    the second circuit held 18 that there was district court habeas corpus jurisdiction 19 because it first concluded that there was no review 20 possible in the court of appeals  we believe that if 21 review is possible in the court of appeals  and we believe 22 that it is  because  a  2  c  should be construed as to 23 permit review in the court of appeals  then the district 24 court habeas corpus procedure need not be available  25 question  well  what do you think the term  14 alderson reporting company  inc  1111 fourteenth street  n w  suite 400 washington  d c  20005  202 289 2260  800  for depo 1 removable  in  a  2  c  means  2 mr  guttentag  your honor  i think the term is 3 ambiguous  because it is not the term  deportable  which 4 is what the immigration statute uses to determine what    5 to say that someone is subject to deportation  it does 6 not say  subject to a final order of removal  which is    7 question  so what do you    what do you    how 8 do you interpret it  9 mr  guttentag  your honor  we believe it means 10 that someone who could be removable  but is not subject to 11 final order of removal  so therefore the statute would not 12 apply to that individual  13 it s a term that appears in various places in 14 the immigration act  and it doesn t have  as far as we 15 can tell  a consistent meaning throughout the act  16 question  was it adopted just in connection 17 with this provision that provided an alien who was 18 convicted of a felony should be deported  19 mr  guttentag  i believe it appears in other 20 places in the act  it appears in relation to detention 21 provisions and other places  it s not in other places in 22 the    23 question  let me ask this  if who is removable  24 if that embraces the requirement that the attorney general 25 first have exercised his discretion  why doesn t it also  15 alderson reporting company  inc  1111 fourteenth street  n w  suite 400 washington  d c  20005  202 289 2260  800  for depo 1 under that kind of a reading  embrace the requirement that 2 he actually committed a criminal offense covered in 3 section 1182 a  2   4 i mean  if you re going to read removable  who 5 is removable that broadly  that is to say that any defect 6 in the proceedings which rendered the order of removal 7 invalid causes him not to be removable  you simply open up 8 the whole statute  you say any defect which causes him 9 not to be removable takes him out of  a  2  c   i mean  10 it just cuts a swath through the entire statute  11 mr  guttentag  well  we don t believe it does  12 your honor  but the critical question is whether this 13 claim must be reviewed in some court  and we believe that 14 the answer to that question is clear  15 question  that s your constitutional argument  16 but we re trying to discuss first a proposed statutory 17 argument which would avoid our reaching that  and i m 18 suggesting that if you read who is removable to embrace    19 to make a person unremovable where anything that should 20 have been done has not been done  you open up the whole 21 prior proceedings  22 mr  guttentag  well  but i believe it s 23 possible to read it  your honor  providing a properly 24 entered final order of removal  and that would include the 25 proper  legally authorized exercise of discretionary 16 alderson reporting company  inc  1111 fourteenth street  n w  suite 400 washington  d c  20005  202 289 2260  800  for depo 1 relief  that if the statute entitles    2 question  but  of course  the discretionary 3 relief provision was changed  too  wasn t it  and doesn t 4 afford it now for people convicted of this type of crime  5 mr  guttentag  right  but our contention on the 6 merits  your honor  is that our clients are eligible for 7 the discretionary relief as it existed at the time of the 8 preenactment event  that s a pure legal question  the 9 attorney general has determined that they re not eligible  10 the question of eligibility for that relief was decided by 11 a legal ruling of the attorney general that    and that 12 determines whether or not it was a properly entered final 13 order of removal  14 when that question is resolved  then    one way 15 or the other on the merits  then there ll be a decision on 16 whether it was a properly entered order  17 question  getting back to the statute  and 18 justice scalia s question  the question was  well  suppose 19 he hadn t committed a criminal offense  would that be 20 grounds for saying that the statute doesn t apply  i 21 thought your answer would be yes  even the government 22 concedes that    23 mr  guttentag  right  and that    24 question     in the habeas portion of the 25 case  17 alderson reporting company  inc  1111 fourteenth street  n w  suite 400 washington  d c  20005  202 289 2260  800  for depo 1 mr  guttentag  yes  and that whether or not the 2 person actually committed the offense is a question of 3 whether they fit within one of the enumerated categories 4 that are set forth in the statute  and i believe the 5 government does concede that  6 question  well  are you saying you could go 7 behind a judgment of conviction  8 mr  guttentag  no  absolutely not  your honor  9 that s a determination that s made in the criminal 10 procedure  and when that certified conviction is brought 11 before the immigration judge  that s dispositive on the 12 question of whether or not there s a disqualifying 13 conviction  14 but then the question is whether that conviction 15 constitutes a deportable offense within the meaning of the 16 immigration act  and that s a question that the government 17 agrees is reviewable and  as i indicated  that the 18 question of whether or not the final order of removal was 19 properly entered must be reviewable as well  and if 20 there s been a failure to allow the person to apply for 21 the discretionary relief for which they are entitled by 22 statute  then that cannot be a legally valid order of 23 removal  and again i    24 question  but the one difference  then  that 25 has been made  that as i understand it that you concede  18 alderson reporting company  inc  1111 fourteenth street  n w  suite 400 washington  d c  20005  202 289 2260  800  for depo 1 is that on your view  once it is determined that the 2 attorney general did apply the statute that authorizes 3 discretion  that would be the end of the review  there 4 could not be a further step in which you say  the refusal 5 to exercise it in favor of my client was an abuse of 6 discretion  you concede that  i take it  7 mr  guttentag  yes  we do  your honor  8 question  okay  9 mr  guttentag  we believe that congress did 10 significantly restrict the scope of judicial review of 11 final orders issued against so called criminal aliens  we 12 recognize that  13 our contention is only that the core review that 14 has always existed and that has never been prohibited as 15 to questions of law and as to the legal validity of the 16 deportation order  that that issue must remain reviewable  17 that there s never been a time during the entire period 18 when review was severely curtailed under the finality 19 provisions that we detail in our brief at some length  20 that there was a long period of time when there was no 21 review of orders of deportation except in habeas corpus 22 proceedings  and what this court repeatedly recognized is 23 that that scope of review is extremely narrow  but it does 24 encompass a question of the legal validity of the order  25 and questions of the construction of the immigration act  19 alderson reporting company  inc  1111 fourteenth street  n w  suite 400 washington  d c  20005  202 289 2260  800  for depo 1 and that s what s at issue here  2 the attorney general has construed the 3 immigration act to say that our clients are not eligible 4 to apply for the exercise of discretion to which the 5 statute entitles them  that question must be reviewable 6 in a court to determine whether the attorney general 7 improperly excluded an entire class of people from 8 eligibility for discretionary relief  and this court s 9 decision in foti and in chadha and in other cases 10 recognized that the final order is contingent on the 11 issuance    the adjudication of discretionary relief  and 12 that means two questions  one is    13 question  again  does that mean there is no 14 final order here  or is it a contingent final order  15 because this is very important for the statutory argument  16 mr  guttentag  your honor  if there is no 17 legally issued adjudication  then i suppose it s accurate 18 to say there s no legally valid order  and so therefore 19 there isn t a final order  20 question  but that    but then justice souter s 21 question is  suppose the discretion was just abused  22 mr  guttentag  well  we don t    23 question  would there then be a final order  24 mr  guttentag  it depends on if the final order 25 is a question of a piece of paper that the board of 20 alderson reporting company  inc  1111 fourteenth street  n w  suite 400 washington  d c  20005  202 289 2260  800  for depo 1 immigration appeals issues  in which case there is a final 2 order  or whether the    there s a legally valid final 3 order    4 question  well  i think you re    5 question  don t you need a final order to go to 6 the court of appeals in the first place  7 mr  guttentag  yes  your honor  as i 8 indicated  there must be that piece of paper from the 9 board of immigration appeals saying this person is ordered 10 removed from the united states  that s what triggers 11 section 1252  12 question  so you ve got a final order for 13 purposes of seeking review  but if you get the review  you 14 say  well  it is not a valid final order because it was 15 entered without application of the authority to grant 16 discretion  17 mr  guttentag  that s correct  your honor  18 question  yes  19 mr  guttentag  that s exactly our    and the 20 question of eligibility for relief is entirely distinct 21 from the exercise of discretion  once the attorney 22 general makes an accurate decision  a legally valid 23 decision as to eligibility for discretionary relief  then 24 the exercise of discretion follows  25 question  if this is a final order  as you re 21 alderson reporting company  inc  1111 fourteenth street  n w  suite 400 washington  d c  20005  202 289 2260  800  for depo 1 talking about  1252 says no court shall have jurisdiction 2 to review any final order of this sort  i mean  are you 3 using final order in two different senses  4 mr  guttentag  no  your honor  we re not  and 5 we re certainly not intending to  we believe that there s 6 ambiguity in the statute  given the severe constitutional 7 questions that would be raised if there were no review at 8 all of this pure question of law  the attorney general s 9 decision  and that ambiguity can come from the term  10 removable  11 we set forth in our brief the reason why we 12 think the term  review  is not sufficiently clear to bar 13 the scope of inquiry that s always been available to 14 review a final order  15 question  so you re got three different 16 ambiguities in one sentence that you ve focused on  17 mr  guttentag  we think there are many 18 ambiguities  i believe the government as well is finding 19 ambiguities in this statute  it is a statute that seeks 20 to limit the role of the courts  and our contention is 21 that it can do that  but it cannot preclude the courts 22 from reviewing and determining the legal validity of the 23 order  and that that is a question that is  whether there 24 are legal    in this case  that is a question of whether 25 there is a legal eligibility determination  22 alderson reporting company  inc  1111 fourteenth street  n w  suite 400 washington  d c  20005  202 289 2260  800  for depo 1 we think the accardi case is very significant in 2 this respect  because in the accardi case  this court 3 confronted the question of the scope of habeas corpus 4 inquiry to review a final order of deportation  it was a 5 case of an alien who was admittedly deportable  there was 6 no issue about that  and claimed that he had not gotten a 7 lawful exercise of discretion because the attorney general 8 had refused to exercise his discretion  as was required  9 in this case    and the court held that that was 10 reviewable in habeas corpus during the period when the 11 review was as restricted as it could possibly be  the year 12 after this court said in the heikkila case that the only 13 review that was available was that which was 14 constitutionally required  now  this claim is even more 15 fundamental  16 question  did accardi say that review was 17 constitutionally required  18 mr  guttentag  accardi exercised review  it 19 did not    20 question  i understand that  and i don t know 21 the basis on which it exercised jurisdiction  and our 22 cases are clear that cases which do not address the 23 jurisdictional question are not authority for the 24 existence of jurisdiction  i don t know on what basis 25 accardi took the case    23 alderson reporting company  inc  1111 fourteenth street  n w  suite 400 washington  d c  20005  202 289 2260  800  for depo 1 mr  guttentag  i    2 question     but it certainly didn t say that 3 there had been a constitutional violation  4 mr  guttentag  i think  your honor    it did 5 not specifically say that  but i think there s two points 6 that are important  one  it was a habeas corpus 7 proceeding decided the term after this court said in the 8 heikkila case that the only review that was available was 9 that which was required by the constitution  10 question  did accardi cite heikkila  11 mr  guttentag  i don t believe it did  your 12 honor  13 question  it didn t  it didn t  i have no 14 idea on what basis accardi    15 mr  guttentag  but may i point out    16 question     took jurisdiction  17 mr  guttentag  may i point out what the dissent 18 said in accardi  your honor  which is that it specifically 19 objected to the court s exercise of jurisdiction on the 20 ground that habeas corpus did not encompass the claim 21 raised in that case  and it objected to the exercise of 22 jurisdiction on precisely the same grounds that the 23 government argues here  that a person is deportable  that 24 it concerns discretionary relief  25 and the court rejected that  and exercised 24 alderson reporting company  inc  1111 fourteenth street  n w  suite 400 washington  d c  20005  202 289 2260  800  for depo 1 discretion  and said there s a fundamental difference 2 between reviewing the exercise of discretion and reviewing 3 the refusal to exercise discretion  and this is a case 4 about the refusal to exercise discretion based on the 5 attorney general s legal ruling that an entire class of 6 individuals is not eligible for relief  7 and it s our    our only challenge is to that 8 determination by the attorney general  that his legal 9 determination as to who is eligible to apply and who is 10 not is legally incorrect  and we believe that claim must 11 be reviewable in a court  it can be the court of appeals  12 and we set forth why we believe that is entirely possible 13 and appropriate  but it must be reviewable in a court  14 i d like to save    15 question  very well  mr  guttentag  16 mr  kneedler  we ll hear from you  17 oral argument of edwin s  kneedler 18 on behalf of the respondent 19 mr  kneedler  mr  chief justice  and may it 20 please the court  21 in 1996  in two separate statutes  congress 22 fundamentally restructured the nation s immigration laws  23 there are amendments of general applicability  and also 24 ones specifically dealing with criminal aliens to ensure 25 that criminal aliens were expeditiously removed from the 25 alderson reporting company  inc  1111 fourteenth street  n w  suite 400 washington  d c  20005  202 289 2260  800  for depo 1 united states  2 briefly  the three amendments of general 3 applicability that are most relevant to these two cases 4 this morning are congress s elimination of deportation and 5 exclusion proceedings  and replacing them with a single 6 proceeding called removal  secondly  congress repealed 7 the prior 1182 c  under which petitioners here seek 8 relief  and replaced it with a new proceeding  or form of 9 discretionary relief called cancellation of removal  and 10 third  congress reenacted  or enacted a new judicial 11 review provision which channeled judicial review  if it s 12 to be had at all  to the courts of appeals  13 the two amendments specifically dealing with 14 criminal aliens that are relevant here is that congress 15 not only repealed the prior 1182 c   but rendered 16 aggravated felons and in some cases other criminal aliens 17 altogether ineligible for cancellation of removal  and 18 secondly  congress provided in section 1252 a  2  c  of 19 the act that no court  which includes both the court of 20 appeals and the district court  shall have jurisdiction to 21 remove    to review an order of removal entered against an 22 alien who had committed one of the specified criminal 23 offenses  24 the theory was that an alien  just like a 25 citizen  would have full access to the courts to contest 26 alderson reporting company  inc  1111 fourteenth street  n w  suite 400 washington  d c  20005  202 289 2260  800  for depo 1 the criminal conviction in the criminal proceedings  both 2 direct review and collateral attack  but once that was 3 done  the validity of the conviction was established  and 4 therefore  with respect to access to the courts  there was 5 really no further need to test the central basis on which 6 the alien was to be removed  7 question  could you just remind me  what 8 happens if a collateral attack is underway and the justice 9 department institutes deportation proceedings  10 mr  kneedler  unless and until the criminal 11 conviction was set aside  it would be a conviction on 12 which the removal order could be based  13 question  suppose there were a very strong 14 showing of deficiency in the conviction  a brady 15 violation  gideon violation  would the collateral review 16 court have the authority to stay the deportation  17 mr  kneedler  i wouldn t think that would be 18 true  but i think typically what would happen is the 19 immigration judge would stay the removal proceedings  i 20 think that happens  i m aware of some cases where that 21 has happened  what the alien should do is    22 question  suppose it didn t  would an article 23 iii court have that authority  24 mr  kneedler  there would be  i think  25 probably    i m not certain about that  but there may be 27 alderson reporting company  inc  1111 fourteenth street  n w  suite 400 washington  d c  20005  202 289 2260  800  for depo 1 access to the court to stay the removal  ordinarily you 2 couldn t go to the court of appeals on the direct    3 question  to which court  the collateral review 4 court in the criminal proceeding  5 mr  kneedler  no  i meant the    i meant the 6 review in the immigration proceedings going to the court 7 of appeals  i m not certain which avenue    8 question  oh  but i thought there was no 9 review    10 mr  kneedler  right  there is    if the claim 11 was    if the alien was in a position that the substantive 12 ground for removal may be invalid  and that s    not the 13 eligibility for discretionary relief  but the substantive 14 ground of removal may be invalid because there s an 15 ongoing collateral attack  then i    my assumption is that 16 some court    first of all  i think the immigration court 17 would stop it  or the bia could prevent the proceedings 18 from going forward  either one  or the attorney general  19 but failing that  i m confident that some court would 20 probably have review  21 i m not sure whether    perhaps the collateral 22 review court  although i m not sure why that would be so  23 because it could be a state collateral proceeding that the 24 alien was trying to have his conviction  state court 25 conviction set aside in  and i wouldn t think that court 28 alderson reporting company  inc  1111 fourteenth street  n w  suite 400 washington  d c  20005  202 289 2260  800  for depo 1 would have any authority to enjoin a removal under federal 2 immigration law  so it may be that the alien could apply 3 to the district director and perhaps    4 question  mr  kneedler    5 mr  kneedler     seek a stay of removal in that 6 way  7 question     this suggestion  because justice 8 kennedy poses a case that  you know  right on the brink of 9 deciding that he s going to have his earlier conviction 10 set aside  what if he s just filed his habeas corpus 11 petition in state court  and it s going to    on the 12 docket  and it s going to sit there for 3 years before 13 it s decided  would the immigration judge have authority 14 to say  i think i want to wait to see what happens in that 15 case  16 mr  kneedler  sure  the immigration judge 17 would have the authority to stay the proceedings  that 18 was the answer that i    19 question  i see  20 mr  kneedler     thought i was giving  but 21 the more fundamental point is  the alien wouldn t be 22 removed until there was a final order of removal entered 23 against him by the bia  if at that point the alien was 24 saying  wait a minute  i m seeking to have my criminal 25 conviction set aside  don t execute the order of removal  29 alderson reporting company  inc  1111 fourteenth street  n w  suite 400 washington  d c  20005  202 289 2260  800  for depo 1 while there may be an invalidity here  the alien could 2 seek a stay of removal in the court of appeals  could move 3 to reopen the proceedings    4 question  well  what if the alien has already 5 had a couple of habeas petitions challenging his criminal 6 conviction  which have decided against him  he now gets a 7 final order  and he says  well  i just filed a third 8 habeas application  9 mr  kneedler  the court of appeals would not be 10 required to issue a stay of removal  but if it was the 11 first    i was just addressing the question of power  not 12 whether it should be    13 question  well  yes  but ordinarily you don t 14 need a habeas review or collateral review to establish the 15 validity of a conviction  16 mr  kneedler  that is    17 question  that s done on direct review  and 18 when that judgment becomes final  the conviction is    19 mr  kneedler  right  no  absolutely  and i 20 think as a general rule there would be no question  i was 21 just addressing there might  in an extreme case  be some 22 cases    23 question  well  if the court of appeals has 24 authority to stay the removal in that case  why doesn t it 25 have the authority to stay the removal here  when it says  30 alderson reporting company  inc  1111 fourteenth street  n w  suite 400 washington  d c  20005  202 289 2260  800  for depo 1 i m in a class of persons to whom this statute simply 2 doesn t apply  3 mr  kneedler  there s a fundamental difference 4 between the case i think you were positing and this one  5 that case had to do with the substantive ground for 6 removability  in other words  is the person removable for 7 having committed an aggravated felony  8 here  the question is quite different  as 9 counsel for petitioners has said  petitioners concede that 10 they are removable  the only question here is whether the 11 attorney general properly denied    12 question  they don t concede that they re 13 removable any more  they concede that they are removable 14 but for the fact that the attorney general didn t take the 15 final step of exercising his discretion  what s your 16 response to that argument  17 mr  kneedler  well    18 question  that they are not removable within 19 the meaning of that statute because the last step hasn t 20 been taken  21 mr  kneedler  well  the last step was taken  22 there was a final order of removal entered against the 23 aliens  24 question  no  but they re saying the last step 25 is the exercise    they re saying  the statute that 31 alderson reporting company  inc  1111 fourteenth street  n w  suite 400 washington  d c  20005  202 289 2260  800  for depo 1 invests him with discretion still applies to my case  2 he s not applying that statute  he is categorically 3 refusing to exercise discretion because he says he doesn t 4 have it  and he s wrong  that s what they mean by the 5 last step  6 mr  kneedler  right  if i could just give two 7 responses to that  the preclusion of review under 8 1252 a  2  c   which was set out at 106 a  of our 9 certiorari petition  it refers to an alien who is 10 removable by reason of having committed a criminal offense 11 covered in certain sections of the act  the word 12 removable doesn t stand alone there  it is removable by 13 reason of having committed an offense  it is identifying 14 the aliens who    15 question  but under your reading the statute is 16 the same as if who is removable isn t even there  there s 17 kind of a missing pronoun  it s awkward  but you give no 18 effect to who is removable  19 mr  kneedler  well  i think this would only    20 question  because your position is  there s a 21 final order of removal against an alien by reason of 22 having committed a criminal offense  that s your 23 position  so under your position the who is removable has 24 no force  25 mr  kneedler  well  it s identifying the subset 32 alderson reporting company  inc  1111 fourteenth street  n w  suite 400 washington  d c  20005  202 289 2260  800  for depo 1 of aliens against whom a final order has been entered  to 2 whom this preclusion of review applies  and it s    3 question  oh  but the statute identifies them 4 by reference to what may be done to them  i mean  i think 5 i m bothered by the same thing that justice kennedy is 6 getting at  the word removable refers not merely to their 7 alien status  and not merely to their conviction  it 8 refers necessarily to a statute which makes them 9 removable  and if  as you concede  they can challenge the 10 alien status  they can challenge the fact of the 11 conviction  why  by a parity of reasoning  may they not 12 also challenge the fact that the statute that the attorney 13 general is operating under doesn t make them removable 14 until discretion has been exercised  how do you draw that 15 line  16 mr  kneedler  well  this was a preclusion of 17 review that was obviously intended to accomplish 18 something  and petitioners    19 question  and their answer is  what it 20 accomplished is  no more review of the exercise of 21 discretion when the discretion is exercised  22 mr  kneedler  that is not governed by paragraph 23  c   that is governed by the preceding paragraph  24 1252 a  2  b  on the same page  which independently bars 25 any judgment regarding the granting of relief under 33 alderson reporting company  inc  1111 fourteenth street  n w  suite 400 washington  d c  20005  202 289 2260  800  for depo 1 certain specified sections  or any other decision that is 2 vested in the discretion of the attorney general  so that 3 category of decisions that are    that petitioners are 4 conceding is not even addressed by this provision  5 this provision must mean something else  and we 6 think it quite clearly encompasses denial of discretionary 7 relief by the attorney general  whether that denial is 8 based on an exercise of discretion or the attorney 9 general s determination that congress has not conferred on 10 him the power to exercise discretion  in either event  11 the alien has been denied relief that congress has 12 specified is discretionary  and as that    13 question  what justice kennedy started out 14 with  i thought  was that their claim here is  there is a 15 section of a new statute  and that section doesn t apply  16 because it isn t retroactive  now  that s like saying  17 this court doesn t have jurisdiction to adjudicate a claim 18 under that section because it doesn t apply  19 now  maybe they re right  maybe they re wrong  20 but it sounds as if they re making a claim that is a claim 21 of jurisdiction  or very similar to one  and how do you 22 distinguish that very basic claim that there is no 23 jurisdiction because there is no applicable law from the 24 claims that you admit you could hear  which include  i am 25 not the alien  i am not removable    you say in your brief 34 alderson reporting company  inc  1111 fourteenth street  n w  suite 400 washington  d c  20005  202 289 2260  800  for depo 1 they could hear whether the alien is removable  whether 2 the ground of removal is one which precludes judicial 3 review  whether the statute is unconstitutional  and 4 whether the proceeding is fundamentally unfair  all of 5 those  you say  could be heard under this statute    6 mr  kneedler  because they    7 question     and i want to know what is 8 different about a claim  there is no jurisdiction because 9 this whole section of the new statute simply doesn t 10 apply  11 mr  kneedler  well  the attorney general 12 certainly has jurisdiction to decide whether to grant 13 discretionary relief  14 the attorney general can decide that on a 15 variety of factors  including the attorney general s 16 understanding of the statute  just as a discretionary 17 determination to exercise prosecutorial discretion not to 18 bring an administrative proceeding that was before this 19 court in food and nutrition workers you could decide  the 20 agency could decide not to bring the case because they 21 didn t think the equities warranted it  or because of an 22 interpretation of the statute  23 that interpretation may be wrong  but when 24 something    when congress intends to vest something in 25 the discretion of an administrative officer  that includes 35 alderson reporting company  inc  1111 fourteenth street  n w  suite 400 washington  d c  20005  202 289 2260  800  for depo 1 legal issues that may bear on the exercise of 2 discretion    3 question  and that includes saying you didn t 4 intend us to have discretion  that seems to me very odd  5 if the question is  is there discretion  then how is it 6 compatible with that scheme for the secretary to say  i m 7 going to determine as a matter of administrative fiat that 8 there is no discretion  9 mr  kneedler  no  what congress has done is 10 vest in the attorney general of the united states the 11 responsibility for interpreting and administering the 12 immigration laws  and in section 1103  that this court 13 relied upon in the ageri ageri case  this court said that 14 the attorney general s interpretation of the immigration 15 laws is controlling  16 congress    in other words  what congress did 17 with respect to the question at issue here was to vest the 18 final determination whether to grant discretionary relief 19 in the attorney general  whether that is based on an 20 interpretation of the statute  or the exercise of 21 discretion  or sometimes a combination of the two  22 question  but this claim comes very close to 23 being covered by the combination of the heikkila and 24 accardi cases  which together indicate that the 25 constitution requires some kind of judicial review over a 36 alderson reporting company  inc  1111 fourteenth street  n w  suite 400 washington  d c  20005  202 289 2260  800  for depo 1 claim that an executive actor unlawfully failed to 2 exercise any discretion  3 mr  kneedler  well  in accardi  as justice 4 scalia pointed out  it s difficult to figure out exactly 5 on what basis jurisdiction was exercised in accardi  the 6 supreme court    this court    7 question  true  it didn t spell it out  but if 8 you look at heikkila and accardi together  there s some 9 indication of support for the position of your opposing 10 counsel  11 mr  kneedler  well  one thing to bear in mind 12 is that the petitioner in accardi argued the case in terms 13 of a due process violation  what was alleged there was 14 that the attorney general had engaged in prejudgment and 15 had deliberately subverted an administrative scheme for 16 adjudicating discretionary applications  and the 17 petitioner argued that that was a violation of due 18 process  19 now  this court subsequently has said in the 20 university of missouri  in 435 u s   that accardi did not 21 state a rule of constitutional law binding on the states  22 so in light of subsequent understandings of what accardi 23 stood for  it would seem odd that if it didn t state a 24 fundamental rule of constitutional law that is binding on 25 the states  that it would nonetheless be the sort of thing 37 alderson reporting company  inc  1111 fourteenth street  n w  suite 400 washington  d c  20005  202 289 2260  800  for depo 1 that congress would be compelled to provide judicial 2 review of under the immigration laws  3 i wanted to respond to two statutory questions  4 and then perhaps explore this point further  petitioners 5 have relied on the foti and chadha cases with respect to 6 the final order of removal being contingent upon the 7 exercise of discretion  in those cases suspension of 8 deportation  9 that    the court explored that  though  solely 10 for purposes of deciding which court would  as a statutory 11 matter  have jurisdiction over the particular claim there  12 and what the court said is  sensibly it only    it makes 13 sense for suspension of deportation claims to be heard in 14 the courts of appeals because the attorney general has 15 chosen to adjudicate applications for suspension of 16 deportation together with the substantive basis for 17 deportation in one single proceeding  18 but the court made pretty clear in foti that the 19 attorney general was not required to do that  and it would 20 have been equally consistent with the act for the attorney 21 general to determine whether to grant relief to particular 22 aliens outside of the affirmative removal proceeding as a 23 matter of discretion  maybe on a sort of certiorari 24 jurisdiction to the attorney general to decide at the 25 close of the case whether to do that or not  and that 38 alderson reporting company  inc  1111 fourteenth street  n w  suite 400 washington  d c  20005  202 289 2260  800  for depo 1 remains the case under the current law  2 nothing in the act requires that the attorney 3 general adjudicate an application for 1182 c  relief  or 4 for cancellation of removal before entering a final order 5 of removal  6 the regulations provide that method of 7 adjudication  but nothing in the act does  and the 8 question  i think  for purposes of whether judicial review 9 is compelled is whether there is a statutory right  10 because after all  congress has plenary power over 11 immigration  over the jurisdiction of the lower federal 12 courts  and broad power over the fashioning of the writ of 13 habeas corpus  as this court said in felker  and congress 14 could legitimately decide if there is not a statutory 15 right to have an application for cancellation or 1182 c  16 relief adjudicated in a particular    17 question  but there are five  five instances in 18 this case in which  despite the language  you think 19 congress has decided to permit the very review that the 20 language seems to forbid  21 mr  kneedler  well  but in this respect  22 what    with respect to whether the person is an alien  23 and with respect to whether he is removable    24 question  yes  25 mr  kneedler     by reason of having committed 39 alderson reporting company  inc  1111 fourteenth street  n w  suite 400 washington  d c  20005  202 289 2260  800  for depo 1 an offense  a reviewing court has to decide those 2 questions in deciding whether the statutory preclusion    3 question  fine  then why wouldn t they also 4 have to decide the question of whether they have 5 jurisdiction at all because this major section of the new 6 statute just doesn t apply  7 mr  kneedler  for the reasons that i said  8 that    for the reason that i said  is that the act does 9 not require that  all 1182 c  said is the attorney 10 general may admit an alien  it doesn t say anything about 11 what proceeding that will be held in  12 question  if she    he exercised his discretion 13 in a totally arbitrary way to say  admitting people  14 setting grace on people of one race or one religion  even 15 so  that s just not reviewable  16 mr  kneedler  well  whether or not there would 17 be    whether or not there would be a review of a 18 constitutional claim we think would be a different matter  19 for example  in chadha  chadha was a constitutional 20 challenge to the statute governing suspension of 21 deportation  it may be that congress would have intended 22 that a constitutional challenge to the statute under which 23 the attorney general was granting or denying    24 question  what about the argument that congress 25 never gave the attorney general such authority  we don t 40 alderson reporting company  inc  1111 fourteenth street  n w  suite 400 washington  d c  20005  202 289 2260  800  for depo 1 get to any grand constitutional issue  but discretion must 2 be exercised reasonably  3 mr  kneedler  well  the    all the act says is 4 that the attorney general may admit an alien and  with 5 that sort of discretionary grant of authority  this court 6 has said in cases like jay v  boyd  and maybe five terms 7 ago  i think it was  in the yang case  that that is like 8 the power of pardon  it s a power of dispensation  it is 9 a power of the attorney general to relieve an alien of the 10 admitted consequences of an order of removal  to lift the 11 consequence of removal and allow the alien to remain here  12 it is a matter of grace  in no sense a matter of right  13 question  but is the concept of abuse of 14 discretion    his authority to exercise discretion  15 there s lots of discretion in federal agencies  but 16 there s also a concept of abuse of discretion  and you 17 seem to be saying no  there isn t  18 mr  kneedler  well  not every situation in 19 which someone  an administrator officer has been afforded 20 a right to exercise discretion  is there judicial review 21 of that  i mean  this court has on a number of occasions  22 like heikkila v  cheney  and like food and nutrition 23 workers  and with respect to the census  an issue of major 24 magnitude  this court held that there was no review of 25 statutory questions or discretionary issues in that 41 alderson reporting company  inc  1111 fourteenth street  n w  suite 400 washington  d c  20005  202 289 2260  800  for depo 1 situation  2 question  the refusal to grant a pardon  since 3 you re analogizing this    4 mr  kneedler  yes  5 mr  kneedler     to the pardon power  i assume 6 we wouldn t review the president s refusal to exercise the 7 pardon power for abuse of discretion  8 mr  kneedler  absolutely  and this isn t to say 9 that the attorney general may not    or the president at 10 some point may decline to exercise the pardon power for a 11 reason that would be thought contrary to law  but that 12 doesn t mean that the possibility of getting a pardon  or 13 in this case a discretionary dispensation from removal  14 gives right to a personal right that the constitution 15 requires congress to provide access to the courts to 16 litigate  17 and congress enacted iirira against the 18 background of great frustration with the inability of the 19 system to remove criminal aliens from the united states  20 and because of the potential for criminal aliens to tie up 21 the courts in trying to stave off the removal  this is an 22 example of this in this very case  that these aliens 23 unquestionably are removal    removable  have conceded it  24 and yet we are litigating a number of years later on the 25 question of whether the    42 alderson reporting company  inc  1111 fourteenth street  n w  suite 400 washington  d c  20005  202 289 2260  800  for depo 1 question  may i just interrupt you  mr  2 kneedler  with this question  they are unquestionably 3 removable  and there s no right to discretion if your 4 construction of the statute is right  but sort of in the 5 background of this case is the question whether 6 convictions obtained before the enactment of this statute 7 have the same legal significance as convictions obtained 8 afterwards  and am i correct in understanding that the 9 government s position is there s no way in which a federal 10 court can decide whether that s correct or not  11 mr  kneedler  that is true  because again  what 12 congress has done has granted a discretionary authority to 13 the attorney general to decide whether to dispense with 14 removal or not  and let me    15 question  what you are doing when you say that  16 it seems to me  is reading the words of the statute that 17 says  removable by virtue of the criminal convictions and 18 so on  to mean not removable  but to mean ordered removed 19 by the attorney general  you are taking a statute that 20 says removable  and you are reading it to say  ordered 21 removed  thereby insulating the courts  or the alien from 22 the possibility of challenging the correctness of the 23 statute under which the attorney general is acting  24 mr  kneedler  well  again  going back to the 25 language of paragraph  c   there are two different 43 alderson reporting company  inc  1111 fourteenth street  n w  suite 400 washington  d c  20005  202 289 2260  800  for depo 1 clauses  one says  review any final order  so that s the 2 passage that deals with there having been an order 3 entered  and then it says  against an alien who is 4 removable by reason of having committed a criminal 5 offense  that is simply identifying which aliens  which 6 ground of removal triggers the preclusion of review    7 question  no  but that s    no  but that s the 8 question in the case  9 mr  kneedler  no  the question    10 question  is it doing anything other than 11 identifying the kind of order by the attorney general  or 12 is it doing something more  is it saying  the attorney 13 general must be acting under a statute under which it is 14 proper for him to make an order of removal without 15 admitting any discretion  that s    16 mr  kneedler  well  i    17 question  that s the issue in the case  18 mr  kneedler  well  but again  i    removable 19 does not stand alone  it says  removable by reason of 20 having committed the offense  i think it does no more 21 than identify the    if i could mention one other thing  22 the word removable is defined in the act  but 23 for    this is in 8 u s c  1229a e  2   which is not 24 reproduced in the papers  but since the question was 25 raised  it is part of the provision that deals with 44 alderson reporting company  inc  1111 fourteenth street  n w  suite 400 washington  d c  20005  202 289 2260  800  for depo 1 removal proceedings  and it says    now  again  it says in 2 this section  meaning the section dealing with removal  3 and the next section  which deals with cancellation of 4 removal  the statute says  the term removable means  in 5 the case of an alien who hasn t been admitted  that the 6 alien is inadmissable under 1182 of the act  or  in the 7 case of an alien admitted to the united states  such as 8 the aliens here  that the alien is deportable under 9 section 1227 of this title  in other words  the term is 10 meant to identify the substantive ground on removal 11 that    12 question  well  the term requires two things  13 it requires a substantive ground  it also requires a 14 statute under which the substantive ground is sufficient 15 by the attorney general operating under the statute    16 mr  kneedler  but a    17 question     and they re saying    they re not 18 challenging the ground that says  i m an alien  or the 19 ground that says  i have a conviction  they re 20 challenging the attorney general s operation under a 21 statute that they say doesn t apply  and removable can 22 cover that just as well as it can cover the substantive 23 grounds relied upon for the removal  24 mr  kneedler  but the paragraph  c  goes on to 25 identify the specific statutory provisions that it is 45 alderson reporting company  inc  1111 fourteenth street  n w  suite 400 washington  d c  20005  202 289 2260  800  for depo 1 referring to  and they are all substantive grounds of 2 removal  they are not    3 question  nobody is removable by reason of that 4 alone  i mean  if you take removable in the broad sense 5 to mean all of the conditions have been complied with to 6 make the removal proper  if you take it in that broad 7 sense  this provision makes no sense  because in that 8 broad sense  nobody is removable solely by reason of 9 having committed a criminal offense  10 mr  kneedler  that s true  i mean  as you 11 pointed out  read expansively it could go to any question 12 that might be thought to call into question the propriety 13 of the attorney general s action  14 question  so if congress wanted to make that 15 point  clearly  congress would have said  anybody who is 16 ordered removed by reason of being an alien with a 17 criminal conviction  that s not what congress    18 mr  kneedler  but it separately addresses that 19 in the preceding line by saying  review of a final order  20 and then it s which final order  so i think it s 21 already    i think congress has already spoken to that 22 question  i    23 question  mr  kneedler  may i ask you just to 24 clarify what you    you say there are a number of 25 categories where there is court review before the person 46 alderson reporting company  inc  1111 fourteenth street  n w  suite 400 washington  d c  20005  202 289 2260  800  for depo 1 is removed  and one of them is a substantial 2 constitutional challenge to an aggravated felony  removal 3 order  4 i was trying to envision what such a challenge 5 would be  given the tightness of the statute  6 mr  kneedler  well  i suppose there could be    7 we don t think it would fail  but i mean    we don t think 8 it would succeed  but if there were some argument that it 9 would be constitutionally impermissible to apply a ground 10 of deportation to conduct that arose before the statute 11 was passed  or that there was some sort of equal 12 protection violation in singling out one ground of removal 13 over another in providing a ground for removal  that could 14 be a constitutional challenge to the statute under which 15 the person is being ordered removed  16 question  if you concede that  why couldn t the 17 litigants in this case say  we make that constitutional 18 argument and  secondly  we say you should construe the 19 statute to avoid that constitutional question  so now 20 we re in court    21 mr  kneedler  they have not made a 22 constitutional    23 question  but if they did that  do you think we 24 could then decide the question  25 mr  kneedler  we    i think not  i think that 47 alderson reporting company  inc  1111 fourteenth street  n w  suite 400 washington  d c  20005  202 289 2260  800  for depo 1 the    i think the only thing that could be done would be 2 to challenge the constitutional ground of removal  3 congress    as we point out in our brief  the 4 one thing that is clear from the legislative background of 5 the passage of iirira and aedpa is that congress wanted to 6 expeditiously remove criminal aliens from the united 7 states  and it regarded the entry of the judgment of 8 conviction as a sufficient ground for doing so  it did 9 not want to provide    first  in our view  we believe 10 congress eliminated discretionary grounds for removal  but 11 it surely would not have intended to have litigation over 12 that  13 question  yes  but that s all perfectly clear 14 with respect to convictions after the statute is passed  15 but the problem is  it s not quite as clear  as least  as 16 to convictions before the statute was passed  and that s 17 why we have the problem  18 mr  kneedler  it is  but it wouldn t be at all 19 surprising that in the climate in which congress acted  20 what congress wanted to do was to vest the final 21 determination on questions such as that in the attorney 22 general  23 as justice ginsburg pointed out  the attorney 24 general could have just decided  taking into account the 25 recent legislative enactment  simply  even if the act 48 alderson reporting company  inc  1111 fourteenth street  n w  suite 400 washington  d c  20005  202 289 2260  800  for depo 1 applied  to say  i m not granting relief to anyone whom 2 congress has identified as an unworthy to remain here  and 3 there s no question that that would be a permissible 4 exercise of discretion  which shows that it can t be a 5 fundamental right    6 question  well  i have some question about 7 that  8 mr  kneedler  well  this court held in the 9 lopez case    10 question  i thought the chennary case  which i 11 never fully understood  says that if the exercise of 12 discretion is committed to an official  the official must 13 exercise that discretion in some instances  14 mr  kneedler  well  this is a statute    again  15 looking at the statute  in which congress has given the 16 power to the attorney general  but unlike  for example  17 the asylum provision  the asylum provision says in section 18 208  the attorney general shall establish a procedure for 19 aliens to file applications for asylum  meaning that the 20 attorney general has to at least be in a position to 21 receive an application and do something with it  22 there is no such provision in this act that 23 requires the attorney general to receive and consider a 24 particular application for relief from deportation  just 25 as there is nothing to require the president to actually 49 alderson reporting company  inc  1111 fourteenth street  n w  suite 400 washington  d c  20005  202 289 2260  800  for depo 1 entertain and pass upon an application for a pardon  and 2 this court said in jay v  boyd that this relief is to be 3 regarded much as the application for a pardon to the 4 president of the united states  5 one final point i want to make clear is that  6 whatever else may be true with respect to judicial review  7 the court of appeals was certainly wrong to say that 8 judicial review would be in the district court  it would 9 stand this act on its head to suggest that criminal aliens 10 whom congress wanted to remove from the country with 11 particular emphasis would be able to go to the district 12 courts  get a level of review there  go to the court of 13 appeals  and then perhaps to this court  14 question  well  what was wrong with the court 15 of appeals saying  if there s nothing else  there s always 16 the general habeas  unless congress says specifically    17 mentioning the statutory provision by number or name  18 that essentially was the second circuit s position  was it 19 not  20 mr  kneedler  well  there s no requirement that 21 congress  in order to channel all review to a court of 22 appeals  has to specifically mention 2241  but    23 question  yes  but the answer    the second 24 circuit was saying  we accept what the government tells 25 us  there s no review in the court of appeals  but 50 alderson reporting company  inc  1111 fourteenth street  n w  suite 400 washington  d c  20005  202 289 2260  800  for depo 1 congress has not deleted the general habeas authority  2 mr  kneedler  congress did two things before 3 iirira was enacted in section 401 e   in a provision 4 called  elimination of habeas corpus  congress repealed 5 the prior provision for habeas corpus relief and secondly  6 in the provision enacted here  it channeled all review to 7 the courts of appeals  8 question  thank you  mr  kneedler  9 mr  guttentag  you have 4 minutes remaining  10 rebuttal argument of lucas guttentag 11 on behalf of the petitioners 12 mr  guttentag  thank you  13 i want to be clear that  under the statute  14 there s no final order of deportation until the 15 application for discretionary relief is adjudicated  that 16 has been the case since these statutes were first enacted 17 in 1917  when discretionary    18 question  can you give me some authority for 19 that proposition  either under the statute  or under our 20 cases  21 mr  guttentag  the chadha case stands for that 22 proposition  your honor  the foti case clearly stands for 23 that proposition  24 question  the government says that those cases 25 came out that way simply because the attorney general had  51 alderson reporting company  inc  1111 fourteenth street  n w  suite 400 washington  d c  20005  202 289 2260  800  for depo 1 as a discretionary matter  decided to determine the 2 discretionary element together with the merits 3 determination  so as a matter of fact  it happened to have 4 been preceding the order of deportation  but that there 5 was no legal requirement that that be the case  6 mr  guttentag  there continues to be the case 7 that the regulations require that  your honor  there s no 8 doubt about that  that the regulations require the 9 immigration judge to adjudicate an application for relief  10 that  in and of itself  is a duty  11 secondly  the cases do say that the final order 12 is contingent on the determination  and this is not about 13 the exercise    14 question  do you have a regulation number for 15 that  or    16 mr  guttentag  it s 212    it was 212e b  2   i 17 believe  and it s currently also the regulation governing 18 the current version of that  which is the cancellation of 19 removal  and i d be happy to provide it at the next case  20 if that s    that that final order    and i don t believe 21 the government would actually contend that under the 22 statute as it s currently implemented  and as it has been 23 since 1917  and under the regulations that govern  that a 24 final order could be entered with the immigration judge or 25 the board of immigration appeals and the attorney general 52 alderson reporting company  inc  1111 fourteenth street  n w  suite 400 washington  d c  20005  202 289 2260  800  for depo 1 simply say  i refuse to adjudicate your application for 2 relief  3 if the attorney general determines that the 4 individual is not legally eligible  then so be it  but 5 that claim is reviewable  if the attorney general 6 exercises discretion  then that is not reviewable  and we 7 concede that  8 the    what the    what this court has said 9 about the pardon analogy to the discretionary decision 10 goes to the exercise of discretion  that s very clear 11 from the jay v  boyd case  it s clear from the yang case  12 your honor  where the exercise of discretion is not 13 reviewable  but the question of whether the attorney 14 general has properly construed who is eligible  the 15 attorney general in this case has said that an entire 16 class of individuals is ineligible because i determined 17 that  congress instructed me to apply this law 18 retroactively  19 whether the statute applies retroactively or not 20 is a question that the courts must decide  that s what 21 landgraf said  and it s for congress to legislate clearly 22 and specifically what the temporal scope of the statute 23 is  and that s not for the attorney general to determine  24 i also  in regard to the particular provision 25 governing the review of discretionary decisions that 53 alderson reporting company  inc  1111 fourteenth street  n w  suite 400 washington  d c  20005  202 289 2260  800  for depo 1 mr  kneedler referred to  that refers to particular 2 determinations there in the    that are in the discretion 3 of the attorney general  for example  asylum claims 4 remain reviewable  so it s clear that the preclusion 5 provision here still would do a significant amount of 6 work  and as far as the definition of what constitute    7 of what removable means  that definition does not 8 specifically apply to the term in section 1252  in the 9 judicial review provision  it is a definition  but it 10 does not specifically apply to what we have at issue here  11 and finally  in terms of the government arguing 12 that the attorney general could simply decide to deny any 13 exercise of discretion  that is the chennary principle  14 that the decision of the attorney general must be  correct 15 or not    16 chief justice rehnquist  thank you  17 mr  guttentag  the case is submitted  18  whereupon  at 11 17 a m   the case in the 19 above entitled matter was submitted   20 21 22 23 24 25 54 alderson reporting company  inc  1111 fourteenth street  n w  suite 400 washington  d c  20005  202 289 2260  800  for depo'"
      ]
     },
     "execution_count": 10,
     "metadata": {},
     "output_type": "execute_result"
    }
   ],
   "source": [
    "Text['Document'] = Text['Document'].str.replace('[^\\w\\s]',' ')\n",
    "Text['Document'][0]"
   ]
  },
  {
   "cell_type": "code",
   "execution_count": 11,
   "metadata": {},
   "outputs": [],
   "source": [
    "user_defined_stop_words = ['-x','--','x•','n','w','e','washington', 'monday','tuesday','x','v','alderson','petitioner','respondent','reporting','company','supreme','court','united','states','states•','•v','•petitioner'] \n",
    "\n",
    "i = stopwords.words('english')\n",
    "j = list(string.punctuation) + user_defined_stop_words\n",
    "\n",
    "stoplist = set(i).union(j)"
   ]
  },
  {
   "cell_type": "code",
   "execution_count": 12,
   "metadata": {},
   "outputs": [
    {
     "data": {
      "text/plain": [
       "0    deboris calcano martinez et al petitioners imm...\n",
       "1    rush prudential hmo inc deborah c moran c wedn...\n",
       "2    trw inc adelaide andrews c october entitled ma...\n",
       "3    william joseph harris c march entitled matter ...\n",
       "4    owasso independent school district aka owasso ...\n",
       "Name: Document, dtype: object"
      ]
     },
     "execution_count": 12,
     "metadata": {},
     "output_type": "execute_result"
    }
   ],
   "source": [
    "Text['Document'] = Text['Document'].apply(lambda x: \" \".join(x for x in x.split() if x not in stoplist and not x[0].isdigit()))\n",
    "Text['Document'].head()"
   ]
  },
  {
   "cell_type": "code",
   "execution_count": 13,
   "metadata": {},
   "outputs": [],
   "source": [
    "freq = pd.Series(' '.join(Text['Document']).split()).value_counts()[:100]"
   ]
  },
  {
   "cell_type": "code",
   "execution_count": 14,
   "metadata": {},
   "outputs": [
    {
     "data": {
      "text/plain": [
       "0    deboris calcano martinez et al petitioners imm...\n",
       "1    rush prudential hmo inc deborah moran wednesda...\n",
       "2    trw inc adelaide andrews october entitled came...\n",
       "3    william joseph harris march entitled came oral...\n",
       "4    owasso independent school aka owasso public sc...\n",
       "Name: Document, dtype: object"
      ]
     },
     "execution_count": 14,
     "metadata": {},
     "output_type": "execute_result"
    }
   ],
   "source": [
    "freq = list(freq.index)\n",
    "Text['Document'] = Text['Document'].apply(lambda x: \" \".join(x for x in x.split() if x not in freq))\n",
    "Text['Document'].head()"
   ]
  },
  {
   "cell_type": "code",
   "execution_count": 15,
   "metadata": {},
   "outputs": [],
   "source": [
    "freq = pd.Series(' '.join(Text['Document']).split()).value_counts()[-100:]"
   ]
  },
  {
   "cell_type": "code",
   "execution_count": 16,
   "metadata": {},
   "outputs": [
    {
     "data": {
      "text/plain": [
       "0    deboris calcano martinez et al petitioners imm...\n",
       "1    rush prudential hmo inc deborah moran wednesda...\n",
       "2    trw inc adelaide andrews october entitled came...\n",
       "3    william joseph harris march entitled came oral...\n",
       "4    owasso independent school aka owasso public sc...\n",
       "Name: Document, dtype: object"
      ]
     },
     "execution_count": 16,
     "metadata": {},
     "output_type": "execute_result"
    }
   ],
   "source": [
    "freq = list(freq.index)\n",
    "Text['Document'] = Text['Document'].apply(lambda x: \" \".join(x for x in x.split() if x not in freq))\n",
    "Text['Document'].head()"
   ]
  },
  {
   "cell_type": "code",
   "execution_count": 17,
   "metadata": {},
   "outputs": [
    {
     "data": {
      "text/plain": [
       "0    deboris calcano martinez et al petitioner immi...\n",
       "1    rush prudential hmo inc deborah moran wednesda...\n",
       "2    trw inc adelaide andrew october entitled came ...\n",
       "3    william joseph harris march entitled came oral...\n",
       "4    owasso independent school aka owasso public sc...\n",
       "Name: Document, dtype: object"
      ]
     },
     "execution_count": 17,
     "metadata": {},
     "output_type": "execute_result"
    }
   ],
   "source": [
    "from textblob import Word\n",
    "Text['Document'] = Text['Document'].apply(lambda x: \" \".join([Word(word).lemmatize() for word in x.split()]))\n",
    "Text['Document'].head()"
   ]
  },
  {
   "cell_type": "code",
   "execution_count": null,
   "metadata": {},
   "outputs": [],
   "source": []
  },
  {
   "cell_type": "code",
   "execution_count": 18,
   "metadata": {},
   "outputs": [],
   "source": [
    "X_train, X_test, y_train, y_test = train_test_split(Text.Document, Labels, test_size=0.2, random_state=23)\n",
    "y_test = np.ravel(y_test)\n",
    "y_train = np.ravel(y_train)"
   ]
  },
  {
   "cell_type": "code",
   "execution_count": 160,
   "metadata": {},
   "outputs": [],
   "source": [
    "vectorizer = TfidfVectorizer(ngram_range=(1, 4), min_df = 4, max_df = .5)\n",
    "X_train_tfidf = vectorizer.fit_transform(X_train)\n"
   ]
  },
  {
   "cell_type": "code",
   "execution_count": 149,
   "metadata": {},
   "outputs": [],
   "source": [
    "#from sklearn.feature_extraction.text import CountVectorizer\n",
    "#count_vect = CountVectorizer(ngram_range=(2, 3))\n",
    "#X_train_counts = count_vect.fit_transform(X_train)\n",
    "#X_train_counts.shape"
   ]
  },
  {
   "cell_type": "code",
   "execution_count": 150,
   "metadata": {},
   "outputs": [],
   "source": [
    "#count_vect.vocabulary_\n"
   ]
  },
  {
   "cell_type": "code",
   "execution_count": 151,
   "metadata": {},
   "outputs": [],
   "source": [
    "#from sklearn.feature_extraction.text import TfidfTransformer\n",
    "#tfidf_transformer = TfidfTransformer()\n",
    "#X_train_tfidf = tfidf_transformer.fit_transform(X_train_counts)\n",
    "#X_train_tfidf.shape"
   ]
  },
  {
   "cell_type": "code",
   "execution_count": 161,
   "metadata": {},
   "outputs": [],
   "source": [
    "from sklearn.naive_bayes import MultinomialNB\n",
    "clf = MultinomialNB(alpha=.01).fit(X_train_tfidf, y_train)"
   ]
  },
  {
   "cell_type": "code",
   "execution_count": 139,
   "metadata": {},
   "outputs": [],
   "source": [
    "#key_to_value_lengths = {k:len(v) for k, v in b.items()}"
   ]
  },
  {
   "cell_type": "code",
   "execution_count": 140,
   "metadata": {},
   "outputs": [],
   "source": [
    "#key_to_value_lengths['14-1146']"
   ]
  },
  {
   "cell_type": "code",
   "execution_count": 162,
   "metadata": {},
   "outputs": [],
   "source": [
    "X_new_tfidf = vectorizer.transform(X_test)\n",
    "\n",
    "predicted = clf.predict(X_new_tfidf)\n"
   ]
  },
  {
   "cell_type": "code",
   "execution_count": 163,
   "metadata": {},
   "outputs": [],
   "source": [
    "score2 = metrics.accuracy_score(y_test, predicted)"
   ]
  },
  {
   "cell_type": "code",
   "execution_count": 164,
   "metadata": {},
   "outputs": [
    {
     "data": {
      "text/plain": [
       "0.6275510204081632"
      ]
     },
     "execution_count": 164,
     "metadata": {},
     "output_type": "execute_result"
    }
   ],
   "source": [
    "score2"
   ]
  },
  {
   "cell_type": "code",
   "execution_count": 165,
   "metadata": {},
   "outputs": [],
   "source": [
    "clf = SGDClassifier(loss='log', penalty='l2',alpha=.001, random_state=23, n_jobs=-1, n_iter = 3200)"
   ]
  },
  {
   "cell_type": "code",
   "execution_count": 166,
   "metadata": {},
   "outputs": [
    {
     "name": "stderr",
     "output_type": "stream",
     "text": [
      "C:\\ProgramData\\Anaconda3\\lib\\site-packages\\sklearn\\linear_model\\stochastic_gradient.py:152: DeprecationWarning: n_iter parameter is deprecated in 0.19 and will be removed in 0.21. Use max_iter and tol instead.\n",
      "  DeprecationWarning)\n"
     ]
    },
    {
     "name": "stdout",
     "output_type": "stream",
     "text": [
      "accuracy:   0.694\n"
     ]
    }
   ],
   "source": [
    "mod2 =  clf.fit(X_train_tfidf, y_train)\n",
    "predicted_svm = mod2.predict(X_new_tfidf)\n",
    "score2 = metrics.accuracy_score(y_test, predicted_svm)\n",
    "print(\"accuracy:   %0.3f\" % score2)"
   ]
  },
  {
   "cell_type": "code",
   "execution_count": 167,
   "metadata": {},
   "outputs": [],
   "source": [
    "tn, fp, fn, tp = confusion_matrix(y_test, predicted_svm).ravel()"
   ]
  },
  {
   "cell_type": "code",
   "execution_count": 168,
   "metadata": {},
   "outputs": [
    {
     "data": {
      "text/plain": [
       "(6, 55, 5, 130)"
      ]
     },
     "execution_count": 168,
     "metadata": {},
     "output_type": "execute_result"
    }
   ],
   "source": [
    "(tn,fp,fn,tp)"
   ]
  },
  {
   "cell_type": "code",
   "execution_count": 177,
   "metadata": {
    "scrolled": true
   },
   "outputs": [
    {
     "name": "stdout",
     "output_type": "stream",
     "text": [
      "\n",
      "******** For i = 0.05 ******\n",
      "The testing accuracy is 0.6887755102040817\n",
      "[[  0  61]\n",
      " [  0 135]]\n",
      "\n",
      "******** For i = 0.49 ******\n",
      "The testing accuracy is 0.6887755102040817\n",
      "[[  5  56]\n",
      " [  5 130]]\n",
      "\n",
      "******** For i = 0.515 ******\n",
      "The testing accuracy is 0.6887755102040817\n",
      "[[  7  54]\n",
      " [  7 128]]\n",
      "\n",
      "******** For i = 0.505 ******\n",
      "The testing accuracy is 0.6938775510204082\n",
      "[[  7  54]\n",
      " [  6 129]]\n",
      "\n",
      "******** For i = 0.68 ******\n",
      "The testing accuracy is 0.47959183673469385\n",
      "[[35 26]\n",
      " [76 59]]\n"
     ]
    }
   ],
   "source": [
    "pred_proba_df = pd.DataFrame(clf.predict_proba(X_new_tfidf))\n",
    "threshold_list = [.05, .49, .515, .505, .68]\n",
    "for i in threshold_list:\n",
    "    print ('\\n******** For i = {} ******'.format(i))\n",
    "    Y_test_pred = pred_proba_df.applymap(lambda x: 1 if x>i else 0)\n",
    "    test_accuracy = metrics.accuracy_score(y_test.reshape(y_test.size,1),\n",
    "                                           Y_test_pred.iloc[:,1].values.reshape(Y_test_pred.iloc[:,1].values.size,1))\n",
    "    print('The testing accuracy is {}'.format(test_accuracy))\n",
    "\n",
    "    print(confusion_matrix(y_test.reshape(y_test.size,1),\n",
    "                           Y_test_pred.iloc[:,1].values.reshape(Y_test_pred.iloc[:,1].values.size,1)))"
   ]
  },
  {
   "cell_type": "code",
   "execution_count": null,
   "metadata": {},
   "outputs": [],
   "source": [
    "len(Labels)"
   ]
  },
  {
   "cell_type": "code",
   "execution_count": null,
   "metadata": {},
   "outputs": [],
   "source": [
    "len(X_train)"
   ]
  },
  {
   "cell_type": "code",
   "execution_count": null,
   "metadata": {},
   "outputs": [],
   "source": [
    "X_train_tfidf[0]"
   ]
  },
  {
   "cell_type": "code",
   "execution_count": 93,
   "metadata": {},
   "outputs": [
    {
     "data": {
      "text/plain": [
       "'deboris calcano martinez et al petitioner immigration naturalization service april entitled came oral appearance lucas guttentag esq new york new york petitioner edwin kneedler esq deputy solicitor department inc fourteenth oral lucas guttentag esq oral edwin kneedler esq rebuttal lucas guttentag esq inc fourteenth p r g rehnquist hear number deboris calcano martinez immigration naturalization service guttentag oral lucas guttentag guttentag please jurisdictional presented legal ruling attorney pure compelling deportation long legal permanent resident reviewable never country history alien deportation without judicial branch determining legal validity administrative deportation order submit constitution permit denying judicial scrutiny attorney ruling deprive appeal considering pure presented legal validity deportation respect inc fourteenth properly deportable guttentag understood conceded met qualification deportation guttentag client deportability ground deportation without adjudication application discretionary relief order deportation complaining attorney accord discretionary relief ground asserting deportable opportunity challenge guttentag order deportation properly entered properly entered qualification deportation existed complaint attorney exercise discretion client stay country nonetheless guttentag disagree respectfully order deportation cannot entered adjudication application discretionary relief eligible apply attorney inc fourteenth authority proposition guttentag authority guttentag chadha foti order deportation contingent talking attorney discretion guttentag order deportation discretionary element order contingent reviewable immigration iirira however pronounce guttentag iirira changed element immigration part process issuing order deportation deportability fall within ground enumerated concede met guttentag concede client conceded inc fourteenth fit within ground deportation second ground challenged iirira prevent judicial ground deportation guttentag construction offered dispute although come conclusion reason order deportation reviewable order cannot entered concede interrupt quick concede conviction prior date enactment proper ground deportation without opportunity discretionary guttentag conviction basis triggering ground deportability understand conceding conviction prior enactment legal effect conviction enactment guttentag purpose inc fourteenth discretionary relief merit st cyr entitled adjudication administrative level ultimately attorney contains discretion basic guttentag basic okay ask part client entitled exercise discretion exercise discretion reviewable abuse discretion guttentag okay guttentag legal eligibility apply discretionary relief reviewable attorney guttentag add post script suppose attorney light aedpa however pronounce decided henceforth exercise discretion never gracious simply deny application exercise inc fourteenth discretion tune current climate legislature answered souter challenge exercise discretion guttentag categorical denial raise permissible raise distinct attorney done attorney lack legal authority exercise discretion pure interpreting divested legal authority consider application discretionary relief attorney interpreted correctly adopt categorical determined lack discretionary authority exercise authority separate distinct suppose conceded attorney discretionary authority exercise immigration found deportable attorney exercise discretion inc fourteenth order deportation guttentag concede order deportation guttentag seems important interpretation seems argue alien request attorney exercise attorney discretion order deportability guttentag certainly agree legally valid order deportation order issued board immigration appeal sense piece paper constitutes order agree legally valid order order guttentag order purpose seeking judicial bia constitutes order legally valid order attorney ruling inc fourteenth order removal alien removable guttentag apply bar provision barring apply constitute order within meaning intended legal error underlying adjudication order reviewable nonetheless legal lack legal validity either determination looking seems attorney much force phrase removable guttentag make awkward frankly client alien removable order guttentag certainly accept interpretation removable term normally appears immigration technical term deportable inc fourteenth removable mean potentially deportable client removable guttentag difficult interpret laughter guttentag thing preclude legal presented term removable asking client removable prevent discretion exercised asked discretion exercised order alien removable guttentag certainly accept interpretation sure unfortunately argue argue guttentag argued principally term preclude scope inquiry traditionally encompassed habeas corpus inc fourteenth constitutional problem raised barring submission frankly work pretty awkward already removal merit interpretation adopted avoid constitutional habeas mechanism guttentag seem happy guttentag absolutely accept guttentag appeal term removable mean properly entered order removable removal client removable guttentag guttentag suggest good inc fourteenth excludes judicial seeking contain phrase removable subsection g entitled exclusive jurisdiction term except provided notwithstanding provision shall jurisdiction hear cause alien arising attorney commence proceeding adjudicate execute removal order alien contain language rely upon guttentag language preclude g place appeal agree appeal construction permit agree order removal reviewable appeal bar order appeal habeas guttentag contention inc fourteenth fail safe mechanism appeal possible guttentag recognize habeas understood habeas available guttentag excuse habeas corpus barred language scope heard certainly placed appeal always agree second guttentag second held habeas corpus jurisdiction concluded possible appeal possible appeal construed permit appeal habeas corpus procedure need available term inc fourteenth removable mean guttentag term ambiguous term deportable immigration us determine someone deportation order removal interpret guttentag mean someone removable order removal therefore apply individual term appears various place immigration far tell consistent meaning throughout adopted connection provision provided alien convicted felony deported guttentag appears place appears relation detention provision place place ask removable embrace requirement attorney exercised discretion inc fourteenth kind reading embrace requirement actually committed criminal offense covered read removable removable broadly defect proceeding rendered order removal invalid cause removable simply open whole defect cause removable take cut swath entire guttentag critical must reviewed constitutional trying discus proposed statutory avoid reaching suggesting read removable embrace unremovable anything done done open whole prior proceeding guttentag possible read providing properly entered order removal include proper legally authorized exercise discretionary inc fourteenth relief entitles course discretionary relief provision changed afford convicted type crime guttentag contention merit client eligible discretionary relief existed preenactment event pure legal attorney determined eligible eligibility relief decided legal ruling attorney determines properly entered order removal resolved merit properly entered order getting suppose committed criminal offense ground apply concedes guttentag habeas portion inc fourteenth guttentag actually committed offense fit within enumerated category set forth concede behind judgment conviction guttentag absolutely determination criminal procedure certified conviction brought immigration dispositive disqualifying conviction conviction constitutes deportable offense within meaning immigration agrees reviewable indicated order removal properly entered must reviewable failure allow apply discretionary relief entitled cannot legally valid order removal difference understand concede inc fourteenth view determined attorney apply authorizes discretion end step refusal exercise favor client abuse discretion concede guttentag okay guttentag significantly restrict scope judicial order issued called criminal alien recognize contention core always existed never prohibited question legal validity deportation order must remain reviewable never entire period severely curtailed finality provision detail brief length long period order deportation except habeas corpus proceeding repeatedly recognized scope extremely narrow encompass legal validity order question construction immigration inc fourteenth attorney construed immigration client eligible apply exercise discretion entitles must reviewable determine attorney improperly excluded entire class eligibility discretionary relief foti chadha recognized order contingent issuance adjudication discretionary relief mean question order contingent order important statutory guttentag legally issued adjudication suppose accurate legally valid order therefore order souter suppose discretion abused guttentag order guttentag depends order piece paper board inc fourteenth immigration appeal issue order legally valid order need order appeal place guttentag indicated must piece paper board immigration appeal ordered removed trigger got order purpose seeking valid order entered without application authority grant discretion guttentag guttentag exactly eligibility relief entirely distinct exercise discretion attorney make accurate legally valid eligibility discretionary relief exercise discretion follows order inc fourteenth talking shall jurisdiction order sort using order sens guttentag certainly intending ambiguity given severe constitutional question raised pure attorney ambiguity come term removable set forth brief term sufficiently bar scope inquiry always available order got three ambiguity sentence focused guttentag many ambiguity finding ambiguity seek limit role contention cannot preclude reviewing determining legal validity order legal legal eligibility determination inc fourteenth accardi significant respect accardi confronted scope habeas corpus inquiry order deportation alien admittedly deportable claimed gotten lawful exercise discretion attorney refused exercise discretion required held reviewable habeas corpus period restricted possibly year heikkila available constitutionally required fundamental accardi constitutionally required guttentag accardi exercised understand basis exercised jurisdiction address jurisdictional authority existence jurisdiction basis accardi took inc fourteenth guttentag certainly constitutional violation guttentag specifically point important habeas corpus proceeding decided term heikkila available required constitution accardi cite heikkila guttentag idea basis accardi guttentag took jurisdiction guttentag dissent accardi specifically objected exercise jurisdiction ground habeas corpus encompass raised objected exercise jurisdiction precisely ground argues deportable concern discretionary relief rejected exercised inc fourteenth discretion fundamental difference reviewing exercise discretion reviewing refusal exercise discretion refusal exercise discretion based attorney legal ruling entire class individual eligible relief challenge determination attorney legal determination eligible apply legally incorrect must reviewable appeal set forth entirely possible appropriate must reviewable save guttentag kneedler hear oral edwin kneedler kneedler please separate statute fundamentally restructured nation immigration law amendment applicability one specifically dealing criminal alien ensure criminal alien expeditiously removed inc fourteenth briefly three amendment applicability relevant morning elimination deportation exclusion proceeding replacing single proceeding called removal secondly repealed prior petitioner seek relief replaced new proceeding form discretionary relief called cancellation removal third reenacted enacted new judicial provision channeled judicial appeal amendment specifically dealing criminal alien relevant repealed prior rendered aggravated felon criminal alien altogether ineligible cancellation removal secondly provided includes appeal shall jurisdiction remove order removal entered alien committed specified criminal offense theory alien citizen full access contest inc fourteenth criminal conviction criminal proceeding direct collateral attack done validity conviction established therefore respect access need test central basis alien removed remind happens collateral attack underway department institute deportation proceeding kneedler unless criminal conviction set aside conviction removal order based suppose strong showing deficiency conviction brady violation gideon violation collateral authority stay deportation kneedler true typically happen immigration stay removal proceeding happens aware happened alien suppose article iii authority kneedler probably certain inc fourteenth access stay removal ordinarily appeal direct collateral criminal proceeding kneedler meant meant immigration proceeding appeal certain avenue oh kneedler alien substantive ground removal invalid eligibility discretionary relief substantive ground removal invalid ongoing collateral attack assumption immigration stop bia prevent proceeding forward either attorney failing confident probably sure perhaps collateral although sure collateral proceeding alien trying conviction conviction set aside inc fourteenth authority enjoin removal immigration alien apply director perhaps kneedler kneedler seek stay removal suggestion pose brink deciding earlier conviction set aside filed habeas corpus petition docket sit year decided immigration authority wait see happens kneedler sure immigration authority stay proceeding see kneedler giving fundamental alien removed order removal entered bia alien wait minute seeking criminal conviction set aside execute order removal inc fourteenth invalidity alien seek stay removal appeal move reopen proceeding alien already couple habeas petition challenging criminal conviction decided get order filed third habeas application kneedler appeal required stay removal addressing power ordinarily need habeas collateral establish validity conviction kneedler done direct judgment becomes conviction kneedler absolutely addressing extreme appeal authority stay removal authority stay removal inc fourteenth class person simply apply kneedler fundamental difference positing substantive ground removability word removable committed aggravated felony quite petitioner petitioner concede removable attorney properly denied concede removable concede removable attorney step exercising discretion response kneedler removable within meaning last step taken kneedler last step taken order removal entered alien last step exercise inc fourteenth invests discretion still applies applying categorically refusing exercise discretion wrong last step kneedler response preclusion set certiorari petition refers alien removable committed criminal offense covered certain section word removable stand alone removable committed offense identifying alien reading removable kind missing pronoun awkward effect removable kneedler order removal alien committed criminal offense removable force kneedler identifying subset inc fourteenth alien order entered preclusion applies oh identifies reference done bothered thing getting word removable refers merely alien status merely conviction refers necessarily make removable concede challenge alien status challenge conviction parity reasoning challenge attorney operating removable discretion exercised draw line kneedler preclusion obviously intended accomplish petitioner accomplished exercise discretion discretion exercised kneedler governed paragraph governed preceding paragraph b independently bar judgment regarding granting relief inc fourteenth certain specified section vested discretion attorney category decision petitioner conceding addressed provision provision must else quite clearly encompasses denial discretionary relief attorney denial based exercise discretion attorney determination conferred power exercise discretion either event alien denied relief specified discretionary started new apply retroactive jurisdiction adjudicate apply maybe maybe wrong sound making jurisdiction similar distinguish basic jurisdiction applicable claim admit hear include alien removable brief inc fourteenth hear alien removable ground removal precludes judicial unconstitutional proceeding fundamentally unfair heard kneedler jurisdiction whole new simply apply kneedler attorney certainly jurisdiction decide grant discretionary relief attorney decide variety factor including attorney understanding discretionary determination exercise prosecutorial discretion bring administrative proceeding food nutrition worker decide agency decide bring equity warranted interpretation interpretation wrong intends vest discretion administrative officer includes inc fourteenth legal issue bear exercise discretion includes intend u discretion seems odd discretion compatible scheme secretary determine administrative fiat discretion kneedler done vest attorney responsibility interpreting administering immigration law relied upon ageri ageri attorney interpretation immigration law controlling word respect vest determination grant discretionary relief attorney based interpretation exercise discretion sometimes combination come close covered combination heikkila accardi together indicate constitution requires kind judicial inc fourteenth executive actor unlawfully failed exercise discretion kneedler accardi pointed difficult figure exactly basis jurisdiction exercised accardi true spell heikkila accardi together indication support opposing kneedler thing bear mind accardi argued term due process violation alleged attorney engaged prejudgment deliberately subverted administrative scheme adjudicating discretionary application argued violation due process subsequently university missouri u accardi constitutional binding light subsequent understanding accardi stood seem odd fundamental constitutional binding nonetheless sort thing inc fourteenth compelled provide judicial immigration law wanted respond statutory question perhaps explore petitioner relied foti chadha respect order removal contingent upon exercise discretion suspension deportation explored though solely purpose deciding statutory jurisdiction particular sensibly make sense suspension deportation claim heard appeal attorney chosen adjudicate application suspension deportation together substantive basis deportation single proceeding pretty foti attorney required equally consistent attorney determine grant relief particular alien outside affirmative removal proceeding discretion maybe sort certiorari jurisdiction attorney decide close inc fourteenth remains current nothing requires attorney adjudicate application relief cancellation removal entering order removal regulation provide method adjudication nothing purpose judicial compelled statutory plenary power immigration jurisdiction lower broad power fashioning writ habeas corpus felker legitimately decide statutory application cancellation relief adjudicated particular five five instance despite language decided permit language seems forbid kneedler respect respect alien respect removable kneedler committed inc fourteenth offense reviewing decide question deciding statutory preclusion fine decide jurisdiction major new apply kneedler reason require attorney admit alien anything proceeding held exercised discretion totally arbitrary admitting setting grace race religion reviewable kneedler constitutional example chadha chadha constitutional challenge governing suspension deportation intended constitutional challenge attorney granting denying never gave attorney authority inc fourteenth grand constitutional discretion must exercised reasonably kneedler attorney admit alien sort discretionary grant authority jay boyd maybe five term ago yang power pardon power dispensation power attorney relieve alien admitted consequence order removal lift consequence removal allow alien remain grace sense concept abuse discretion authority exercise discretion lot discretion agency concept abuse discretion seem kneedler every situation someone administrator officer afforded exercise discretion judicial number occasion heikkila cheney food nutrition worker respect census major magnitude held statutory question discretionary issue inc fourteenth situation refusal grant pardon since analogizing kneedler kneedler pardon power assume president refusal exercise pardon power abuse discretion kneedler absolutely attorney president decline exercise pardon power contrary possibility getting pardon discretionary dispensation removal give personal constitution requires provide access litigate enacted iirira background great frustration inability system remove criminal alien potential criminal alien tie trying stave removal example alien unquestionably removal removable conceded yet litigating number year later inc fourteenth interrupt kneedler unquestionably removable discretion construction sort background conviction obtained enactment legal significance conviction obtained afterwards understanding decide kneedler true done granted discretionary authority attorney decide dispense removal seems reading word removable virtue criminal conviction removable ordered removed attorney taking removable reading ordered removed thereby insulating alien possibility challenging correctness attorney acting kneedler language paragraph inc fourteenth clause order passage deal order entered alien removable committed criminal offense simply identifying alien ground removal trigger preclusion kneedler anything identifying kind order attorney attorney must acting proper order removal without admitting discretion kneedler kneedler removable stand alone removable committed offense identify mention thing word removable defined u reproduced paper since raised part provision deal inc fourteenth removal proceeding meaning dealing removal next deal cancellation removal term removable mean alien admitted alien inadmissable alien admitted alien alien deportable title word term meant identify substantive ground removal term requires thing requires substantive ground requires substantive ground sufficient attorney operating kneedler challenging ground alien ground conviction challenging attorney operation apply removable cover cover substantive ground relied upon removal kneedler paragraph go identify specific statutory provision inc fourteenth referring substantive ground removal nobody removable alone removable broad sense condition complied removal proper broad sense provision make sense broad sense nobody removable solely committed criminal offense kneedler true pointed read expansively call propriety attorney wanted clearly anybody ordered removed alien criminal conviction kneedler separately address preceding line order order already already spoken kneedler ask clarify number category inc fourteenth removed substantial constitutional challenge aggravated felony removal order trying envision challenge given tightness kneedler suppose fail succeed constitutionally impermissible apply ground deportation conduct arose passed sort equal protection violation singling ground removal another providing ground removal constitutional challenge ordered removed concede litigant constitutional secondly construe avoid constitutional kneedler constitutional decide kneedler inc fourteenth thing done challenge constitutional ground removal brief thing legislative background passage iirira aedpa wanted expeditiously remove criminal alien regarded entry judgment conviction sufficient ground provide view eliminated discretionary ground removal surely intended litigation perfectly respect conviction passed quite least conviction passed kneedler surprising climate acted wanted vest determination question attorney pointed attorney decided taking account recent legislative enactment simply inc fourteenth applied granting relief anyone identified unworthy remain permissible exercise discretion show fundamental kneedler held lopez chennary never fully understood exercise discretion committed must exercise discretion instance kneedler looking given power attorney unlike example asylum provision asylum provision attorney shall establish procedure alien file application asylum meaning attorney least receive application provision requires attorney receive consider particular application relief deportation nothing require president actually inc fourteenth entertain pas upon application pardon jay boyd relief regarded much application pardon president whatever else true respect judicial appeal certainly wrong judicial stand head suggest criminal alien wanted remove country particular emphasis able level appeal perhaps wrong appeal nothing else always habeas unless specifically mentioning statutory provision number name essentially second kneedler requirement order channel appeal specifically mention second accept tell u appeal inc fourteenth deleted habeas authority kneedler thing iirira enacted provision called elimination habeas corpus repealed prior provision habeas corpus relief secondly provision enacted channeled appeal thank kneedler guttentag minute remaining rebuttal lucas guttentag petitioner guttentag thank order deportation application discretionary relief adjudicated since statute enacted discretionary authority proposition either guttentag chadha stand proposition foti clearly stand proposition came simply attorney inc fourteenth discretionary decided determine discretionary element together merit determination happened preceding order deportation legal requirement guttentag continues regulation require doubt regulation require immigration adjudicate application relief duty secondly order contingent determination exercise regulation number guttentag b currently regulation governing current version cancellation removal happy provide next order actually contend currently implemented since regulation govern order entered immigration board immigration appeal attorney inc fourteenth simply refuse adjudicate application relief attorney determines individual legally eligible reviewable attorney exercise discretion reviewable concede pardon analogy discretionary go exercise discretion jay boyd yang exercise discretion reviewable attorney properly construed eligible attorney entire class individual ineligible determined instructed apply retroactively applies retroactively must decide landgraf legislate clearly specifically temporal scope attorney determine regard particular provision governing discretionary decision inc fourteenth kneedler referred refers particular determination discretion attorney example asylum claim remain reviewable preclusion provision still significant amount work far definition constitute removable mean definition specifically apply term judicial provision definition specifically apply finally term arguing attorney simply decide deny exercise discretion chennary principle attorney must rehnquist thank guttentag submitted whereupon entitled submitted inc fourteenth'"
      ]
     },
     "execution_count": 93,
     "metadata": {},
     "output_type": "execute_result"
    }
   ],
   "source": [
    "Text.Document[0]"
   ]
  },
  {
   "cell_type": "code",
   "execution_count": null,
   "metadata": {},
   "outputs": [],
   "source": [
    "X_train_tfidf[6]"
   ]
  },
  {
   "cell_type": "code",
   "execution_count": null,
   "metadata": {},
   "outputs": [],
   "source": [
    "X_new_tfidf[0]"
   ]
  },
  {
   "cell_type": "code",
   "execution_count": null,
   "metadata": {},
   "outputs": [],
   "source": [
    "Text.Document[1]"
   ]
  },
  {
   "cell_type": "code",
   "execution_count": null,
   "metadata": {},
   "outputs": [],
   "source": [
    "Text.head()"
   ]
  },
  {
   "cell_type": "code",
   "execution_count": null,
   "metadata": {},
   "outputs": [],
   "source": [
    "predicted[139]"
   ]
  },
  {
   "cell_type": "code",
   "execution_count": null,
   "metadata": {},
   "outputs": [],
   "source": [
    "X_test[139]"
   ]
  },
  {
   "cell_type": "code",
   "execution_count": 190,
   "metadata": {},
   "outputs": [
    {
     "name": "stdout",
     "output_type": "stream",
     "text": [
      "-------------FITTING MODELS-------------\n"
     ]
    },
    {
     "name": "stderr",
     "output_type": "stream",
     "text": [
      "[Parallel(n_jobs=-1)]: Using backend LokyBackend with 8 concurrent workers.\n",
      "[Parallel(n_jobs=-1)]: Done   2 out of   9 | elapsed:   21.6s remaining:  1.3min\n",
      "[Parallel(n_jobs=-1)]: Done   3 out of   9 | elapsed:   21.6s remaining:   43.2s\n",
      "[Parallel(n_jobs=-1)]: Done   4 out of   9 | elapsed:   21.6s remaining:   27.1s\n",
      "[Parallel(n_jobs=-1)]: Done   5 out of   9 | elapsed:   21.7s remaining:   17.3s\n",
      "[Parallel(n_jobs=-1)]: Done   6 out of   9 | elapsed:   21.7s remaining:   10.8s\n",
      "[Parallel(n_jobs=-1)]: Done   7 out of   9 | elapsed:   21.7s remaining:    6.1s\n",
      "[Parallel(n_jobs=-1)]: Done   9 out of   9 | elapsed:   41.2s remaining:    0.0s\n",
      "[Parallel(n_jobs=-1)]: Done   9 out of   9 | elapsed:   41.2s finished\n",
      "[Parallel(n_jobs=-1)]: Using backend LokyBackend with 8 concurrent workers.\n",
      "[Parallel(n_jobs=-1)]: Done   4 out of   9 | elapsed:    0.0s remaining:    0.0s\n",
      "[Parallel(n_jobs=-1)]: Done   9 out of   9 | elapsed:    0.0s finished\n"
     ]
    },
    {
     "name": "stdout",
     "output_type": "stream",
     "text": [
      "-------------SCORING MODELS-------------\n"
     ]
    },
    {
     "data": {
      "image/png": "[encoded data removed]",
      "text/plain": [
       "<Figure size 504x432 with 1 Axes>"
      ]
     },
     "metadata": {
      "needs_background": "light"
     },
     "output_type": "display_data"
    },
    {
     "name": "stdout",
     "output_type": "stream",
     "text": [
      "SGDClassifier(alpha=4, average=False, class_weight=None, early_stopping=False,\n",
      "       epsilon=0.1, eta0=0.0, fit_intercept=True, l1_ratio=0.15,\n",
      "       learning_rate='optimal', loss='log', max_iter=None, n_iter=3200,\n",
      "       n_iter_no_change=5, n_jobs=-1, penalty='l2', power_t=0.5,\n",
      "       random_state=23, shuffle=True, tol=None, validation_fraction=0.1,\n",
      "       verbose=0, warm_start=False) 0.5438979963570127\n"
     ]
    }
   ],
   "source": [
    "from sklearn.model_selection import ParameterGrid\n",
    "from sklearn.linear_model import LogisticRegression\n",
    "from sklearn.metrics import roc_auc_score\n",
    "import parfit.parfit as pf\n",
    "grid = {\n",
    "    'alpha': [1e-7, 1e-6, 1e-5, 1e-4, 1e-3, 1e-2, 1e-1, 1e0, 4],\n",
    "    'penalty': ['l2'],\n",
    "    'loss':['log'], \n",
    "    'n_jobs': [-1],\n",
    "    'n_iter' : [3200],\n",
    "    'random_state' : [23]\n",
    "}\n",
    "paramGrid = ParameterGrid(grid)\n",
    "bestModel, bestScore, allModels, allScores = pf.bestFit(SGDClassifier, paramGrid,\n",
    "           X_train_tfidf, y_train, X_new_tfidf, y_test, \n",
    "           metric = roc_auc_score, greater_is_better=True, scoreLabel = \"AUC\")\n",
    "print(bestModel, bestScore)"
   ]
  },
  {
   "cell_type": "code",
   "execution_count": 1,
   "metadata": {},
   "outputs": [
    {
     "ename": "NameError",
     "evalue": "name 'Text' is not defined",
     "output_type": "error",
     "traceback": [
      "\u001b[1;31m---------------------------------------------------------------------------\u001b[0m",
      "\u001b[1;31mNameError\u001b[0m                                 Traceback (most recent call last)",
      "\u001b[1;32m<ipython-input-1-16b864032d69>\u001b[0m in \u001b[0;36m<module>\u001b[1;34m\u001b[0m\n\u001b[1;32m----> 1\u001b[1;33m \u001b[0mlen\u001b[0m\u001b[1;33m(\u001b[0m\u001b[0mText\u001b[0m\u001b[1;33m)\u001b[0m\u001b[1;33m\u001b[0m\u001b[1;33m\u001b[0m\u001b[0m\n\u001b[0m",
      "\u001b[1;31mNameError\u001b[0m: name 'Text' is not defined"
     ]
    }
   ],
   "source": []
  },
  {
   "cell_type": "code",
   "execution_count": null,
   "metadata": {},
   "outputs": [],
   "source": []
  }
 ],
 "metadata": {
  "kernelspec": {
   "display_name": "Python 3",
   "language": "python",
   "name": "python3"
  },
  "language_info": {
   "codemirror_mode": {
    "name": "ipython",
    "version": 3
   },
   "file_extension": ".py",
   "mimetype": "text/x-python",
   "name": "python",
   "nbconvert_exporter": "python",
   "pygments_lexer": "ipython3",
   "version": "3.7.1"
  }
 },
 "nbformat": 4,
 "nbformat_minor": 2
}
