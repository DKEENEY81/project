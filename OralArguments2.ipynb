{
 "cells": [
  {
   "cell_type": "code",
   "execution_count": 1,
   "metadata": {},
   "outputs": [],
   "source": [
    "import pandas as pd\n",
    "import PyPDF2\n",
    "import numpy as np\n",
    "import re\n",
    "import os\n",
    "from sklearn.feature_extraction.text import CountVectorizer\n",
    "from sklearn.feature_extraction.text import TfidfTransformer\n",
    "from sklearn.model_selection import train_test_split\n",
    "\n",
    "pd.set_option('display.max_columns', 100)"
   ]
  },
  {
   "cell_type": "code",
   "execution_count": 5,
   "metadata": {},
   "outputs": [
    {
     "name": "stdout",
     "output_type": "stream",
     "text": [
      "                       1             IN THE SUPREME COURT OF THE UNITED STATES\n",
      "            2    - - - - - - - - - - - - - - - -X\n",
      "            3    FLORIDA,                       :\n",
      "            4              Petitioner           :\n",
      "            5         v.                        :  No. 00-391\n",
      "            6    ROBERT A. THOMAS               :\n",
      "            7    - - - - - - - - - - - - - - - -X\n",
      "            8                                 Washington, D.C.\n",
      "            9                                 Wednesday, April 25, 2001\n",
      "           10              The above-entitled matter came on for oral\n",
      "           11    argument before the Supreme Court of the United States at\n",
      "           12    11:14 a.m.\n",
      "           13    APPEARANCES:\n",
      "           14    ROBERT J. KRAUSS, ESQ., Senior Assistant Attorney\n",
      "           15         General, Tampa, Florida; on behalf of the Petitioner.\n",
      "           16    GREGORY G. GARRE, ESQ., Assistant to the Solicitor\n",
      "           17         General, Department of Justice, Washington, D.C.; on\n",
      "           18         behalf of the United States, as amicus curiae,\n",
      "           19         supporting the Petitioner.\n",
      "           20    CYNTHIA J. DODGE, ESQ., Assistant Public Defender, Bartow,\n",
      "           21         Florida; on behalf of the Respondent.\n",
      "           22\n",
      "           23\n",
      "           24\n",
      "           25\n",
      "                                              1\n",
      "                          ALDERSON REPORTING COMPANY, INC.                            1111 FOURTEENTH STREET, N.W.\n",
      "                                      SUITE 400\n",
      "                               WASHINGTON, D.C. 20005\n",
      "                                    (202)289-2260\n",
      "                                   (800) FOR DEPO\n"
     ]
    }
   ],
   "source": [
    "Cases = pd.read_csv('data/Cases2018.csv', encoding='iso-8859-1')\n",
    "pdf_file = open('data/00-391.pdf',\"rb\")\n",
    "read_pdf = PyPDF2.PdfFileReader(pdf_file)\n",
    "\n",
    "number_of_pages = read_pdf.getNumPages()\n",
    "page = read_pdf.getPage(0)\n",
    "page_content = page.extractText()\n",
    "print(page_content)"
   ]
  },
  {
   "cell_type": "code",
   "execution_count": 3,
   "metadata": {},
   "outputs": [
    {
     "data": {
      "text/plain": [
       "str"
      ]
     },
     "execution_count": 3,
     "metadata": {},
     "output_type": "execute_result"
    }
   ],
   "source": [
    "type(page_content)"
   ]
  },
  {
   "cell_type": "code",
   "execution_count": 4,
   "metadata": {},
   "outputs": [
    {
     "data": {
      "text/plain": [
       "1390"
      ]
     },
     "execution_count": 4,
     "metadata": {},
     "output_type": "execute_result"
    }
   ],
   "source": [
    "len(page_content)"
   ]
  },
  {
   "cell_type": "code",
   "execution_count": 6,
   "metadata": {},
   "outputs": [],
   "source": [
    "dk =[]\n",
    "number_of_pages = read_pdf.getNumPages()\n",
    "for i in range(0,number_of_pages):\n",
    "    page = read_pdf.getPage(i)\n",
    "    page_content = page.extractText()\n",
    "    dk.append(page_content)"
   ]
  },
  {
   "cell_type": "code",
   "execution_count": 9,
   "metadata": {},
   "outputs": [],
   "source": [
    "#Cases = pd.read_csv('data/Cases2018.csv', encoding='iso-8859-1')\n",
    "#pd.set_option('display.max_columns', 100)"
   ]
  },
  {
   "cell_type": "code",
   "execution_count": 55,
   "metadata": {},
   "outputs": [],
   "source": [
    "#Cases[Cases['dateArgument']=='3/26/2012']"
   ]
  },
  {
   "cell_type": "markdown",
   "metadata": {},
   "source": [
    "### Need to use docket from filename xxxx.pdf to tie back case to other data"
   ]
  },
  {
   "cell_type": "code",
   "execution_count": 56,
   "metadata": {},
   "outputs": [],
   "source": [
    "#Cases[Cases['docket']=='00-1021']"
   ]
  },
  {
   "cell_type": "code",
   "execution_count": 12,
   "metadata": {},
   "outputs": [],
   "source": [
    "##download each PDF.\n",
    "## Access its text\n",
    "##put text in dataframe with docket# and map to original Cases data\n"
   ]
  },
  {
   "cell_type": "code",
   "execution_count": 13,
   "metadata": {},
   "outputs": [
    {
     "data": {
      "text/plain": [
       "1311"
      ]
     },
     "execution_count": 13,
     "metadata": {},
     "output_type": "execute_result"
    }
   ],
   "source": [
    "files = os.listdir('ArgText/')\n",
    "paths = []\n",
    "for file in files:\n",
    "    paths.append('ArgText/'+file)\n",
    "len(paths)"
   ]
  },
  {
   "cell_type": "markdown",
   "metadata": {},
   "source": [
    "#### import pdf filename and contents into dictionary"
   ]
  },
  {
   "cell_type": "code",
   "execution_count": 14,
   "metadata": {},
   "outputs": [
    {
     "name": "stderr",
     "output_type": "stream",
     "text": [
      "PdfReadWarning: Superfluous whitespace found in object header b'2' b'0' [pdf.py:1666]\n"
     ]
    }
   ],
   "source": [
    "my_dict = {}\n",
    "for index, path in enumerate(paths):\n",
    "    with open(path, \"rb\") as f:\n",
    "        dk = []\n",
    "        read_pdf = PyPDF2.PdfFileReader(f)\n",
    "        for i in range(0,read_pdf.getNumPages()):\n",
    "            page = read_pdf.getPage(i)\n",
    "            page_content = page.extractText()\n",
    "            dk.append(page_content)\n",
    "    my_dict[files[index].replace(\".pdf\", \"\")] = \" \".join(dk)##removes pdf from key and turns value array into string"
   ]
  },
  {
   "cell_type": "code",
   "execution_count": null,
   "metadata": {},
   "outputs": [],
   "source": [
    "#files = os.listdir('ArgText/')\n",
    "#paths = []\n",
    "#for file in files:\n",
    "    #paths.append('ArgText/'+file)"
   ]
  },
  {
   "cell_type": "code",
   "execution_count": null,
   "metadata": {},
   "outputs": [],
   "source": [
    "#pdf_file = open('data/00-391.pdf',\"rb\")\n",
    "#read_pdf = PyPDF2.PdfFileReader(pdf_file)\n",
    "\n",
    "#number_of_pages = read_pdf.getNumPages()\n",
    "#page = read_pdf.getPage(36)\n",
    "#page_content = page.extractText()"
   ]
  },
  {
   "cell_type": "code",
   "execution_count": 57,
   "metadata": {},
   "outputs": [
    {
     "data": {
      "text/plain": [
       "1311"
      ]
     },
     "execution_count": 57,
     "metadata": {},
     "output_type": "execute_result"
    }
   ],
   "source": [
    "len(my_dict)"
   ]
  },
  {
   "cell_type": "code",
   "execution_count": 67,
   "metadata": {},
   "outputs": [
    {
     "data": {
      "text/plain": [
       "'1234\\n5\\n678\\n910\\n11\\n12\\n131415\\n161718\\n19\\n202122\\n232425 IN THE SUPREME COURT OF THE UNITED STATES•- - - - - - - - - - - - - - - -X•DAVID ALLEN SATTAZAHN, :•Petitioner :•v. : No. 01-7574•PENNSYLVANIA :•- - - - - - - - - - - - - - - -X•Washington, D.C.•Monday, November 4, 2002•The above-entitled matter came on for oral•argument before the Supreme Court of the United States at•11:06 a.m.•\\nAPPEARANCES:•\\nROBERT B. DUNHAM, ESQ., Assistant Federal Defender,•Philadelphia, Pennsylvania; on behalf of the Petitioner.•IVA C. DOUGHERTY, ESQ., First Assistant District Attorney,•Reading, Pennsylvania; on behalf of the Respondent.•SRI SRINIVASAN, ESQ., Assistant to the Solicitor General,•Department of Justice, Washington, D.C.; on behalf of•the United States, as amicus curiae, supporting the•Respondent.•1  1234\\n5\\n678\\n910\\n11\\n12\\n131415\\n161718\\n19\\n202122\\n232425 C O N T E N T S•ORAL ARGUMENT OF •ROBERT B. DUNHAM, ESQ.•On behalf of the Petitioner •ORAL ARGUMENT OF•\\nIVA C. DOUGHERTY, ESQ.•On behalf of the Respondent •ORAL ARGUMENT OF•\\nSRI SRINIVASAN, ESQ.•PAGE•3•24•On behalf of the United States, as amicus curiae,•supporting the Respondent 39•REBUTTAL ARGUMENT OF•ROBERT B. DUNHAM, ESQ.•On behalf of the Petitioner 48•2  1234\\n5\\n678\\n910\\n11\\n12\\n131415\\n161718\\n19\\n202122\\n232425 P R O C E E D I N G S•(11:06 a.m.)•CHIEF JUSTICE REHNQUIST: We\\'ll hear argument•next in Number 01-7574, David Allen Sattazahn versus•Pennsylvania.•Before we begin the second argument, I would•like to welcome a group of French judges from the Cour --•French Cour de Cassation, France\\'s highest court -- who•are visiting our Court today.•Soir le bienvenue, Monsieurs.•Mr. Dunham, you may proceed.•ORAL ARGUMENT OF ROBERT B. DUNHAM•ON BEHALF OF THE PETITIONER•MR. DUNHAM: Thank you, Mr. Chief Justice, and•may it please the Court:•The double jeopardy question presented in this•case is whether the statutorily mandated judgment of life•that was entered in David Sattazahn\\'s first capital trial•is, as a matter of Federal constitutional law, a judgment•that precludes the Commonwealth of Pennsylvania from•\\nseeking and obtaining the death penalty in a second•capital trial. Pennsylvania was afforded one fair•opportunity to sentence Mr. Sattazahn to death, and the•jury in his case decided, in accordance with the trial•court\\'s instructions, in accordance with the verdict slip,•3  1234\\n5\\n678\\n910\\n11\\n12\\n131415\\n161718\\n19\\n202122\\n232425in accordance with the law of Pennsylvania, to report to•the court the presence of circumstances that it knew would•compel the court to impose a life sentence. That judgment•of life having been imposed after a full and fair•\\nopportunity to try, Pennsylvania could not seek death•against Mr. Sattazahn on retrial.•QUESTION: But that wasn\\'t the result of the•same sort of factual determination by a jury that took•place in Bullington, was it?•MR. DUNHAM: No, that\\'s correct, Your Honor. •The Pennsylvania -- the factual difference between•Pennsylvania and Missouri is the following, Your Honor. •In Pennsylvania -- actually in both States -- if there\\'s a•unanimous jury verdict, that\\'s the verdict that the court•imposes, that\\'s the sentence the court imposes. In both•States, if the jury does not reach a unanimous verdict,•then the court is required as a matter of law to impose a•life sentence, so here, when the jury did not -- when the•jury sent its note back saying it was 9 to 3 in favor of•life, the court was required as a matter of Pennsylvania•law to impose a life sentence.•QUESTION: But in Bullington the verdict was•unanimous, was it not?•MR. DUNHAM: That\\'s correct.•QUESTION: Well, isn\\'t that quite a significant•4  1234\\n5\\n678\\n910\\n11\\n12\\n131415\\n161718\\n19\\n202122\\n232425difference? Here the jury did not come to a conclusion•one way or the other. They -- they hung.•MR. DUNHAM: Well, Your Honor, they did not hang•in the traditional sense of a hung jury, and the•distinction between this case and a hung jury case is the•following. The traditional hung jury case, the lack of --•when there\\'s an absence of unanimity what happens is, the•trial court discontinues the proceedings and jeopardy•never terminates, and the proceedings are sent back to•start over.•Here, as a matter of Pennsylvania law, the•legislature determined in advance, saw the possibility of•a nonunanimous jury as one of the foreseeable outcomes of•the trial and in so doing it said, well, if that happens,•what we\\'re going to do is say, the State only gets one chance. If the State does not meet its burden of proving•to all twelve jurors that aggravating circumstances•\\noutweigh mitigating circumstances, then, well, that\\'s the•only chance they get, and if they don\\'t do that --•QUESTION: But you agree --•QUESTION: That assumes the point in issue. The•State says that\\'s not what we\\'re saying, it\\'s a default•mechanism and that is not the only chance the State gets•if there\\'s a default. I -- this isn\\'t a State law issue•we\\'re arguing. I take it that the case comes to us on the•5  1234\\n5\\n678\\n910\\n11\\n12\\n131415\\n161718\\n19\\n202122\\n232425assumption that this is -- that Missouri has done is a•correct interpretation of its law. I mean, if the State•supreme court says so, so you -- for you to say, oh well,•the State says this is the only chance, that\\'s the whole•issue of the case.•MR. DUNHAM: Well, Your Honor, this is like•Smalis versus Pennsylvania, another double jeopardy case•in Pennsylvania that was a decade before, in which•\\nPennsylvania -- this Court correctly found that•\\nPennsylvania could say what was necessary for the court to•enter a judgment --•QUESTION: Yes, but --•MR. DUNHAM: -- but not say what the•constitutional --•QUESTION: •whether or not there was double jeopardy, whether or not•he, in fact, could be subject to a new trial, but you are•telling us that the State in this case has said that this•is his -- the State\\'s only chance, and that\\'s not the way•the State reads this law. That\\'s all I would say.•-- that was a question of what was --MR. DUNHAM: This is what the statute says, Your•Honor. What the statute -- the statute is very clear•when -- when you look at --•QUESTION: The statute doesn\\'t say anything•about this is the State\\'s only chance.•6  1234\\n5\\n678\\n910\\n11\\n12\\n131415\\n161718\\n19\\n202122\\n232425 MR. DUNHAM: Your Honor, what the statute•says -- that\\'s true, the statute does not expressly say•this is your only chance. What the statute says, it•delineates the two circumstances, and the only two•\\ncircumstances in which a death sentence may be imposed,•and then it says, the verdict must be a sentence of life•imprisonment in all other cases.•In so doing, what the Pennsylvania legislature•determined was that unless -- unless the prosecution was•able to prove its case for death, that is, that•\\naggravating circumstances outweighed mitigating•\\ncircumstances, and was able to prove its case for death•unanimously, then the outcome would be a life sentence.•QUESTION: Mr. Dunham, do I understand that•essentially what you are arguing is that we have here, to put it in simple terms, claim preclusion but not issue•preclusion? You agree that this jury found nothing, so•that if the Pennsylvania law had been -- when the jury•comes in 9 to 3 or 7 to 2, whatever -- when it comes in•that way, that the Pennsylvania law had been new trial on•penalty, you would have no double jeopardy claim. So•you\\'re relying on the entry of a mandatory judgment for•life to effect basically claim preclusion, although you•admit there\\'s no issue preclusion. That is, no issue has•been found by anyone.•7  1234\\n5\\n678\\n910\\n11\\n12\\n131415\\n161718\\n19\\n202122\\n232425 MR. DUNHAM: There\\'s no issue preclusion with•respect to aggravating and circumstance -- aggravating and•mitigating circumstances, Your Honor, but what\\'s clear is•that this jury had made a legally binding factual•\\ndetermination with respect to the issue of life or death,•and --•QUESTION: But this jury --•QUESTION: But it --•QUESTION: -- didn\\'t do anything but say We•can\\'t agree.•QUESTION: Yes, they just hung.•MR. DUNHAM: No, Your Honor. This jury did•split 9 to 3.•QUESTION: And its verdict had to be unanimous•in order to have any effect, did it not?•MR. DUNHAM: The verdict had to be unanimous for•the jury verdict to be imposed, but by operation of•Pennsylvania law, when -- the judge is then given the•opportunity to make two predicate factual determinations,•and if those predicate factual determinations are found --•and those are determinations relating to whether or not•the State had proven its case -- then the judge must•impose a life sentence.•QUESTION: Well, could the judge have imposed a•death sentence here in view of a 9 to 3 verdict of the•8  1234\\n5\\n678\\n910\\n11\\n12\\n131415\\n161718\\n19\\n202122\\n232425jury?•MR. DUNHAM: No, it could not, Your Honor.•QUESTION: Well, then, it seems to me when you•say Pennsylvania law says this and says that, as Justice•Kennedy just -- that\\'s not what the supreme court of•\\nPennsylvania said. You\\'ve obviously got a constitutional•argument here, double jeopardy, but I don\\'t think you can•shift it over and say, this is what Pennsylvania law says.•MR. DUNHAM: The Pennsylvania supreme court --•yes, Your Honor.•The Pennsylvania supreme court can say what the•operative effects of the statute are, and what the•Pennsylvania supreme court has said the operative effects•of the statute are is that when the jury is not unanimous,•then the judge must take a particular step, and that is to impose the mandatory life sentence.•QUESTION: Yes, I do think you can say that in•this case, there was a judgment that could have been final•had there been no appeal, and so therefore it\\'s different•from a hung jury case in some other instances where•there\\'s just no determination at all, because after the•jury\\'s failure to agree, the judge did impose a sentence•that might have become final, that looked final in many•instances, in -- from many perspectives. It turned out•that there was an appeal, but it could have been final if•9  1234\\n5\\n678\\n910\\n11\\n12\\n131415\\n161718\\n19\\n202122\\n232425there had been no appeal.•MR. DUNHAM: Well, in fact, Your Honor --•QUESTION: I mean, I take it that\\'s part of your•case.•MR. DUNHAM: Well, Justice Kennedy, what•Pennsylvania does is, Pennsylvania forecloses any appeal•of the sentencing determination. When the defendant•receives a life sentence at the close of this trial-like•capital sentencing proceeding the State does not have•authority to appeal and, of course, the defendant has no•reason to appeal because he has -- he\\'s come out with a•life sentence.•QUESTION: Can I ask you, do you know from the•record in this -- does the record tell us in this case•whether or not this criminal defendant was advised of the risk of taking an appeal?•MR. DUNHAM: There is nothing in the record that•indicates that he was advised of that risk. In fact, the•record -- everything that we can see on the record, from•the record there is nothing that says anywhere that David•Sattazahn was told that if he took an appeal, he risked•his life, and in fact --•QUESTION: Well, do Pennsylvania judges•ordinarily tell potential appellants what the consequences•of an appeal will be?•10  1234\\n5\\n678\\n910\\n11\\n12\\n131415\\n161718\\n19\\n202122\\n232425 MR. DUNHAM: Well, Pennsylvania judges tell them•what rights that they are waiving, so --•QUESTION: By appealing?•MR. DUNHAM: Yes, Your Honor. But -- But what•was --•QUESTION: What sort of a colloquy would that•be?•MR. DUNHAM: I --•QUESTION: I mean, you know, I can see where a•defendant\\'s being arraigned, or being advised whether or•not he should have counsel, there\\'s that sort of a•\\ncolloquy, but --•MR. DUNHAM: That\\'s what I was thinking of, Your•Honor.•QUESTION: Yes. •verdict comes in, there\\'s no colloquy between the judge•and the defendant, is there?•Ordinarily a judge, after a MR. DUNHAM: No, Your Honor. There\\'s a colloquy•as to you have a certain number of days to file post•verdict motions, you have the right to be represented by•counsel, and so forth.•QUESTION: Could you --•QUESTION: One of the things that we worry about•in enforcing the Double Jeopardy Clause is the possibility•that without its protection, the State, in effect, could•11  1234\\n5\\n678\\n910\\n11\\n12\\n131415\\n161718\\n19\\n202122\\n232425fail in its attempts and try again and again and again and•again. Is there any risk of that with respect to the•penalty determination here?•On the face of it, it would seem that there•isn\\'t such a risk, because the only circumstance -- or the•only obvious circumstance -- in which the State could see•the -- seek the death penalty again is the one that we•have in this case, in which the defendant takes the appeal•on some underlying issue of guilt or innocence, and it\\'s•only then, if he is successful, that the State would, on•its view and on the Pennsylvania supreme court\\'s view,•have another shot at getting the death penalty. Is there•any greater risk of the State\\'s being -- bringing•repetitive, making repetitive attempts to get the death•penalty against a given defendant?•MR. DUNHAM: Well, Your Honor, if the judgment•is not a final judgment sentence, I don\\'t see as a matter•of double jeopardy jurisprudence what would prevent the•State of Pennsylvania from then saying, for every other•defendant who had received a life sentence solely by•virtue of a split jury, why that would not be subject to•further proceedings.•QUESTION: Well, that\\'s a question that•ultimately I intended to ask counsel on the other side,•but what\\'s your position on it?•12  1234\\n5\\n678\\n910\\n11\\n12\\n131415\\n161718\\n19\\n202122\\n232425 MR. DUNHAM: I think that --•QUESTION: If you lose, is that, in your•judgment, the consequence?•MR. DUNHAM: I think that\\'s --•QUESTION: That even in a case in which the•defendant does not appeal the underlying conviction, the•State can say, we\\'d simply like to try again on penalty? •Is that your position?•MR. DUNHAM: Your Honor, under double jeopardy•law, yes, I think that would be the risk --•QUESTION: Well, is it a plausible position•under Pennsylvania law, because I -- and here I\\'m really•at sea, but we\\'ve been told that the State has no appeal•from the sentence. The State cannot go to the State•supreme court and say something was wrong in the sentencing proceeding and we should have another•\\nopportunity, so how would the State get its second choice?•Do you think it would be inconsistent under•State law for the State simply to go to the trial judge•and say We\\'d like you to vacate that judgment insofar --•or the verdict -- insofar as it calls for a life sentence•and let us try again? Do you think that is open to the•State under State law?•MR. DUNHAM: I think the suggestion would be --•they certainly cannot appeal. That would be the manner in•13  1234\\n5\\n678\\n910\\n11\\n12\\n131415\\n161718\\n19\\n202122\\n232425which it would be done if the State -- if the State --•QUESTION: No, but is there any reason to•believe that they could follow the course that I just•suggested, which would give them a repetitive opportunity?•MR. DUNHAM: I would say as a matter of double•jeopardy, yes, there would be a reason to fear that.•QUESTION: No, but I\\'m just asking a question of•State law. Do you think the State law can be read in a•way that would allow them to do that?•MR. DUNHAM: Yes, Your Honor, I do.•QUESTION: But how?•QUESTION: I can\\'t believe you would take that•position, that as a matter of State law the State can go•in afterwards and seek a redetermination of the death•penalty under Pennsylvania law. •\\nthe State can\\'t appeal.•You\\'ve already told us MR. DUNHAM: I\\'m -- that\\'s --•QUESTION: Under what provision of State law•could the State go in and ask for it to be done in some•other fashion? I\\'m startled by your answer, really.•MR. DUNHAM: Well, Your Honor, I mean, I think•it\\'s unlikely that the State would do that, but I\\'m saying•that --•QUESTION: We\\'re just asking, as a matter of•State law, how could it?•14  1234\\n5\\n678\\n910\\n11\\n12\\n131415\\n161718\\n19\\n202122\\n232425 QUESTION: The whole premise of your case is, as•I understand it, is as a matter of Pennsylvania law, a•split verdict has the same effect as a unanimous verdict•for life.•MR. DUNHAM: That\\'s right, Your Honor.•QUESTION: So, let\\'s -- let\\'s --•QUESTION: If that\\'s true, then they certainly•can\\'t go in and -- and ask for another trial.•QUESTION: Let\\'s go back for a second, can --•QUESTION: So, you misspoke on that.•MR. DUNHAM: Yes, Your Honor.•QUESTION: Could we go back to where we started•this whole discussion? I mean, I would like to suggest to•you that we\\'re dealing with a kind of analogy, that the•law in this entire area is a matter of analogy. We\\'re•analogizing the penalty phrase of a death trial as if it•were a second trial.•MR. DUNHAM: That\\'s correct.•QUESTION: So I take it your problem is that•working with analogy, there\\'s quite a lot here that•suggests a hung jury, and there are some things that•don\\'t, so if it\\'s like a hung jury, of course, the Double•Jeopardy Clause doesn\\'t bar it. If it\\'s not like a hung•jury, then it does, so I\\'d like to ask you to say as•concisely as you can in terms of the purposes of this•15  1234\\n5\\n678\\n910\\n11\\n12\\n131415\\n161718\\n19\\n202122\\n232425whole area of law, why is it not like a hung jury?•MR. DUNHAM: Yes, Your Honor.•Justice Breyer, it\\'s not like a hung jury first•because in the hung jury cases, the jury fails to reach a•decision and, as a result, the trial court then•\\ndiscontinues the proceedings. A hung jury does not result•in the entry of a judgment. In a hung jury situation, the•case gets sent back and the prosecution then has the•opportunity to decide whether it\\'s going to proceed with a•retrial.•This is not a hung jury. It\\'s not a hung jury•because 1) it does not produce a mistrial, it produces as•a matter of law an entry of judgment, and that judgment is•a -- what we would say is a -- a judgment of acquittal. •The reason it\\'s a judgment of acquittal is because this Court has made clear in the context of Bullington, it\\'s•made clear in the context of Rumsey, and even in Monje v.•California and Casperri that there is something•fundamentally different about a capital sentencing•\\nproceeding that has all the hallmarks of a trial of guilt•or innocence.•There\\'s something fundamentally different about•those proceedings from any other sentencing proceeding•and, because of that, because a capital sentencing•\\nproceeding is the functional equivalent of a trial on the•16  1234\\n5\\n678\\n910\\n11\\n12\\n131415\\n161718\\n19\\n202122\\n232425issue of life or death, and because the State has•\\nadditional burdens of proof, additional evidentiary•requirements, the sentencing phase is, in effect, the•functional equivalent of a greater offense.•Because of these factors, when a defendant•emerges from a capital sentencing proceeding, tried to•completion, submitted to a jury and, after the•deliberations are done and the law operates, comes out of•this with a sentence of life, that life sentence is an•acquittal of the death penalty.•Now, because of that --•QUESTION: You really are arguing for claim•preclusion, because in the two juries -- the jury in a•State that says, Okay, we do a retrial on sentence, and•Pennsylvania -- the two juries are doing an identical thing. You\\'re giving it a different label because•Pennsylvania law precludes the claim, but the two juries•have done precisely the same thing, so -- and the•\\ndifference between this case and Bullington, of course, is•that there was a determination, a fact determination by•the fact-finder for life rather than death.•MR. DUNHAM: Yes, Your Honor.•QUESTION: And so you can\\'t equate those two•cases, so you have to be relying on claim preclusion•because a judgment has been entered.•17  1234\\n5\\n678\\n910\\n11\\n12\\n131415\\n161718\\n19\\n202122\\n232425 MR. DUNHAM: Well, but Your Honor, I think it\\'s•important to know what it is that the jury knew at the•time that it made its statement to the judge that it was•going to -- that it was intractably split 9 to 3 in favor•of life.•What that jury knew, because it was told in the•jury instructions, was that there were certain•circumstances in which it could impose a death penalty. •There were two limited circumstances -- aggravating•circumstances and no mitigation, or aggravation that•\\noutweighed mitigation -- and in all other circumstances a•life sentence would be returned, so the jury is told that•up front.•Then the judge instructed the jury to take a•look at the verdict slip in the case, and the verdict slip -- which contained language in bold capital letters•that were mandated by the Pennsylvania Rules of Criminal•Procedure -- the verdict slip also told the story the same•things, and told the jury that if it could not reach a•unanimous verdict, it was to report that to the court, and•if the court found two facts, 1) that they were not•unanimous and 2) that they were not going to be unanimous,•the court would have the duty to impose a life sentence.•QUESTION: And that would go even if it had been•1 for life and 11 for death, so you\\'ve repeated a few•18  1234\\n5\\n678\\n910\\n11\\n12\\n131415\\n161718\\n19\\n202122\\n232425times the 9 to 3 for life, but it wouldn\\'t make any•\\ndifference if it was lopsided the other way?•MR. DUNHAM: That\\'s correct. That\\'s correct,•Your Honor. But what\\'s clear from this is that this jury•knew when it was reporting back that a life sentence would•result, and what\\'s also clear is the way the statute is•written, the legislature has determined -- the legislature•has placed on the State the burden of persuading all 12•jurors that death is the appropriate punishment, that•aggravation outweighs mitigation. When the jury splits,•that is a fact finding that the State has not proven its•case to all 12.•QUESTION: But it\\'s not a fact finding by the•whole jury.•MR. DUNHAM: •the jurors that the State has not been able to persuade•everybody.•Well, it\\'s a fact finding by all of QUESTION: Yes, that\\'s true, but it\\'s 9 out•of 12, or 11 out of 1, whatever the case may be. It\\'s not•the whole jury.•MR. DUNHAM: Yes, Your Honor, but then again,•Your Honor, as a matter of double jeopardy -- as a matter•of constitutional law -- there\\'s nothing magical about the•jury having to be unanimous. In fact --•QUESTION: No, but there is something magical•19  1234\\n5\\n678\\n910\\n11\\n12\\n131415\\n161718\\n19\\n202122\\n232425about a jury, a unanimous jury making a determination, as•was the case in Bullington, where you don\\'t just have a•split in the jury, the whole jury comes back and says Yes,•it\\'s only life.•MR. DUNHAM: But here the sentencer came back•and said Because the State has failed to prove its case•for death, then the answer is life.•The Pennsylvania law sets for the circumstances•in which the State has either proven or failed to prove•its case for death, and --•QUESTION: Mr. Dunham, maybe I\\'m•misunderstanding the Pennsylvania law, but I thought that•this position, we enter judgment of life, it favors•\\ndefendants. That is, the State is saying If nothing•further happens we\\'re not going to subject this defendant to the chance of getting death on a resentencing hearing.•We\\'re going to give him life.•On the other hand, if he chooses to appeal from•the guilt part on, say, a charge error, as was the case•here, then we\\'re no longer going to give him that benefit. •We did it on the notion that the thing would be over. He•wouldn\\'t be subject to death, but now he\\'s taking, in•effect, advantage of something we did to benefit him.•MR. DUNHAM: Essentially, Your Honor, what•you\\'re stating is the clean slate doctrine, and what --•20  1234\\n5\\n678\\n910\\n11\\n12\\n131415\\n161718\\n19\\n202122\\n232425and I think it\\'s critical, when we\\'re categorizing the•cases, to figure out which box this case goes in.•The clean slate doctrine applies when the•defendant has been convicted, and has been convicted of•the relevant charge. If it\\'s true, as this Court has said•in Bullington, and as this court has said in Rumsey, and I•would suggest, Your Honors, as it said in both Casperri•and Monje, that there is this categorical distinction•between capital sentencing proceedings and noncapital•proceedings, and that what happens in a trial-like capital•sentencing proceeding is that you have a separate trial on•the issue of the death penalty, then when you are•\\nappealing from your guilt stage conviction, you\\'re•\\nessentially appealing from a lesser offense, and so, using•as the analogy Green versus United States, you would not be appealing -- you would not be placing the sentence at•issue. You have won on the issue of sentence, so you\\'re•appealing a lesser offense.•QUESTION: But apparently Pennsylvania has•interpreted its law differently on this point. •Pennsylvania would say, I gather, that if the defendant•does appeal in these circumstances from his conviction,•that it\\'s all open to the State to seek the death penalty•again. That\\'s what Pennsylvania would say.•MR. DUNHAM: But Pennsylvania can\\'t --•21  1234\\n5\\n678\\n910\\n11\\n12\\n131415\\n161718\\n19\\n202122\\n232425 QUESTION: But you don\\'t want us to hold that it•can say that. You want to say that the Federal rule•should come into play and prevent Pennsylvania from saying•that.•MR. DUNHAM: That\\'s correct, Your Honor.•QUESTION: May I ask you a question about --•actually, two questions about Bullington? Is it not -- am•I correct in recalling that in Bullington, the State had•the same -- the jury had the same two options, it either•could have found unanimously for the death penalty, or•either unanimously or by a split verdict, it could have•refused to find the death penalty and the consequence•under Missouri law would have been the life sentence?•MR. DUNHAM: That\\'s correct.•QUESTION: •that respect.•So it\\'s exactly like this case in MR. DUNHAM: That\\'s correct.•QUESTION: And is it also not true that in that•case, we can\\'t tell whether the jury verdict was finding•no aggravating circumstances, or a finding that no matter•what the aggravating circumstances are, we\\'re not going to•impose the death penalty?•MR. DUNHAM: In Bullington?•QUESTION: Yes.•MR. DUNHAM: Justice Stevens, in Bullington we•22  1234\\n5\\n678\\n910\\n11\\n12\\n131415\\n161718\\n19\\n202122\\n232425can take it one step further. In Bullington, we know that•the jury found at least one aggravating circumstance.•QUESTION: And they -- so that their -- the•double jeopardy did not rest on the fact there was a•finding of fact, but rather, there was an ultimate•judgment that death is the inappropriate penalty?•MR. DUNHAM: That\\'s correct, Your Honor.•QUESTION: Yes.•MR. DUNHAM: Now, Your Honors, I\\'d like to make•a -- I\\'d like to just talk very briefly about the second•issue and then reserve time for rebuttal. The•Commonwealth has agreed that this statute -- the•\\nPennsylvania statute -- has created a liberty interest, a•life and liberty interest in the life sentence that was•the product of the nonunanimous jury.•What we would like to -- the dispute between the•parties is whether that life and liberty interest that the•State concedes exists survives an appeal, and for all the•reasons that we\\'ve talked about in the briefs, we would•say it does, because there is a special interest in•\\nfinality.•This Court has recognized in Bullington and in•Rumsey that capital sentencing proceedings -- and also in•the other, the noncapital cases we mentioned -- that one•of the hallmark differences between a capital sentencing•23  1234\\n5\\n678\\n910\\n11\\n12\\n131415\\n161718\\n19\\n202122\\n232425phase and a noncapital sentencing is precisely the•\\nexpectation in finality in the capital sentencing, and so•the defendant has a legitimate and substantial expectation•going in that when he gets this life sentence, it is going•to be a sentence that will remain with him.•We would say that Pennsylvania arbitrarily•deprives a defendant of this life and liberty interest if•it conditions his appeal -- if it conditions the•\\nenforcement of that right -- upon giving up the right to•appeal a lesser and distinctly different offense. It\\'s•conditioning the enforcement of his life sentence for --•in this case -- upon his not appealing the lesser first•degree murder charge, and that\\'s where we say it\\'s•\\narbitrary.•If the Court has no further questions, I\\'d like to reserve the remaining time for rebuttal.•QUESTION: Very well, Mr. Dunham.•Ms. Dougherty, we\\'ll hear from you.•ORAL ARGUMENT OF IVA C. DOUGHERTY•ON BEHALF OF THE RESPONDENT•MS. DOUGHERTY: Mr. Chief Justice, and may it•please the Court:•In Bullington, this Court examined its holding•that the Double Jeopardy Clause does not apply to•sentencing proceedings, and carved out a limited exception•24  1234\\n5\\n678\\n910\\n11\\n12\\n131415\\n161718\\n19\\n202122\\n232425which was based on the findings made by a sentencer in a•capital sentencing proceeding. The exception does not•arise out of the proceeding itself. It arises out of•these findings, which distinguish it from a traditional•sentencing procedure. This is the only conclusion which•is consistent with existing double jeopardy jurisprudence. •The Court has never applied double jeopardy protections to•traditional sentencing procedures, because --•QUESTION: It does seem a little odd that -- if•you have case 1, where there are no errors and the•\\ndefendant is not in any way prejudiced, and there is a•life sentence, that\\'s final. But in this case, there was•a flawed trial, the defendant was prejudiced, but at this•point he now faces a greater sentence for having -- for•having established the -- that prejudice. •\\nif we\\'re going to give him the option, we\\'d say That\\'s a•risk he takes, but it\\'s a little troubling about your --•Now, obviously, MS. DOUGHERTY: Well, double jeopardy -- the•Double Jeopardy Clause doesn\\'t preclude a defendant having•to make choices in making a decision, and there\\'s nothing•final about the life sentence that\\'s imposed by a default•judgment under the Pennsylvania statute. It\\'s no•different than any other sentence imposed at the end of a•traditional sentencing proceeding.•QUESTION: Well, is it final if he does not•25  1234\\n5\\n678\\n910\\n11\\n12\\n131415\\n161718\\n19\\n202122\\n232425appeal? I mean, just to clear up that issue upon which we•got an answer that surprised us from counsel on the other•side, if he does not appeal, under Pennsylvania law, can•the State go, in effect, before the judge again and say We•would like to have another attempt to get the death•\\npenalty?•MS. DOUGHERTY: No, Your Honor.•QUESTION: Okay.•QUESTION: Well, this is like -- it seems like•Bullington in one respect, and not like it in another. •It\\'s not like it in the sense that there\\'s a hung jury. •It\\'s like it, however, in the sense that the person is•faced with a terrible choice. If he doesn\\'t appeal, he\\'ll•live. If he does appeal, he may die.•Now, if that terrible choice is embodied in the reasons for an exception to the ordinary blank slate rule,•that exists here, so do you think that terrible choice has•nothing to do with the exception whatsoever, or does it•have something to do with it?•MS. DOUGHERTY: Under double jeopardy analysis,•I don\\'t believe it has anything to do with it. The•defendant also, upon appeal --•QUESTION: Well, if it has nothing to do with•it, why did the court create the exception? For, after•all, ordinarily, as you pointed out, when a person a•26  1234\\n5\\n678\\n910\\n11\\n12\\n131415\\n161718\\n19\\n202122\\n232425person appeals his trial, he makes of his sentence a blank•slate. It can be reopened. So why did the court say•originally that death sentences are different?•MS. DOUGHERTY: Because the proceeding itself•requires a finding. It leads to a finding. It leads to•an acquittal in a way that other traditional sentencing•proceedings do not, and when someone has been acquitted of•the death penalty, then the State -- that would be•\\nprecluded by double jeopardy purposes for going back,•because of the finality that attaches to an acquittal, not•to the final judgment, not to a sentence that\\'s imposed as•the result of -- that terminates a proceeding, certainly,•but it doesn\\'t have that same finality that the court has•always accorded to an acquittal, and --•QUESTION: •defendant faces when he\\'s sitting at the table and he•hears the verdict come in, he hears the verdict come in,•no liability for the death penalty, the judge then•\\nsentences him to prison, and I had thought he would•\\nbreathe a sigh of relief. Under your position, no. In•other words, he\\'s faced the ordeal of -- of the trial,•et cetera.•Well, from the dynamics of what the MS. DOUGHERTY: Exactly, and if he stops and is•satisfied with a life sentence instead of trying to get an•acquittal, which is the result of possibly seeking another•27  1234\\n5\\n678\\n910\\n11\\n12\\n131415\\n161718\\n19\\n202122\\n232425trial, is that he could walk out of the courtroom an•\\ninnocent man on second trial. And that is a choice, but I•believe under Chaffin this Court has not ruled out the•defendant having to make choices like that. No matter how•serious, how tough the choice is --•QUESTION: Can you -- can I interrupt with just•one question? Are there any other double jeopardy -- I•mean, I don\\'t -- are there any other hung jury situations,•other than this very narrow category, in which the•\\nprosecutor does not have the option to go ahead and seek a•second trial?•See, here you -- unless the defendant appeals, a•prosecutor can\\'t do anything about it here. Is there any•other hung jury situation in which the prosecutor\\'s hands•are tied in that way?•MS. DOUGHERTY: I believe the answer is no.•QUESTION: I think that\\'s --•MS. DOUGHERTY: However, I think it\\'s comparable•to the guilty plea situation, where the Government could•forego seeking death in order to -- for an agreement to•life, and the Commonwealth -- the State would not be able•to appeal that imposition of the life sentence.•However, if the defendant appeals and gets his•sentence, gets his guilty plea withdrawn, the State would•not be precluded in that case from seeking death at the•28  1234\\n5\\n678\\n910\\n11\\n12\\n131415\\n161718\\n19\\n202122\\n232425trial. So I think the situation is along those lines.•QUESTION: Well, but a hung jury is not quite•like a plea bargain, though. And that\\'s what you\\'re•talking about, isn\\'t it? If the agreement is set aside,•then of course everybody starts from scratch, but not --•but when you\\'ve got a hung jury, normally the prosecutor•has the choice of whether to go ahead and retry or not.•MS. DOUGHERTY: That\\'s correct, Your Honor.•However, the situation in this case, and the•situation for the exception in Bullington, revolved around•the findings by the jury, and it revolved around the idea•of an acquittal, not a sentence, and that was pointed out•further in Rumsey, where the Court talked about, the•\\nsentence was based on findings which entitled the•defendant to a life sentence, and again in Poland --QUESTION: Just -- let me ask just one more•question, then I\\'ll be through. I did not remember --•your opponent said that there was actually a finding of an•aggravating circumstance in Bullington. Was he correct on•that?•MS. DOUGHERTY: I don\\'t believe so, Your Honor. •There may have been a finding, but it may have been•outweighed. I\\'m sorry, I don\\'t remember that, but it may•have been outweighed by the mitigating --•QUESTION: So there would have been eligibility•29  1234\\n5\\n678\\n910\\n11\\n12\\n131415\\n161718\\n19\\n202122\\n232425for the death penalty there.•MS. DOUGHERTY: But the ultimate finding of the•jury was that they were -- that they acquitted the•defendant based on their weighing situation.•And Poland further limited Bullington and•specifically talked about when there is not an acquittal,•then Bullington -- the Bullington exception does not•apply, and --•QUESTION: Suppose we had a State with a system•that said, if any -- and I think some do have this•system -- if any one juror votes for life, then the•sentence shall be life. Suppose we had that system, and•the jury comes in and says, we\\'re 11 to 1 for death. The•judge enters judgment for life. In that case, if the•guilt -- if it\\'s an appeal from the guilt determination, and it\\'s successful, then there wouldn\\'t be -- there would•be no possibility of reopening the death-life decision,•would there?•MS. DOUGHERTY: Well, Justice Ginsburg, I don\\'t•know that that would qualify as an acquittal. That may be•a decision made by the State legislature, but the fact•that one person would hold out for life -- an acquittal•is, traditionally has been looked at as a finding of•\\ninnocence, and a finding -- the court has generally•recognized it as finding innocence based on the evidence•30  1234\\n5\\n678\\n910\\n11\\n12\\n131415\\n161718\\n19\\n202122\\n232425in the record, and it\\'s based on -- the whole point of the•jury system is to reach a collective agreement, a•collective judgment by the community, and one person•holding out for life does not possibly affect the•\\nconscience of the community on that sentence.•QUESTION: So, you say it would make no•difference if, instead of in this case, where the legal•consequence following -- follows a jury disagreement, a•State that says we make, in effect, each juror the•\\ndecisionmaker on the life-death question.•MS. DOUGHERTY: I don\\'t think that would still•have the finality of an acquittal under this Court\\'s•double jeopardy jurisprudence, and of course, the•hypothetical doesn\\'t apply in this situation, because•that\\'s not what Pennsylvania said, but I don\\'t believe that one juror holding out for life could possibly garner•that finality that an acquittal has, and if -- I believe•there are certainly -- there might be -- there would be an•argument in that case that if the defendant appealed,•that --•QUESTION: Why not? If the State law sets up•that single juror in the same way that it sets up a single•judge, if the trial is before the judge -- if the•\\nsentencing trial is before the judge?•MS. DOUGHERTY: A State could do that. I just•31  1234\\n5\\n678\\n910\\n11\\n12\\n131415\\n161718\\n19\\n202122\\n232425don\\'t believe that that legislative decision would have•the same finality as -- as an acquittal, because an•acquittal is based upon a collective judgment of the•community on the ultimate question of --•QUESTION: Well, do you think that that case•that I gave you, where the State law says one juror for•life is enough, and Pennsylvania, do you think there\\'s any•significant distinction between those two laws?•MS. DOUGHERTY: I -- well, I\\'m sorry. I\\'m a•little -- I\\'m not quite sure I understand your question. •There\\'s a definite different in that Pennsylvania requires•a unanimous jury to reach a verdict, and therefore,•\\nPennsylvania is saying unless the jury -- all of the jury•agrees -- then there is no verdict. There\\'s no acquittal. •There\\'s no conviction. It\\'s a hung jury.•I don\\'t feel that I answered your question, but•I\\'m not sure how to better answer it. I do believe that•there --•QUESTION: I take it you do believe that there•is a difference between those two situations.•MS. DOUGHERTY: Well, there\\'s a difference in•language. I don\\'t know that there\\'s a difference in•effect, in the double jeopardy concept of acquittal, the•finality that should be accorded that judgment.•The -- Pennsylvania\\'s position, of course, is•32  1234\\n5\\n678\\n910\\n11\\n12\\n131415\\n161718\\n19\\n202122\\n232425that without these findings made by a jury, that under•Bullington analysis, then double jeopardy would not bar•retrial for the maximum sentence. You\\'re right back at•the results obtained from the traditional sentencing•\\nproceeding. The imposition of a particular sentence, in•this case life, is not an acquittal of any more serious•sentence that could have been imposed and, as this Court•has recognized in DiFrancesco as one example, the•\\npronouncement of sentence simply does not have the•qualities of constitutional finality that attend an•acquittal.•QUESTION: May I ask -- I said I wouldn\\'t ask•another question. I would like to ask one more. If the•jury in this case had been unanimous and said life rather•than death, would the judgment entered by the trial court have been any different than the judgment it actually did•enter?•MS. DOUGHERTY: Life would have been imposed,•but it would have been imposed for a different reason. •The jury --•QUESTION: Well, no, I\\'m asking, would the form•of the judgment, the language used by the trial judge in•entering judgment, would it have been any different from•the language it did use in this case?•MS. DOUGHERTY: Well, it would have been based•33  1234\\n5\\n678\\n910\\n11\\n12\\n131415\\n161718\\n19\\n202122\\n232425on the unanimous verdict of the jury.•QUESTION: That\\'s not my question. My question•is, the language of the judgment would have been any•different within the two cases?•MS. DOUGHERTY: It would have been a life•sentence in both cases.•QUESTION: Yes.•QUESTION: But you\\'re saying that the Poland•analysis should make the result different.•MS. DOUGHERTY: Yes, Your Honor. If there\\'s no•acquittal --•QUESTION: Yes.•MS. DOUGHERTY: -- then Bullington doesn\\'t•apply, and that\\'s what would be different in the sentence. •There would be no acquittal.•QUESTION: What happens, in your view, which --•I\\'ll be rather imaginary. I mean, there isn\\'t a real•situation like this, but given the rulings of this Court,•I think you could have a State -- at least not in my•views, but other\\'s views, you could have a State which on•sentencing left every question of fact to a jury, so they•decide every possible question of fact, but the ultimate•decision about what to do after those facts are found•would lie in the hands of a judge, and in a system like•that, where the judge then said life, would your argument•34  1234\\n5\\n678\\n910\\n11\\n12\\n131415\\n161718\\n19\\n202122\\n232425still apply, double jeopardy or not? Could they reopen•it, or not?•MS. DOUGHERTY: Well, the facts that need to be•found in a capital sentencing proceeding --•QUESTION: Are very complex, but we have special•forms and they go do it all. What I\\'m trying to say is, I•want a State still that turns over to the judge the power•of life or death, and what the judge in such a State•\\ndecides is life, and now there is an appeal on the guilt•and innocence phase. On -- in your opinion, can the State•reopen that ultimate judgment which it put in the hands of•the judge? And you see, of course, why -- what my next•question will be is, Why isn\\'t this that State?•MS. DOUGHERTY: My problem in answering the•question, Justice Breyer, is I\\'m not sure what facts the jury is --•QUESTION: Everything you want. I mean, you•know, I\\'m just trying to avoid that question, so have•everything you want, everything the Constitution requires,•everything the opinions of this Court requires. What I\\'m•interested in is not that, but I\\'m interested in the State•putting the sentencing decision in the hands of the judge.•QUESTION: Well, here the judge who enters the•verdict in this particular case does not do so because he•concludes that the circumstances -- he simply does it•35  1234\\n5\\n678\\n910\\n11\\n12\\n131415\\n161718\\n19\\n202122\\n232425because the jury has come in 9 to 3, doesn\\'t he?•MS. DOUGHERTY: He comes in because -- that\\'s•right. He has no discretion.•QUESTION: He doesn\\'t exercise independent•judgment.•MS. DOUGHERTY: He has --•QUESTION: No, but does that -- that\\'s exactly•what I\\'m trying to get at, exactly the question. I mean,•is that what makes the difference? Because the State has•told the judge what to enter?•MS. DOUGHERTY: Well --•QUESTION: Rather than being discretionary, does•that make a difference for double jeopardy purposes?•MS. DOUGHERTY: Well, I think it -- I think it•does, and to go back to your hypothetical, my problem in answering that question, if the jury, in fact, has found•as fact that the mitigating circumstances outweigh the•aggravating circumstances, then I believe that would be an•acquittal. If the jury\\'s findings were made in that way,•and the judge was -- the judge had to rely on those•\\nfindings in order to impose that sentence, then I believe•that that would be an acquittal, which would distinguish•it from the case we have here.•QUESTION: Why is that important? Why is it•important for drawing a double jeopardy line that in the•36  1234\\n5\\n678\\n910\\n11\\n12\\n131415\\n161718\\n19\\n202122\\n232425Poland situation a jury makes a unanimous determination,•or in Justice Breyer\\'s hypothetical, a judge that has the•power makes the ultimate determination himself? If the•judgment can otherwise be attacked on the underlying•\\nconviction, why should it make a difference for double•jeopardy on sentence that the judgment of life rests upon•these kinds of determinations rather than the operation of•law which we have?•MS. DOUGHERTY: Because an acquittal has•always -- the definition of acquittal has always been•based on a finding of innocence, on a finding that the•State hasn\\'t proved its case, and if there are no such•findings -- and that\\'s why double jeopardy hasn\\'t been•applied to traditional sentencing proceedings, and if you•don\\'t have those findings, then there\\'s no basis to justify the acquittal, which would bar it under double•jeopardy.•QUESTION: Were you going to comment in the time•remaining on the second argument -- which I call just a•due process argument -- that it\\'s just unfair to condition•the appeal on the possibility of a death sentence? Surely•the second argument --•MS. DOUGHERTY: Well --•QUESTION: -- made by your --•QUESTION: Was this point raised in the supreme•37  1234\\n5\\n678\\n910\\n11\\n12\\n131415\\n161718\\n19\\n202122\\n232425court of Pennsylvania?•MS. DOUGHERTY: It was raised. It was never --•it was raised. It was not specifically addressed in this•fashion by the supreme court of Pennsylvania, but it was•before the court to address.•The argument seems to be that somehow the•sentence can be separated from the conviction, and I don\\'t•believe that\\'s the case. Due process -- procedural due•process requires notice and a meaningful opportunity to be•heard. Mr. Sattazahn had that throughout these•proceedings. Substantive due process, as this Court•stated in Albright versus Oliver, it\\'s reluctant to expand•this generalized notion of substantive due process, and•therefore, if there\\'s a specific amendment that applies to•the States that addresses the issue, that\\'s what should --that\\'s how the claim should be reviewed.•In this case, double jeopardy definitely applies•to the States, and it seems that double jeopardy covers•all the concerns that are raised in the defendant\\'s due•process and in petitioner\\'s due process argument. •\\nTherefore, the only way that the defendant should not face•a clean slate on resentencing on retrial is the Bullington•double jeopardy exception, not any due process claim.•If the Court has no further questions --•QUESTION: Thank you, Ms. Dougherty.•38  1234\\n5\\n678\\n910\\n11\\n12\\n131415\\n161718\\n19\\n202122\\n232425 Mr. Srinivasan.•ORAL ARGUMENT OF SRI SRINIVASAN•ON BEHALF OF THE UNITED STATES, AS AMICUS CURIAE,•SUPPORTING THE RESPONDENT•MR. SRINIVASAN: Thank you, Mr. Chief Justice,•and may it please the Court:•The question in this case is whether•Pennsylvania\\'s imposition of a default sentence of life•imprisonment by operation of law when the jury in a•\\ncapital sentencing proceeding is unable to reach a•\\nunanimous verdict constitutes an acquittal within the•meaning of the Double Jeopardy Clause. We think the•answer to that question lies in the settled rule that a•hung jury is not an acquittal for double jeopardy•\\npurposes.•Double jeopardy law has always drawn a clear•distinction between hung juries, where the jury fails to•reach a resolution of the case, and acquittals, where a•unanimous jury makes a factual determination that the•facts in evidence fail to establish the defendant\\'s guilt,•or in this --•QUESTION: May I ask how you would respond to my•question about the State that has a system, any one juror•who votes for life, if there\\'s any one juror, it\\'s a life•sentence, and this case? Is there a distinction between•39  1234\\n5\\n678\\n910\\n11\\n12\\n131415\\n161718\\n19\\n202122\\n232425those two for double jeopardy purposes?•MR. SRINIVASAN: Justice Ginsburg, we think•there is a distinction between those two. In the•hypothetical statute that you posit, if the jury\\'s•\\nresolution in favor of a life sentence were not considered•to have final effect, that would strike at the heart of a•value central to the Double Jeopardy Clause in that the•State could then continue to reprosecute the defendant•repeatedly, so we think that in that hypothetical statute,•when the jury comes back for a life sentence, I don\\'t know•if it\\'s fair to call it an acquittal because an acquittal•has a settled meaning under the Double Jeopardy Clause,•but we think that determination would be accorded finality•for double jeopardy purposes.•But this case is different in a significant respect. Here, Pennsylvania gave the defendant the same•opportunity to obtain a final acquittal in his favor that•defendants traditionally enjoy on the underlying question•of guilt or innocence, and that is that he could have•obtained a unanimous verdict in his favor, and we think•that distinction is critical for double jeopardy purposes.•QUESTION: Why should that distinction be more•critical than the so-called judgment distinction? In•other words, in your -- I understand you to be arguing, as•Pennsylvania argued, that the line traditionally is drawn•40  1234\\n5\\n678\\n910\\n11\\n12\\n131415\\n161718\\n19\\n202122\\n232425based on whether there was an acquittal or wasn\\'t an•\\nacquittal -- an acquittal versus a hung jury, but that•line historically also is drawn, in fact, depending on•whether the jury\\'s determination results in a judgment or•not. Here, we have a judgment. Why should we draw the•line based on acquittal rather than drawing the line based•on judgment? There is a tradition for each.•MR. SRINIVASAN: Justice Souter, it\\'s true that•the sentencing proceeding in this case culminated•ultimately in the entry of a judgment, but the fact of a•judgment we think is not dispositive for double jeopardy•purposes, and that\\'s because the core premise of the clean•slate rule is that the entry of a sentencing judgment is•not a double jeopardy disposition that bars the State from•resentencing in the event of a retrial. •event of a judgment that makes the difference. It\\'s•whether that judgment manifests the qualities of an•\\nacquittal. That\\'s what Bullington holds.•It\\'s not the So the question is whether the entry of a life•sentence in this case manifests the quality of a factual•acquittal, and we think it does not, because a hung jury•has never been thought to constitute an acquittal within•the meaning of the Double Jeopardy Clause.•QUESTION: Well, but it does constitute an•acquittal of the death penalty if there\\'s no appeal.•41  1234\\n5\\n678\\n910\\n11\\n12\\n131415\\n161718\\n19\\n202122\\n232425 MR. SRINIVASAN: I don\\'t think so, Justice•Kennedy, because the State can resentence in the event of•a retrial. It\\'s true that the State has decided that it•won\\'t appeal, but the operation of the clean slate rule•works such that when the defendant occasions a retrial by•successfully appealing his conviction and sentence, at•that point the State is free to conduct a resentencing and•impose a harsher sentence.•QUESTION: If you win.•QUESTION: That assumes the issue.•QUESTION: I mean, that\\'s the issue.•MR. SRINIVASAN: If -- I\\'m sorry.•QUESTION: I mean, you\\'re right if you win, but•you\\'re wrong if you lose.•MR. SRINIVASAN: •course that\\'s correct, Justice Breyer, but I think the•reason we should win is because the judgment that was•entered in this case is not a factual acquittal of the•nature that was considered --•That\\'s correct, but -- of QUESTION: But, counsel, supposing the State law•had a provision in it that the votes of the jurors shall•remain secret, and the only thing that shall become public•is the judgment, what would you do in that case?•MR. SRINIVASAN: Well, I think in that case --•it would depend on how the jury were instructed.•42  1234\\n5\\n678\\n910\\n11\\n12\\n131415\\n161718\\n19\\n202122\\n232425 QUESTION: Well, they\\'re instructed just as they•were in this case. As a matter of protecting the privacy•of the jurors, we\\'re just not going to let the public know•how they voted, and that we just have a judgment out•\\nthere. What do you do in that case?•MR. SRINIVASAN: No, I think if the jury is•required to make a unanimous verdict in either direction,•and the judge imposes a sentence of life imprisonment•because the jury has made a unanimous verdict, that would•have --•QUESTION: No, it doesn\\'t -- the \"because\"•doesn\\'t follow, because you don\\'t know on the record I\\'m•hypothesizing.•MR. SRINIVASAN: Well, I think in that situation•it would present some of the same difficulties that I was discussing in reference to Justice Ginsburg\\'s hypothetical•in that it\\'s unclear whether the defendant would have --•QUESTION: Well, I take it the judge probably•knows in Justice Stevens\\' hypothetical what the jury did.•MR. SRINIVASAN: Right, and if the judge•articulated it in his judgment in a way that distinguished•between a judgment of a life sentence based on a unanimous•jury verdict and judgment of a life sentence based on --•QUESTION: No, in my hypothesis he enters•exactly the same judgment he entered here, and he just•43  1234\\n5\\n678\\n910\\n11\\n12\\n131415\\n161718\\n19\\n202122\\n232425says I\\'m -- let\\'s close the files on this case so the•public won\\'t know how the jury voted.•MR. SRINIVASAN: Well, I think in that situation•we\\'d have the same answer that we would to Justice•Ginsburg\\'s hypothetical, which is that because the•defendant has not been afforded an opportunity to obtain•finality, then the double jeopardy law would treat that•judgment as final, and the State would not be permitted in•that situation to revisit the sentencing judgment.•But this case is different in a significant•respect, because here, Pennsylvania law draws a•distinction between a unanimous jury verdict and a hung•jury that results in the imposition of a life sentence,•and petitioner had the opportunity to obtain a unanimous•jury verdict, and, in fact, when the jury initially past its note to the judge indicating that it had reached an•impasse, petitioner immediately moved for declaration of a•mistrial and discharge of the jury. And in that situation•it\\'s clear under double jeopardy law that when the•defendant invites the declaration of a mistrial and the•discharge of a jury, there\\'s no double jeopardy•prohibition against the State\\'s conducting a retrial or,•in this case, the State\\'s conducting a new sentencing•proceeding.•QUESTION: But isn\\'t the -- isn\\'t the only•44  1234\\n5\\n678\\n910\\n11\\n12\\n131415\\n161718\\n19\\n202122\\n232425distinction in Justice Stevens\\' hypothetical between that•case -- the case that he posits -- and this one, the•secrecy. And I don\\'t know why the secrecy should make a•difference, and I don\\'t know why you don\\'t answer by•saying, Look, what is necessary in order to implicate•double jeopardy is the unanimous acquittal by the fact-•finder, and if the record does not manifest that unanimous•acquittal, then, in fact, there would be no double•\\njeopardy bar to trying him on the sentence again. Why•hasn\\'t that got to be your answer?•MR. SRINIVASAN: Justice Souter, because it•depends on whether State law makes unanimity the deciding•criterion. If State law does --•QUESTION: Well, but on Justice Stevens\\'•hypothetical, it does not. •just like this case except that there\\'s a secrecy•requirement, so we don\\'t know. And -- and all we know is•that yes, there ultimately was one or the other condition•necessary and sufficient -- sufficient, rather -- to•support the judgment of life, but we don\\'t know which one•it was, and I would have thought that on your position you•would say unless it affirmatively appears that there was•an acquittal by the unanimous jury, there would be no•double jeopardy bar. Make it just like this case.•His hypothetical was, it\\'s MR. SRINIVASAN: Our position is that if a State•45  1234\\n5\\n678\\n910\\n11\\n12\\n131415\\n161718\\n19\\n202122\\n232425has a unanimity requirement, the Double Jeopardy Clause•does not preclude the State from enforcing that unanimity•requirement, but if a State draws no distinction between a•unanimous jury verdict of acquittal and a one-juror vote•for the life sentence, then the Double Jeopardy Clause•requires the State to honor the finality of the judgment•in favor of a defendant. That\\'s our position in this•case.•QUESTION: Is it fair to take into account,•assuming competing analogies of equal weight, choosing the•one that would least discourage appeals? I mean, the real•problem here, I think, is the problem of a person having a•meritorious appeal, but being afraid to make it. So•can -- am I free to take that into account, at least, in•trying to choose between the analogies?•MR. SRINIVASAN: Justice Breyer, we think the•due process question in terms of undue burden was --•was --•QUESTION: I\\'m not saying that -- due -- is that•not a factor that I can take into account in trying to•choose among competing analogies?•MR. SRINIVASAN: It\\'s -- I think it\\'s fair to•say that it\\'s a factor, but I think it\\'s important to note•that there are important reasons why a State would draw•the distinction drawn by Pennsylvania in this case. There•46  1234\\n5\\n678\\n910\\n11\\n12\\n131415\\n161718\\n19\\n202122\\n232425are three reasons why a State might choose not to conduct•a resentencing in the initial round of proceedings, but•nonetheless to resentence in the event of a retrial.•First, as an interesting closure, the State•might determine that after a capital trial and a capital•sentencing hearing, at that point, it makes sense to•\\naccept what is still a substantial punishment, the•\\nimposition of a sentence of life imprisonment, but if the•defendant occasions a new trial by successfully appealing•his conviction, at that point the balance of•\\nconsiderations changes.•And in particular, in terms of the second•reason, if a State were to conduct a new sentencing•proceeding immediately after a hung jury in the initial•round of proceedings, the sentencing jury would come to the new sentencing proceeding without having had the•benefit of standing through -- of sitting through the•capital trial, and the State might reasonably conclude•that at that point, it would have to retry much of the•underlying case on guilt or innocence.•By contrast, when the defendant occasions a new•trial by successfully appealing his conviction, the State•will have selected a capital jury to conduct the trial,•and the new capital jury will come to the sentencing•\\nproceeding entirely familiar with the facts and•47  1234\\n5\\n678\\n910\\n11\\n12\\n131415\\n161718\\n19\\n202122\\n232425circumstances of the case.•QUESTION: Thank you, Mr. Srinivasan.•Mr. Dunham, you have three minutes remaining.•REBUTTAL ARGUMENT OF ROBERT B. DUNHAM•ON BEHALF OF THE PETITIONER•MR. DUNHAM: Your Honors, I would just like to•make a couple of points in rebuttal.•The first issue I\\'d like to address is the•question of the State\\'s interest in closure, and the•policies, the way the double jeopardy policies work out in•this statute in this case. What Pennsylvania --•Pennsylvania\\'s statute as it\\'s written recognizes several•different interests. One of the interests it recognizes•is the interest in economy, the interests in finality, the•interest in giving the State a single opportunity to try and obtain a death penalty.•On the other hand, it balances this against what•this Court has in the past said is a desirable goal of•trying to achieve jury unanimity. So it has a preference•for a unanimous jury, and it balances that against the•finality of the sentence. And that\\'s why the judge is•required, when the jury comes back and says that it is not•unanimous, why that judge is then required to see if•further deliberations are going to be fruitful.•When the judge determines that the jury is not•48  1234\\n5\\n678\\n910\\n11\\n12\\n131415\\n161718\\n19\\n202122\\n232425unanimous, and determines that the jury is not going to•become unanimous, that represents a decision at that point•that the interest in finality, imposing the life sentence•now and ending it, outweighs the interest in obtaining a•unanimous jury. And that is -- and that triggers, that•ties into this Court\\'s long-term double jeopardy•jurisprudence that one of the primary interests is against•subjecting a defendant to multiple trials, forcing him to•run the gamut of a second capital sentencing proceeding•after the first has been tried to completion.•On another issues, Your Honors, one of the•things that I would suggest as a possible structural way•of looking at capital sentencing cases to see whether•there is a sensible way of determining whether or not what•you have is an acquittal is this. •Court talked about the binary choice between life or•death, and the significance of that when you have a trial-•like proceeding, in distinguishing between whether it\\'s an•acquittal or a conviction, so there\\'s a binary choice.•In Bullington, this What the Pennsylvania statute has done is create•a second binary choice, only it\\'s a procedural one. If•this were a hung jury like what you see at trial, the jury•has three options. They can acquit, they can convict, or•there\\'s limbo. The hung jury in the case goes back.•The Pennsylvania legislature has determined that•49  1234\\n5\\n678\\n910\\n11\\n12\\n131415\\n161718\\n19\\n202122\\n232425there is a second binary choice -- a procedural choice --•and that is, unless there is a conviction, a life sentence•is entered, and by eliminating that third category, it has•made the determination that any failure by the State to•prove its case to a unanimous jury constitutes an•\\nacquittal, so I would say that the second binary choice,•the procedural choice, is a bright line way of saying•whether or not there is an acquittal. And a bright line,•I think, is what Bullington and Rumsey stand for --•CHIEF JUSTICE REHNQUIST: Thank you. Thank you,•Mr. Dunham.•The case is submitted.•(Whereupon, at 12:05 p.m., the case in the•above-entitled matter was submitted.)•50 '"
      ]
     },
     "execution_count": 67,
     "metadata": {},
     "output_type": "execute_result"
    }
   ],
   "source": [
    "my_dict['01-7574']"
   ]
  },
  {
   "cell_type": "markdown",
   "metadata": {},
   "source": [
    "### Convert dictionary to dataframe and attach labels"
   ]
  },
  {
   "cell_type": "code",
   "execution_count": 17,
   "metadata": {},
   "outputs": [],
   "source": [
    "Labels = Cases[['docket','partyWinning']]"
   ]
  },
  {
   "cell_type": "code",
   "execution_count": 18,
   "metadata": {},
   "outputs": [],
   "source": [
    "Text = pd.DataFrame.from_dict(my_dict, orient=\"index\")"
   ]
  },
  {
   "cell_type": "code",
   "execution_count": 19,
   "metadata": {},
   "outputs": [],
   "source": [
    "Text = Text.rename(index=str, columns={0: \"Document\"})"
   ]
  },
  {
   "cell_type": "code",
   "execution_count": 59,
   "metadata": {},
   "outputs": [
    {
     "data": {
      "text/plain": [
       "(265483, '02-1674')"
      ]
     },
     "execution_count": 59,
     "metadata": {},
     "output_type": "execute_result"
    }
   ],
   "source": [
    "def GetMaxItem(item):        \n",
    "    maks=max(item, key=lambda k: len(item[k]))\n",
    "    return len(item[maks]), maks\n",
    "GetMaxItem(my_dict)"
   ]
  },
  {
   "cell_type": "markdown",
   "metadata": {},
   "source": [
    "#### Checking and reindexing new dataframe"
   ]
  },
  {
   "cell_type": "code",
   "execution_count": 33,
   "metadata": {},
   "outputs": [
    {
     "data": {
      "text/html": [
       "<div>\n",
       "<style scoped>\n",
       "    .dataframe tbody tr th:only-of-type {\n",
       "        vertical-align: middle;\n",
       "    }\n",
       "\n",
       "    .dataframe tbody tr th {\n",
       "        vertical-align: top;\n",
       "    }\n",
       "\n",
       "    .dataframe thead th {\n",
       "        text-align: right;\n",
       "    }\n",
       "</style>\n",
       "<table border=\"1\" class=\"dataframe\">\n",
       "  <thead>\n",
       "    <tr style=\"text-align: right;\">\n",
       "      <th></th>\n",
       "      <th>Document</th>\n",
       "      <th>docket</th>\n",
       "      <th>partyWinning</th>\n",
       "    </tr>\n",
       "  </thead>\n",
       "  <tbody>\n",
       "    <tr>\n",
       "      <th>0</th>\n",
       "      <td>1             IN THE SU...</td>\n",
       "      <td>00-1011</td>\n",
       "      <td>1.0</td>\n",
       "    </tr>\n",
       "    <tr>\n",
       "      <th>1</th>\n",
       "      <td>12\\n3\\n4\\n5\\n6\\n7\\n8\\n910\\n11\\n12\\n13\\n14\\n15\\...</td>\n",
       "      <td>00-1021</td>\n",
       "      <td>0.0</td>\n",
       "    </tr>\n",
       "    <tr>\n",
       "      <th>2</th>\n",
       "      <td>1                         2    \\n ...</td>\n",
       "      <td>00-1045</td>\n",
       "      <td>1.0</td>\n",
       "    </tr>\n",
       "    <tr>\n",
       "      <th>3</th>\n",
       "      <td>12345678910\\n111213141516171819202122232425 IN...</td>\n",
       "      <td>00-10666</td>\n",
       "      <td>0.0</td>\n",
       "    </tr>\n",
       "    <tr>\n",
       "      <th>4</th>\n",
       "      <td>12\\n3\\n4\\n5\\n6\\n7\\n8\\n910\\n11\\n12\\n13\\n14\\n15\\...</td>\n",
       "      <td>00-1072</td>\n",
       "      <td>1.0</td>\n",
       "    </tr>\n",
       "  </tbody>\n",
       "</table>\n",
       "</div>"
      ],
      "text/plain": [
       "                                            Document    docket  partyWinning\n",
       "0                         1             IN THE SU...   00-1011           1.0\n",
       "1  12\\n3\\n4\\n5\\n6\\n7\\n8\\n910\\n11\\n12\\n13\\n14\\n15\\...   00-1021           0.0\n",
       "2              1                         2    \\n ...   00-1045           1.0\n",
       "3  12345678910\\n111213141516171819202122232425 IN...  00-10666           0.0\n",
       "4  12\\n3\\n4\\n5\\n6\\n7\\n8\\n910\\n11\\n12\\n13\\n14\\n15\\...   00-1072           1.0"
      ]
     },
     "execution_count": 33,
     "metadata": {},
     "output_type": "execute_result"
    }
   ],
   "source": [
    "Text.head()"
   ]
  },
  {
   "cell_type": "code",
   "execution_count": 25,
   "metadata": {},
   "outputs": [],
   "source": [
    "Text['docket'] = Text.index"
   ]
  },
  {
   "cell_type": "code",
   "execution_count": 26,
   "metadata": {
    "scrolled": true
   },
   "outputs": [
    {
     "data": {
      "text/html": [
       "<div>\n",
       "<style scoped>\n",
       "    .dataframe tbody tr th:only-of-type {\n",
       "        vertical-align: middle;\n",
       "    }\n",
       "\n",
       "    .dataframe tbody tr th {\n",
       "        vertical-align: top;\n",
       "    }\n",
       "\n",
       "    .dataframe thead th {\n",
       "        text-align: right;\n",
       "    }\n",
       "</style>\n",
       "<table border=\"1\" class=\"dataframe\">\n",
       "  <thead>\n",
       "    <tr style=\"text-align: right;\">\n",
       "      <th></th>\n",
       "      <th>Document</th>\n",
       "      <th>docket</th>\n",
       "    </tr>\n",
       "  </thead>\n",
       "  <tbody>\n",
       "    <tr>\n",
       "      <th>0</th>\n",
       "      <td>1             IN THE SU...</td>\n",
       "      <td>00-1011</td>\n",
       "    </tr>\n",
       "    <tr>\n",
       "      <th>1</th>\n",
       "      <td>12\\n3\\n4\\n5\\n6\\n7\\n8\\n910\\n11\\n12\\n13\\n14\\n15\\...</td>\n",
       "      <td>00-1021</td>\n",
       "    </tr>\n",
       "    <tr>\n",
       "      <th>2</th>\n",
       "      <td>1                         2    \\n ...</td>\n",
       "      <td>00-1045</td>\n",
       "    </tr>\n",
       "    <tr>\n",
       "      <th>3</th>\n",
       "      <td>12345678910\\n111213141516171819202122232425 IN...</td>\n",
       "      <td>00-10666</td>\n",
       "    </tr>\n",
       "    <tr>\n",
       "      <th>4</th>\n",
       "      <td>12\\n3\\n4\\n5\\n6\\n7\\n8\\n910\\n11\\n12\\n13\\n14\\n15\\...</td>\n",
       "      <td>00-1072</td>\n",
       "    </tr>\n",
       "    <tr>\n",
       "      <th>5</th>\n",
       "      <td>12\\n3\\n4\\n5\\n6\\n7\\n8\\n910\\n11\\n12\\n13\\n14\\n15\\...</td>\n",
       "      <td>00-1073</td>\n",
       "    </tr>\n",
       "    <tr>\n",
       "      <th>6</th>\n",
       "      <td>1234\\n5\\n678\\n910\\n11\\n12\\n131415\\n161718\\n19\\...</td>\n",
       "      <td>00-1089</td>\n",
       "    </tr>\n",
       "    <tr>\n",
       "      <th>7</th>\n",
       "      <td>12\\n3\\n4\\n5\\n6\\n7\\n8\\n910\\n11\\n12\\n13\\n14\\n15\\...</td>\n",
       "      <td>00-1167</td>\n",
       "    </tr>\n",
       "    <tr>\n",
       "      <th>8</th>\n",
       "      <td>12\\n3\\n4\\n5\\n6\\n7\\n8\\n910\\n11\\n12\\n13\\n14\\n15\\...</td>\n",
       "      <td>00-1187</td>\n",
       "    </tr>\n",
       "    <tr>\n",
       "      <th>9</th>\n",
       "      <td>1             IN THE SU...</td>\n",
       "      <td>00-121</td>\n",
       "    </tr>\n",
       "    <tr>\n",
       "      <th>10</th>\n",
       "      <td>12\\n3\\n4\\n5\\n6\\n7\\n8\\n910\\n11\\n12\\n13\\n14\\n15\\...</td>\n",
       "      <td>00-1214</td>\n",
       "    </tr>\n",
       "    <tr>\n",
       "      <th>11</th>\n",
       "      <td>12\\n3\\n4\\n5\\n6\\n7\\n8\\n910\\n11\\n12\\n13\\n14\\n15\\...</td>\n",
       "      <td>00-1249</td>\n",
       "    </tr>\n",
       "    <tr>\n",
       "      <th>12</th>\n",
       "      <td>12\\n3\\n4\\n5\\n6\\n7\\n8\\n910\\n11\\n12\\n13\\n14\\n15\\...</td>\n",
       "      <td>00-1250</td>\n",
       "    </tr>\n",
       "    <tr>\n",
       "      <th>13</th>\n",
       "      <td>1234\\n5\\n678\\n910\\n11\\n12\\n131415\\n161718\\n19\\...</td>\n",
       "      <td>00-1260</td>\n",
       "    </tr>\n",
       "    <tr>\n",
       "      <th>14</th>\n",
       "      <td>12\\n3\\n4\\n5\\n6\\n7\\n8\\n910\\n11\\n12\\n13\\n14\\n15\\...</td>\n",
       "      <td>00-1293</td>\n",
       "    </tr>\n",
       "    <tr>\n",
       "      <th>15</th>\n",
       "      <td>1                         2    \\n ...</td>\n",
       "      <td>00-1307</td>\n",
       "    </tr>\n",
       "    <tr>\n",
       "      <th>16</th>\n",
       "      <td>12\\n3\\n4\\n5\\n6\\n7\\n8\\n910\\n11\\n12\\n13\\n14\\n15\\...</td>\n",
       "      <td>00-1406</td>\n",
       "    </tr>\n",
       "    <tr>\n",
       "      <th>17</th>\n",
       "      <td>1234\\n5\\n678\\n910\\n11\\n12\\n131415\\n161718\\n19\\...</td>\n",
       "      <td>00-1471</td>\n",
       "    </tr>\n",
       "    <tr>\n",
       "      <th>18</th>\n",
       "      <td>1             IN THE SU...</td>\n",
       "      <td>00-151</td>\n",
       "    </tr>\n",
       "    <tr>\n",
       "      <th>19</th>\n",
       "      <td>12\\n3\\n4\\n5\\n6\\n7\\n8\\n910\\n11\\n12\\n13\\n14\\n15\\...</td>\n",
       "      <td>00-1514</td>\n",
       "    </tr>\n",
       "    <tr>\n",
       "      <th>20</th>\n",
       "      <td>12\\n3\\n4\\n5\\n6\\n7\\n8\\n910\\n11\\n12\\n13\\n14\\n15\\...</td>\n",
       "      <td>00-1519</td>\n",
       "    </tr>\n",
       "    <tr>\n",
       "      <th>21</th>\n",
       "      <td>1             IN THE SU...</td>\n",
       "      <td>00-152</td>\n",
       "    </tr>\n",
       "    <tr>\n",
       "      <th>22</th>\n",
       "      <td>12\\n3\\n4\\n5\\n6\\n7\\n8\\n910\\n11\\n12\\n13\\n14\\n15\\...</td>\n",
       "      <td>00-1531</td>\n",
       "    </tr>\n",
       "    <tr>\n",
       "      <th>23</th>\n",
       "      <td>12\\n3\\n4\\n5\\n6\\n7\\n8\\n910\\n11\\n12\\n13\\n14\\n15\\...</td>\n",
       "      <td>00-1543</td>\n",
       "    </tr>\n",
       "    <tr>\n",
       "      <th>24</th>\n",
       "      <td>12\\n3\\n4\\n5\\n6\\n7\\n8\\n910\\n11\\n12\\n13\\n14\\n15\\...</td>\n",
       "      <td>00-1567</td>\n",
       "    </tr>\n",
       "    <tr>\n",
       "      <th>25</th>\n",
       "      <td>1             IN THE SU...</td>\n",
       "      <td>00-157</td>\n",
       "    </tr>\n",
       "    <tr>\n",
       "      <th>26</th>\n",
       "      <td>12\\n3\\n4\\n5\\n6\\n7\\n8\\n910\\n11\\n12\\n13\\n14\\n15\\...</td>\n",
       "      <td>00-1595</td>\n",
       "    </tr>\n",
       "    <tr>\n",
       "      <th>27</th>\n",
       "      <td>12\\n3\\n4\\n5\\n6\\n7\\n8\\n910\\n11\\n12\\n13\\n14\\n15\\...</td>\n",
       "      <td>00-1614</td>\n",
       "    </tr>\n",
       "    <tr>\n",
       "      <th>28</th>\n",
       "      <td>12\\n3\\n4\\n5\\n6\\n7\\n8\\n910\\n11\\n12\\n13\\n14\\n15\\...</td>\n",
       "      <td>00-1737</td>\n",
       "    </tr>\n",
       "    <tr>\n",
       "      <th>29</th>\n",
       "      <td>1                         2       ...</td>\n",
       "      <td>00-1751</td>\n",
       "    </tr>\n",
       "    <tr>\n",
       "      <th>...</th>\n",
       "      <td>...</td>\n",
       "      <td>...</td>\n",
       "    </tr>\n",
       "    <tr>\n",
       "      <th>1281</th>\n",
       "      <td>1             IN THE SU...</td>\n",
       "      <td>99-1815</td>\n",
       "    </tr>\n",
       "    <tr>\n",
       "      <th>1282</th>\n",
       "      <td>1              2    \\n 3    \\n 4     \\n 5    ...</td>\n",
       "      <td>99-1823</td>\n",
       "    </tr>\n",
       "    <tr>\n",
       "      <th>1283</th>\n",
       "      <td>1             IN THE SU...</td>\n",
       "      <td>99-1848</td>\n",
       "    </tr>\n",
       "    <tr>\n",
       "      <th>1284</th>\n",
       "      <td>1             IN THE SUPREME COURT OF THE UNI...</td>\n",
       "      <td>99-1864</td>\n",
       "    </tr>\n",
       "    <tr>\n",
       "      <th>1285</th>\n",
       "      <td>1             IN THE SUPREME COURT OF THE UNI...</td>\n",
       "      <td>99-1871</td>\n",
       "    </tr>\n",
       "    <tr>\n",
       "      <th>1286</th>\n",
       "      <td>1             IN THE SU...</td>\n",
       "      <td>99-1884</td>\n",
       "    </tr>\n",
       "    <tr>\n",
       "      <th>1287</th>\n",
       "      <td>1             IN THE SUPREME COURT OF THE UNI...</td>\n",
       "      <td>99-1908</td>\n",
       "    </tr>\n",
       "    <tr>\n",
       "      <th>1288</th>\n",
       "      <td>1             IN THE SUPREME COURT OF THE UNI...</td>\n",
       "      <td>99-1953</td>\n",
       "    </tr>\n",
       "    <tr>\n",
       "      <th>1289</th>\n",
       "      <td>1             IN THE SU...</td>\n",
       "      <td>99-1964</td>\n",
       "    </tr>\n",
       "    <tr>\n",
       "      <th>1290</th>\n",
       "      <td>1             IN THE SU...</td>\n",
       "      <td>99-1977</td>\n",
       "    </tr>\n",
       "    <tr>\n",
       "      <th>1291</th>\n",
       "      <td>1             IN THE SU...</td>\n",
       "      <td>99-1978</td>\n",
       "    </tr>\n",
       "    <tr>\n",
       "      <th>1292</th>\n",
       "      <td>1             IN THE SU...</td>\n",
       "      <td>99-1994</td>\n",
       "    </tr>\n",
       "    <tr>\n",
       "      <th>1293</th>\n",
       "      <td>1                         2    \\n ...</td>\n",
       "      <td>99-1996</td>\n",
       "    </tr>\n",
       "    <tr>\n",
       "      <th>1294</th>\n",
       "      <td>1             IN THE SU...</td>\n",
       "      <td>99-2035</td>\n",
       "    </tr>\n",
       "    <tr>\n",
       "      <th>1295</th>\n",
       "      <td>1     IN THE SUPREME CO...</td>\n",
       "      <td>99-2036</td>\n",
       "    </tr>\n",
       "    <tr>\n",
       "      <th>1296</th>\n",
       "      <td>1             IN THE SU...</td>\n",
       "      <td>99-2047</td>\n",
       "    </tr>\n",
       "    <tr>\n",
       "      <th>1297</th>\n",
       "      <td>1             IN THE SUPREME COURT OF THE UNI...</td>\n",
       "      <td>99-2071</td>\n",
       "    </tr>\n",
       "    <tr>\n",
       "      <th>1298</th>\n",
       "      <td>1             IN THE SUPREME COURT OF THE U...</td>\n",
       "      <td>99-603</td>\n",
       "    </tr>\n",
       "    <tr>\n",
       "      <th>1299</th>\n",
       "      <td>1             IN THE SUPREME COURT OF THE UNI...</td>\n",
       "      <td>99-6218</td>\n",
       "    </tr>\n",
       "    <tr>\n",
       "      <th>1300</th>\n",
       "      <td>1             IN THE SUPREME COURT OF THE UNI...</td>\n",
       "      <td>99-7504</td>\n",
       "    </tr>\n",
       "    <tr>\n",
       "      <th>1301</th>\n",
       "      <td>1             IN THE SU...</td>\n",
       "      <td>99-7791</td>\n",
       "    </tr>\n",
       "    <tr>\n",
       "      <th>1302</th>\n",
       "      <td>1             IN THE SUPREME COURT OF THE UNI...</td>\n",
       "      <td>99-804</td>\n",
       "    </tr>\n",
       "    <tr>\n",
       "      <th>1303</th>\n",
       "      <td>1             IN THE SU...</td>\n",
       "      <td>99-8508</td>\n",
       "    </tr>\n",
       "    <tr>\n",
       "      <th>1304</th>\n",
       "      <td>1             IN THE SUPREME COURT OF THE UNI...</td>\n",
       "      <td>99-8576</td>\n",
       "    </tr>\n",
       "    <tr>\n",
       "      <th>1305</th>\n",
       "      <td>1             IN THE SUPREME COURT OF THE UNI...</td>\n",
       "      <td>99-859</td>\n",
       "    </tr>\n",
       "    <tr>\n",
       "      <th>1306</th>\n",
       "      <td>1             IN THE SUPREME COURT OF THE UNI...</td>\n",
       "      <td>99-901</td>\n",
       "    </tr>\n",
       "    <tr>\n",
       "      <th>1307</th>\n",
       "      <td>1             IN THE SUPREME COURT OF THE UNI...</td>\n",
       "      <td>99-9073</td>\n",
       "    </tr>\n",
       "    <tr>\n",
       "      <th>1308</th>\n",
       "      <td>1             IN THE SUPREME COURT OF THE UNI...</td>\n",
       "      <td>99-9136</td>\n",
       "    </tr>\n",
       "    <tr>\n",
       "      <th>1309</th>\n",
       "      <td>1             IN THE SU...</td>\n",
       "      <td>99-929</td>\n",
       "    </tr>\n",
       "    <tr>\n",
       "      <th>1310</th>\n",
       "      <td>1             IN THE SUPREME COURT OF THE UNI...</td>\n",
       "      <td>99-936</td>\n",
       "    </tr>\n",
       "  </tbody>\n",
       "</table>\n",
       "<p>1311 rows × 2 columns</p>\n",
       "</div>"
      ],
      "text/plain": [
       "                                               Document    docket\n",
       "0                            1             IN THE SU...   00-1011\n",
       "1     12\\n3\\n4\\n5\\n6\\n7\\n8\\n910\\n11\\n12\\n13\\n14\\n15\\...   00-1021\n",
       "2                 1                         2    \\n ...   00-1045\n",
       "3     12345678910\\n111213141516171819202122232425 IN...  00-10666\n",
       "4     12\\n3\\n4\\n5\\n6\\n7\\n8\\n910\\n11\\n12\\n13\\n14\\n15\\...   00-1072\n",
       "5     12\\n3\\n4\\n5\\n6\\n7\\n8\\n910\\n11\\n12\\n13\\n14\\n15\\...   00-1073\n",
       "6     1234\\n5\\n678\\n910\\n11\\n12\\n131415\\n161718\\n19\\...   00-1089\n",
       "7     12\\n3\\n4\\n5\\n6\\n7\\n8\\n910\\n11\\n12\\n13\\n14\\n15\\...   00-1167\n",
       "8     12\\n3\\n4\\n5\\n6\\n7\\n8\\n910\\n11\\n12\\n13\\n14\\n15\\...   00-1187\n",
       "9                            1             IN THE SU...    00-121\n",
       "10    12\\n3\\n4\\n5\\n6\\n7\\n8\\n910\\n11\\n12\\n13\\n14\\n15\\...   00-1214\n",
       "11    12\\n3\\n4\\n5\\n6\\n7\\n8\\n910\\n11\\n12\\n13\\n14\\n15\\...   00-1249\n",
       "12    12\\n3\\n4\\n5\\n6\\n7\\n8\\n910\\n11\\n12\\n13\\n14\\n15\\...   00-1250\n",
       "13    1234\\n5\\n678\\n910\\n11\\n12\\n131415\\n161718\\n19\\...   00-1260\n",
       "14    12\\n3\\n4\\n5\\n6\\n7\\n8\\n910\\n11\\n12\\n13\\n14\\n15\\...   00-1293\n",
       "15                1                         2    \\n ...   00-1307\n",
       "16    12\\n3\\n4\\n5\\n6\\n7\\n8\\n910\\n11\\n12\\n13\\n14\\n15\\...   00-1406\n",
       "17    1234\\n5\\n678\\n910\\n11\\n12\\n131415\\n161718\\n19\\...   00-1471\n",
       "18                           1             IN THE SU...    00-151\n",
       "19    12\\n3\\n4\\n5\\n6\\n7\\n8\\n910\\n11\\n12\\n13\\n14\\n15\\...   00-1514\n",
       "20    12\\n3\\n4\\n5\\n6\\n7\\n8\\n910\\n11\\n12\\n13\\n14\\n15\\...   00-1519\n",
       "21                           1             IN THE SU...    00-152\n",
       "22    12\\n3\\n4\\n5\\n6\\n7\\n8\\n910\\n11\\n12\\n13\\n14\\n15\\...   00-1531\n",
       "23    12\\n3\\n4\\n5\\n6\\n7\\n8\\n910\\n11\\n12\\n13\\n14\\n15\\...   00-1543\n",
       "24    12\\n3\\n4\\n5\\n6\\n7\\n8\\n910\\n11\\n12\\n13\\n14\\n15\\...   00-1567\n",
       "25                           1             IN THE SU...    00-157\n",
       "26    12\\n3\\n4\\n5\\n6\\n7\\n8\\n910\\n11\\n12\\n13\\n14\\n15\\...   00-1595\n",
       "27    12\\n3\\n4\\n5\\n6\\n7\\n8\\n910\\n11\\n12\\n13\\n14\\n15\\...   00-1614\n",
       "28    12\\n3\\n4\\n5\\n6\\n7\\n8\\n910\\n11\\n12\\n13\\n14\\n15\\...   00-1737\n",
       "29                1                         2       ...   00-1751\n",
       "...                                                 ...       ...\n",
       "1281                         1             IN THE SU...   99-1815\n",
       "1282   1              2    \\n 3    \\n 4     \\n 5    ...   99-1823\n",
       "1283                         1             IN THE SU...   99-1848\n",
       "1284   1             IN THE SUPREME COURT OF THE UNI...   99-1864\n",
       "1285   1             IN THE SUPREME COURT OF THE UNI...   99-1871\n",
       "1286                         1             IN THE SU...   99-1884\n",
       "1287   1             IN THE SUPREME COURT OF THE UNI...   99-1908\n",
       "1288   1             IN THE SUPREME COURT OF THE UNI...   99-1953\n",
       "1289                         1             IN THE SU...   99-1964\n",
       "1290                         1             IN THE SU...   99-1977\n",
       "1291                         1             IN THE SU...   99-1978\n",
       "1292                         1             IN THE SU...   99-1994\n",
       "1293              1                         2    \\n ...   99-1996\n",
       "1294                         1             IN THE SU...   99-2035\n",
       "1295                         1     IN THE SUPREME CO...   99-2036\n",
       "1296                         1             IN THE SU...   99-2047\n",
       "1297   1             IN THE SUPREME COURT OF THE UNI...   99-2071\n",
       "1298     1             IN THE SUPREME COURT OF THE U...    99-603\n",
       "1299   1             IN THE SUPREME COURT OF THE UNI...   99-6218\n",
       "1300   1             IN THE SUPREME COURT OF THE UNI...   99-7504\n",
       "1301                         1             IN THE SU...   99-7791\n",
       "1302   1             IN THE SUPREME COURT OF THE UNI...    99-804\n",
       "1303                         1             IN THE SU...   99-8508\n",
       "1304   1             IN THE SUPREME COURT OF THE UNI...   99-8576\n",
       "1305   1             IN THE SUPREME COURT OF THE UNI...    99-859\n",
       "1306   1             IN THE SUPREME COURT OF THE UNI...    99-901\n",
       "1307   1             IN THE SUPREME COURT OF THE UNI...   99-9073\n",
       "1308   1             IN THE SUPREME COURT OF THE UNI...   99-9136\n",
       "1309                         1             IN THE SU...    99-929\n",
       "1310   1             IN THE SUPREME COURT OF THE UNI...    99-936\n",
       "\n",
       "[1311 rows x 2 columns]"
      ]
     },
     "execution_count": 26,
     "metadata": {},
     "output_type": "execute_result"
    }
   ],
   "source": [
    "Text.reset_index(drop=True)"
   ]
  },
  {
   "cell_type": "markdown",
   "metadata": {},
   "source": [
    "#### attaching labels using inner join"
   ]
  },
  {
   "cell_type": "code",
   "execution_count": 27,
   "metadata": {},
   "outputs": [],
   "source": [
    "Text = pd.merge(Text, Labels, on='docket', how='inner')"
   ]
  },
  {
   "cell_type": "markdown",
   "metadata": {},
   "source": [
    "##### look at length of docs/sentences/wordcounts"
   ]
  },
  {
   "cell_type": "code",
   "execution_count": 28,
   "metadata": {},
   "outputs": [],
   "source": [
    "num_words = Text['Document'].apply(lambda x: len(x.split()))\n",
    "num_words_mean, num_words_std = np.mean(num_words), np.std(num_words)\n",
    "\n",
    "num_sentences = Text['Document'].apply(lambda x: len(re.split( '~ ...' ,'~'.join(x.split('.')))))\n",
    "num_sentences_mean = np.mean(num_sentences)"
   ]
  },
  {
   "cell_type": "code",
   "execution_count": 54,
   "metadata": {},
   "outputs": [
    {
     "data": {
      "text/html": [
       "<div>\n",
       "<style scoped>\n",
       "    .dataframe tbody tr th:only-of-type {\n",
       "        vertical-align: middle;\n",
       "    }\n",
       "\n",
       "    .dataframe tbody tr th {\n",
       "        vertical-align: top;\n",
       "    }\n",
       "\n",
       "    .dataframe thead th {\n",
       "        text-align: right;\n",
       "    }\n",
       "</style>\n",
       "<table border=\"1\" class=\"dataframe\">\n",
       "  <thead>\n",
       "    <tr style=\"text-align: right;\">\n",
       "      <th></th>\n",
       "      <th>Document</th>\n",
       "      <th>docket</th>\n",
       "    </tr>\n",
       "  </thead>\n",
       "  <tbody>\n",
       "    <tr>\n",
       "      <th>0</th>\n",
       "      <td>1             IN THE SU...</td>\n",
       "      <td>00-1011</td>\n",
       "    </tr>\n",
       "    <tr>\n",
       "      <th>1</th>\n",
       "      <td>12\\n3\\n4\\n5\\n6\\n7\\n8\\n910\\n11\\n12\\n13\\n14\\n15\\...</td>\n",
       "      <td>00-1021</td>\n",
       "    </tr>\n",
       "    <tr>\n",
       "      <th>2</th>\n",
       "      <td>1                         2    \\n ...</td>\n",
       "      <td>00-1045</td>\n",
       "    </tr>\n",
       "    <tr>\n",
       "      <th>3</th>\n",
       "      <td>12345678910\\n111213141516171819202122232425 IN...</td>\n",
       "      <td>00-10666</td>\n",
       "    </tr>\n",
       "    <tr>\n",
       "      <th>4</th>\n",
       "      <td>12\\n3\\n4\\n5\\n6\\n7\\n8\\n910\\n11\\n12\\n13\\n14\\n15\\...</td>\n",
       "      <td>00-1072</td>\n",
       "    </tr>\n",
       "  </tbody>\n",
       "</table>\n",
       "</div>"
      ],
      "text/plain": [
       "                                            Document    docket\n",
       "0                         1             IN THE SU...   00-1011\n",
       "1  12\\n3\\n4\\n5\\n6\\n7\\n8\\n910\\n11\\n12\\n13\\n14\\n15\\...   00-1021\n",
       "2              1                         2    \\n ...   00-1045\n",
       "3  12345678910\\n111213141516171819202122232425 IN...  00-10666\n",
       "4  12\\n3\\n4\\n5\\n6\\n7\\n8\\n910\\n11\\n12\\n13\\n14\\n15\\...   00-1072"
      ]
     },
     "execution_count": 54,
     "metadata": {},
     "output_type": "execute_result"
    }
   ],
   "source": [
    "Text.head()"
   ]
  },
  {
   "cell_type": "code",
   "execution_count": 39,
   "metadata": {},
   "outputs": [],
   "source": [
    "Labels = Text[['partyWinning']]"
   ]
  },
  {
   "cell_type": "code",
   "execution_count": 41,
   "metadata": {},
   "outputs": [],
   "source": [
    "Text.drop('partyWinning', axis=1, inplace= True)"
   ]
  },
  {
   "cell_type": "code",
   "execution_count": 46,
   "metadata": {},
   "outputs": [],
   "source": [
    "X_train, X_test, y_train, y_test = train_test_split(Text.Document, Labels, test_size=0.2, random_state=23)"
   ]
  },
  {
   "cell_type": "code",
   "execution_count": 87,
   "metadata": {
    "scrolled": true
   },
   "outputs": [],
   "source": [
    "from sklearn.pipeline import Pipeline\n",
    "from sklearn.naive_bayes import MultinomialNB\n",
    "text_clf = Pipeline([('vect', CountVectorizer(ngram_range=(1,2), stop_words='english', max_df=.50)),               \n",
    "                         ('tfidf', TfidfTransformer()),\n",
    "                         ('clf', MultinomialNB()),])\n",
    "text_clf = text_clf.fit(X_train, y_train)"
   ]
  },
  {
   "cell_type": "code",
   "execution_count": 73,
   "metadata": {},
   "outputs": [],
   "source": [
    "y_test = np.ravel(y_test)\n",
    "y_train = np.ravel(y_train)"
   ]
  },
  {
   "cell_type": "code",
   "execution_count": 80,
   "metadata": {},
   "outputs": [
    {
     "data": {
      "text/plain": [
       "Pipeline(memory=None,\n",
       "     steps=[('vect', CountVectorizer(analyzer='word', binary=False, decode_error='strict',\n",
       "        dtype=<class 'numpy.int64'>, encoding='utf-8', input='content',\n",
       "        lowercase=True, max_df=0.5, max_features=None, min_df=1,\n",
       "        ngram_range=(2, 2), preprocessor=None, stop_words='english',\n",
       "        ...inear_tf=False, use_idf=True)), ('clf', MultinomialNB(alpha=1.0, class_prior=None, fit_prior=True))])"
      ]
     },
     "execution_count": 80,
     "metadata": {},
     "output_type": "execute_result"
    }
   ],
   "source": [
    "text_clf"
   ]
  },
  {
   "cell_type": "code",
   "execution_count": 81,
   "metadata": {},
   "outputs": [
    {
     "data": {
      "text/plain": [
       "0.6833976833976834"
      ]
     },
     "execution_count": 81,
     "metadata": {},
     "output_type": "execute_result"
    }
   ],
   "source": [
    "predicted = text_clf.predict(X_test)\n",
    "np.mean(predicted == y_test)"
   ]
  },
  {
   "cell_type": "code",
   "execution_count": 136,
   "metadata": {},
   "outputs": [
    {
     "data": {
      "text/plain": [
       "array([0., 0., 1., 1., 1., 1., 1., 1., 1., 1., 1., 1., 1., 1., 1., 0., 0.,\n",
       "       1., 1., 1., 0., 0., 1., 0., 0., 0., 1., 1., 1., 0., 1., 1., 1., 1.,\n",
       "       1., 0., 1., 1., 1., 1., 1., 0., 1., 0., 1., 1., 1., 0., 1., 1., 0.,\n",
       "       0., 1., 0., 1., 1., 1., 1., 1., 1., 1., 0., 1., 1., 0., 1., 0., 1.,\n",
       "       0., 1., 1., 0., 0., 1., 0., 0., 1., 0., 1., 1., 0., 1., 1., 1., 1.,\n",
       "       1., 0., 1., 1., 1., 1., 1., 0., 1., 1., 1., 0., 1., 1., 0., 1., 1.,\n",
       "       1., 0., 1., 0., 1., 1., 0., 0., 1., 1., 0., 1., 1., 1., 1., 1., 1.,\n",
       "       0., 0., 1., 0., 1., 1., 1., 0., 0., 1., 0., 1., 1., 0., 1., 1., 1.,\n",
       "       0., 0., 1., 1., 0., 1., 1., 0., 1., 0., 0., 1., 1., 0., 1., 1., 0.,\n",
       "       1., 1., 1., 0., 1., 1., 1., 0., 1., 1., 1., 1., 1., 0., 0., 1., 1.,\n",
       "       1., 1., 0., 0., 0., 0., 1., 1., 1., 1., 1., 1., 0., 0., 1., 0., 1.,\n",
       "       1., 1., 1., 1., 0., 1., 1., 0., 0., 0., 1., 1., 1., 0., 1., 1., 0.,\n",
       "       1., 1., 1., 1., 1., 0., 1., 1., 0., 1., 1., 0., 1., 0., 1., 1., 1.,\n",
       "       0., 1., 1., 0., 0., 0., 1., 1., 1., 1., 1., 1., 1., 1., 1., 1., 0.,\n",
       "       1., 1., 1., 0., 1., 1., 1., 1., 1., 1., 0., 1., 1., 1., 1., 1., 0.,\n",
       "       0., 1., 0., 1.])"
      ]
     },
     "execution_count": 136,
     "metadata": {},
     "output_type": "execute_result"
    }
   ],
   "source": [
    "y_test"
   ]
  },
  {
   "cell_type": "code",
   "execution_count": 101,
   "metadata": {},
   "outputs": [
    {
     "data": {
      "text/plain": [
       "259"
      ]
     },
     "execution_count": 101,
     "metadata": {},
     "output_type": "execute_result"
    }
   ],
   "source": [
    "len(y_test)"
   ]
  },
  {
   "cell_type": "code",
   "execution_count": 137,
   "metadata": {},
   "outputs": [
    {
     "data": {
      "text/plain": [
       "0.6756756756756757"
      ]
     },
     "execution_count": 137,
     "metadata": {},
     "output_type": "execute_result"
    }
   ],
   "source": [
    "from sklearn.linear_model import SGDClassifier\n",
    "text_clf_svm = Pipeline([('vect', CountVectorizer(ngram_range=(1,3), stop_words='english', max_df=.30)),\n",
    "                     ('tfidf', TfidfTransformer()),\n",
    "                 ('clf-svm', SGDClassifier(loss='log', penalty='l2',\n",
    "                                          alpha=.0001, random_state=23, n_jobs=-1,class_weight= {0:.32, 1: 0.68})),])\n",
    "_ = text_clf_svm.fit(X_train, y_train)\n",
    "predicted_svm = text_clf_svm.predict(X_test)\n",
    "np.mean(predicted_svm == y_test)"
   ]
  },
  {
   "cell_type": "code",
   "execution_count": 141,
   "metadata": {},
   "outputs": [
    {
     "data": {
      "text/plain": [
       "array([1., 1., 1., 1., 1., 1., 1., 1., 1., 1., 1., 1., 0., 1., 1., 0., 1.,\n",
       "       1., 1., 1., 1., 1., 1., 1., 1., 1., 1., 1., 1., 1., 0., 1., 1., 1.,\n",
       "       1., 1., 1., 1., 1., 1., 1., 1., 1., 1., 1., 1., 1., 1., 1., 1., 1.,\n",
       "       1., 1., 0., 1., 1., 1., 1., 1., 1., 1., 1., 1., 1., 1., 1., 0., 1.,\n",
       "       1., 0., 1., 1., 1., 1., 1., 1., 1., 1., 1., 1., 1., 1., 1., 1., 1.,\n",
       "       1., 1., 1., 1., 1., 1., 1., 1., 1., 1., 1., 1., 1., 1., 1., 1., 1.,\n",
       "       1., 1., 1., 0., 1., 1., 1., 1., 1., 1., 1., 1., 1., 1., 1., 1., 1.,\n",
       "       1., 1., 1., 1., 1., 1., 1., 1., 1., 0., 1., 1., 1., 1., 1., 1., 1.,\n",
       "       1., 1., 1., 1., 1., 0., 1., 1., 1., 1., 1., 1., 1., 1., 1., 1., 1.,\n",
       "       1., 1., 1., 1., 1., 1., 1., 1., 1., 1., 1., 1., 1., 1., 1., 1., 1.,\n",
       "       1., 1., 1., 1., 1., 1., 1., 1., 1., 1., 1., 1., 1., 1., 1., 1., 1.,\n",
       "       1., 1., 1., 1., 1., 1., 1., 1., 1., 1., 1., 1., 1., 1., 1., 1., 1.,\n",
       "       1., 1., 1., 1., 1., 1., 1., 1., 1., 1., 1., 1., 1., 1., 1., 1., 1.,\n",
       "       1., 1., 1., 1., 1., 1., 1., 1., 1., 1., 1., 1., 1., 1., 1., 1., 1.,\n",
       "       0., 1., 1., 1., 1., 1., 1., 1., 1., 1., 1., 1., 1., 1., 1., 1., 1.,\n",
       "       1., 1., 1., 1.])"
      ]
     },
     "execution_count": 141,
     "metadata": {},
     "output_type": "execute_result"
    }
   ],
   "source": [
    "predicted_svm"
   ]
  },
  {
   "cell_type": "code",
   "execution_count": 140,
   "metadata": {},
   "outputs": [
    {
     "data": {
      "text/plain": [
       "85      1234\\n567\\n8910111213\\n141516\\n171819\\n202122\\...\n",
       "952        ˙\\n$& ' #-        \\n \\n   \\n\\n\\n\\n\\n\\n\\n\\n ...\n",
       "892        ˇ \\n˚\\n') & *   \\n           \\n\\n\\n\\n\\n\\n\\n...\n",
       "545                                                   ...\n",
       "732                                                   ...\n",
       "106     1234\\n5\\n678\\n910\\n11\\n12\\n131415\\n161718\\n19\\...\n",
       "651                                                   ...\n",
       "836                                                   ...\n",
       "211     12\\n3\\n4\\n5\\n6\\n7\\n8\\n910\\n11\\n12\\n13\\n14\\n15\\...\n",
       "658                                                   ...\n",
       "586                                                   ...\n",
       "1054    \\n\\n\\n\\n\\n\\n\\n\\n\\n\\n\\n\\n\\n\\n\\n\\n\\n\\n\\n\\n\\n\\n\\n...\n",
       "678                                                   ...\n",
       "350                                               1234...\n",
       "989     \\n\\n\\n\\n   \\n˙\\n $& ) #.       \\n \\n \\n \\n \\n ...\n",
       "1059    \\n\\n\\n\\n\\n\\n\\n\\n\\n\\n\\n\\n\\n\\n\\n\\n\\n\\n\\n\\n\\n\\n\\n...\n",
       "454                                                   ...\n",
       "756                                                   ...\n",
       "87      1234\\n5\\n678\\n910\\n11\\n12\\n131415\\n161718\\n19\\...\n",
       "18                             1             IN THE SU...\n",
       "757                                                   ...\n",
       "1042    \\n\\n\\n\\n\\n\\n\\n\\n\\n\\n\\n\\n\\n\\n\\n\\n\\n\\n\\n\\n\\n\\n\\n...\n",
       "307     12\\n3\\n4\\n5\\n6\\n7\\n8\\n910\\n11\\n12\\n13\\n14\\n15\\...\n",
       "650                                                   ...\n",
       "1211    \\n\\n\\n\\n\\n\\n\\n\\n\\n\\n\\n\\n\\n\\n\\n\\n\\n\\n\\n\\n\\n\\n\\n...\n",
       "140     12345678910\\n111213141516171819202122232425 IN...\n",
       "313     12\\n3\\n4\\n5\\n6\\n7\\n8\\n910\\n11\\n12\\n13\\n14\\n15\\...\n",
       "534                                                   ...\n",
       "1070    \\n\\n\\n    ˆ\\n\"$ ) * +       \\n \\n \\n \\n \\n   \\...\n",
       "93      1234\\n567\\n8910111213\\n141516\\n171819\\n202122\\...\n",
       "                              ...                        \n",
       "1213                                                  ...\n",
       "1047    \\n\\n\\n\\n\\n\\n\\n\\n\\n\\n\\n\\n\\n\\n\\n\\n\\n\\n\\n\\n\\n   \\...\n",
       "744                                                   ...\n",
       "264     1 IN THE SUPREME COURT OF THE UNITED STATES 2 ...\n",
       "919                                                   ...\n",
       "328                                                   ...\n",
       "560     Official - Subject to Final ReviewAlderson Rep...\n",
       "617                                                   ...\n",
       "478                                                   ...\n",
       "0                              1             IN THE SU...\n",
       "1031    \\n\\n\\n    ˙\\n%' ( $#       \\n \\n \\n \\n \\n   \\n...\n",
       "925                                                   ...\n",
       "758                                                   ...\n",
       "103     1234\\n5\\n678\\n910\\n11\\n12\\n131415\\n161718\\n19\\...\n",
       "893        ˇ\\n\"$ \\n& !,        \\n \\n   \\n\\n\\n\\n\\n\\n\\n\\...\n",
       "352     12\\n3\\n4\\n5\\n6\\n7\\n8\\n910\\n11\\n12\\n13\\n14\\n15\\...\n",
       "1173                                                  ...\n",
       "1022       \\n˝#\\n' & * +          \\n \\n   \\n\\n\\n\\n\\n\\n...\n",
       "95      1234\\n567\\n8910111213\\n141516\\n171819\\n202122\\...\n",
       "1266                           1             IN THE SU...\n",
       "1027        ˇ\\n$# ' !\"        \\n \\n   \\n\\n\\n\\n\\n\\n\\n\\n...\n",
       "1055    \\n   ˝ ˚ \\n!\\n)+ . \\n        \\n \\n \\n   \\n\\n\\n...\n",
       "712                                                   ...\n",
       "866                                                   ...\n",
       "408                                              12345...\n",
       "1003          ˆ ˙  ˜ ˆ !ˆ (ˆ * + ˆ   ˆ   ˆ  ˆ  ˆ  ˆ  ˆ...\n",
       "1174                                                  ...\n",
       "592                                                   ...\n",
       "965        ˇ \\n$ ( * +        \\n \\n   \\n\\n\\n\\n\\n\\n\\n\\n...\n",
       "452                                                   ...\n",
       "Name: Document, Length: 259, dtype: object"
      ]
     },
     "execution_count": 140,
     "metadata": {},
     "output_type": "execute_result"
    }
   ],
   "source": [
    "X_test"
   ]
  },
  {
   "cell_type": "code",
   "execution_count": 130,
   "metadata": {},
   "outputs": [
    {
     "data": {
      "text/plain": [
       "0.6833976833976834"
      ]
     },
     "execution_count": 130,
     "metadata": {},
     "output_type": "execute_result"
    }
   ],
   "source": [
    "177/259"
   ]
  },
  {
   "cell_type": "code",
   "execution_count": 126,
   "metadata": {},
   "outputs": [
    {
     "data": {
      "text/plain": [
       "array([0., 0., 1., 1., 1., 1., 1., 1., 1., 1., 1., 1., 1., 1., 1., 0., 0.,\n",
       "       1., 1., 1., 0., 0., 1., 0., 0., 0., 1., 1., 1., 0., 1., 1., 1., 1.,\n",
       "       1., 0., 1., 1., 1., 1., 1., 0., 1., 0., 1., 1., 1., 0., 1., 1., 0.,\n",
       "       0., 1., 0., 1., 1., 1., 1., 1., 1., 1., 0., 1., 1., 0., 1., 0., 1.,\n",
       "       0., 1., 1., 0., 0., 1., 0., 0., 1., 0., 1., 1., 0., 1., 1., 1., 1.,\n",
       "       1., 0., 1., 1., 1., 1., 1., 0., 1., 1., 1., 0., 1., 1., 0., 1., 1.,\n",
       "       1., 0., 1., 0., 1., 1., 0., 0., 1., 1., 0., 1., 1., 1., 1., 1., 1.,\n",
       "       0., 0., 1., 0., 1., 1., 1., 0., 0., 1., 0., 1., 1., 0., 1., 1., 1.,\n",
       "       0., 0., 1., 1., 0., 1., 1., 0., 1., 0., 0., 1., 1., 0., 1., 1., 0.,\n",
       "       1., 1., 1., 0., 1., 1., 1., 0., 1., 1., 1., 1., 1., 0., 0., 1., 1.,\n",
       "       1., 1., 0., 0., 0., 0., 1., 1., 1., 1., 1., 1., 0., 0., 1., 0., 1.,\n",
       "       1., 1., 1., 1., 0., 1., 1., 0., 0., 0., 1., 1., 1., 0., 1., 1., 0.,\n",
       "       1., 1., 1., 1., 1., 0., 1., 1., 0., 1., 1., 0., 1., 0., 1., 1., 1.,\n",
       "       0., 1., 1., 0., 0., 0., 1., 1., 1., 1., 1., 1., 1., 1., 1., 1., 0.,\n",
       "       1., 1., 1., 0., 1., 1., 1., 1., 1., 1., 0., 1., 1., 1., 1., 1., 0.,\n",
       "       0., 1., 0., 1.])"
      ]
     },
     "execution_count": 126,
     "metadata": {},
     "output_type": "execute_result"
    }
   ],
   "source": [
    "y_test"
   ]
  },
  {
   "cell_type": "code",
   "execution_count": 142,
   "metadata": {},
   "outputs": [],
   "source": [
    "def preprocess(data):\n",
    "    reviews_tokens = []\n",
    "    for review in data:\n",
    "        review = review.lower() #Convert to lower-case words\n",
    "        raw_word_tokens = re.findall(r'(?:\\w+)', review,flags = re.UNICODE) #remove pontuaction\n",
    "        word_tokens = [w for w in raw_word_tokens if not w in stop_words] # do not add stop words\n",
    "        reviews_tokens.append(word_tokens)\n",
    "    return reviews_tokens #return all tokens"
   ]
  },
  {
   "cell_type": "code",
   "execution_count": 143,
   "metadata": {},
   "outputs": [],
   "source": [
    "stop_words =['i','me','my','myself','we','our','ours','ourselves','you','your','yours','yourself',\n",
    "            'yourselves','he','him','his','himself','she','her','hers','herself','it','its','itself',\n",
    "            'they','them','their','theirs','themselves','what','which','who','whom','this','that',\n",
    "            'these','those','am','is','are','was','were','be','been','being','have','has','had',\n",
    "            'having','do','does','did','doing','a','an','the','and','but','if','or','because','as',\n",
    "            'until','while','of','at','by','for','with','about','against','between','into','through',\n",
    "            'during','before','after','above','below','to','from','up','down','in','out','on','off',\n",
    "            'over','under','again','further','then','once','here','there','when','where','why','how',\n",
    "            'all','any','both','each','few','more','most','other','some','such','no','nor','not',\n",
    "            'only','own','same','so','than','too','very','s','t','can','will','just','don','should',\n",
    "            'now','uses','use','using','used','one','also']"
   ]
  },
  {
   "cell_type": "code",
   "execution_count": 144,
   "metadata": {},
   "outputs": [],
   "source": [
    "def make_word_bag(data):\n",
    "    corpus = preprocess(data)\n",
    "    bag_of_words = {}\n",
    "    word_count = 0\n",
    "    for sentence in corpus:\n",
    "        for word in sentence:\n",
    "            if word not in bag_of_words: \n",
    "                bag_of_words[word] = word_count #set indexes\n",
    "                word_count+=1\n",
    "    return bag_of_words #index of letters\n",
    "\n",
    "bag_of_words = make_word_bag(Text.Document)"
   ]
  },
  {
   "cell_type": "code",
   "execution_count": 145,
   "metadata": {},
   "outputs": [],
   "source": [
    "def features(sentence_tokens,bag_of_words):\n",
    "    sentence_features = [0 for x in range(len(bag_of_words))]\n",
    " \n",
    "    for word in sentence_tokens:\n",
    "        index = bag_of_words[word]\n",
    "        sentence_features[index] +=1\n",
    "    return sentence_features"
   ]
  },
  {
   "cell_type": "code",
   "execution_count": 146,
   "metadata": {},
   "outputs": [],
   "source": [
    "def get_rev_features(data,bag_of_words):\n",
    "    review_features = []\n",
    "    reviews_text_tokens = preprocess(data)\n",
    "    for review_text in reviews_text_tokens:\n",
    "        feature_review_text = features(review_text,bag_of_words)\n",
    "        review_features.append(feature_review_text)\n",
    "    return review_features\n",
    " \n",
    "rev_features = get_rev_features(Text.Document,bag_of_words)"
   ]
  },
  {
   "cell_type": "code",
   "execution_count": 147,
   "metadata": {},
   "outputs": [],
   "source": [
    "X_train, X_test, y_train, y_test = train_test_split( rev_features, Labels, test_size=0.2, random_state=23)"
   ]
  },
  {
   "cell_type": "code",
   "execution_count": 154,
   "metadata": {},
   "outputs": [
    {
     "name": "stderr",
     "output_type": "stream",
     "text": [
      "DataConversionWarning: A column-vector y was passed when a 1d array was expected. Please change the shape of y to (n_samples, ), for example using ravel(). [validation.py:761]\n"
     ]
    },
    {
     "name": "stdout",
     "output_type": "stream",
     "text": [
      "accuracy:   0.587\n"
     ]
    }
   ],
   "source": [
    "clf2 = MultinomialNB(alpha=.01)\n",
    " \n",
    "clf2.fit(X_train, y_train)\n",
    " \n",
    "pred = clf2.predict(X_test)\n",
    "score = metrics.accuracy_score(y_test, pred)\n",
    "print(\"accuracy:   %0.3f\" % score)"
   ]
  },
  {
   "cell_type": "code",
   "execution_count": 153,
   "metadata": {},
   "outputs": [],
   "source": [
    "from sklearn.naive_bayes import BernoulliNB, MultinomialNB\n",
    "from sklearn import metrics"
   ]
  },
  {
   "cell_type": "code",
   "execution_count": null,
   "metadata": {},
   "outputs": [],
   "source": []
  }
 ],
 "metadata": {
  "kernelspec": {
   "display_name": "Python 3",
   "language": "python",
   "name": "python3"
  },
  "language_info": {
   "codemirror_mode": {
    "name": "ipython",
    "version": 3
   },
   "file_extension": ".py",
   "mimetype": "text/x-python",
   "name": "python",
   "nbconvert_exporter": "python",
   "pygments_lexer": "ipython3",
   "version": "3.7.1"
  }
 },
 "nbformat": 4,
 "nbformat_minor": 2
}
